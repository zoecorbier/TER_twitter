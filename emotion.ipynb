{
 "cells": [
  {
   "cell_type": "code",
   "execution_count": 3,
   "metadata": {},
   "outputs": [],
   "source": [
    "import pandas as pd\r\n",
    "import numpy as np\r\n",
    "import matplotlib as plt\r\n",
    "import spacy\r\n",
    "spacy.prefer_gpu()\r\n",
    "nlp = spacy.load(\"en_core_web_sm\")"
   ]
  },
  {
   "cell_type": "markdown",
   "metadata": {},
   "source": [
    "Obtention des données"
   ]
  },
  {
   "cell_type": "code",
   "execution_count": 6,
   "metadata": {},
   "outputs": [
    {
     "name": "stdout",
     "output_type": "stream",
     "text": [
      "Connexion réussie <bound method MongoClient.database_names of MongoClient(host=['application-shard-00-02.wl73u.mongodb.net:27017', 'application-shard-00-00.wl73u.mongodb.net:27017', 'application-shard-00-01.wl73u.mongodb.net:27017'], document_class=dict, tz_aware=False, connect=True, retrywrites=True, w='majority', authsource='admin', replicaset='atlas-n3r5s8-shard-0', ssl=True)>\n"
     ]
    }
   ],
   "source": [
    "import Outils.data_extraction.mongo_db as mg\r\n",
    "tweet = mg.connection().tweet"
   ]
  },
  {
   "cell_type": "code",
   "execution_count": 5,
   "metadata": {},
   "outputs": [],
   "source": [
    "def create_set(tweet,nom):\r\n",
    "    df=[]\r\n",
    "    for i in tweet.tweets.find({\"critic_word\":nom}):\r\n",
    "        row=[]\r\n",
    "        row.append(mg.bson_to_json_file(i)['user_id'])\r\n",
    "        row.append(mg.bson_to_json_file(i)['id'])\r\n",
    "        row.append(mg.bson_to_json_file(i)['text'])\r\n",
    "        df.append(row)\r\n",
    "    df=pd.DataFrame(df,columns=[\"id_user\",\"id\",\"text\"])\r\n",
    "    return df.drop_duplicates(subset=\"text\",ignore_index=True)\r\n"
   ]
  },
  {
   "cell_type": "code",
   "execution_count": 19,
   "metadata": {},
   "outputs": [
    {
     "data": {
      "text/plain": "'feel alone depressed'"
     },
     "execution_count": 19,
     "metadata": {},
     "output_type": "execute_result"
    }
   ],
   "source": [
    "nom = tweet.tweets.find({\"critic_word\":'feel alone depressed'})\r\n",
    "mg.bson_to_json_file(name)"
   ]
  },
  {
   "cell_type": "code",
   "execution_count": 7,
   "metadata": {},
   "outputs": [],
   "source": [
    "name='feel alone depressed'\r\n",
    "data=create_set(tweet,name)"
   ]
  },
  {
   "cell_type": "code",
   "execution_count": 39,
   "metadata": {},
   "outputs": [],
   "source": [
    "data.to_pickle('synthese_emotion/syntese '+name+'.pkl')"
   ]
  },
  {
   "cell_type": "code",
   "execution_count": 22,
   "metadata": {},
   "outputs": [],
   "source": [
    "def name_to_pickle(name,tweet):\r\n",
    "    data=create_set(tweet,name)\r\n",
    "    data.to_pickle('synthese_emotion/syntese '+name+'.pkl')"
   ]
  },
  {
   "cell_type": "code",
   "execution_count": 13,
   "metadata": {},
   "outputs": [],
   "source": [
    "list_search_words = [\"feel alone depressed\",\"i feel helpless\", \"i feel sad\",\"i feel empty\",\"sleeping a lot lately\",\"i feel irritable\",\r\n",
    "    \"depressed alcohol\",\"sertraline\",\"Zoloft\",\"Prozac\",\"pills depressed\",\"suicide once more\", \"pain suicide\",\"mom suicide tried\",\"friend suicide\",\"sister suicide tried\",\"Brother suicide tried\",\r\n",
    "    \"suicide attempted sister\", \"thought suicide before\", \"had thoughts suicide\",\"had thoughts killing myself\", \"i want to commit suicide\", \"stop cutting myself\",\r\n",
    "    \"i'm being bullied\", \"feel bullied i'm\", \"stop bullying me\",\"always getting bullied\", \"gun suicide\", \"been diagnosed anorexia\", \"i diagnosed OCD\", \"I diagnosed bipolar\",\r\n",
    "    \"dad fight again\", \"parents fight again\", \"i impulsive\", \"i'm impulsive\"]"
   ]
  },
  {
   "cell_type": "code",
   "execution_count": 45,
   "metadata": {},
   "outputs": [],
   "source": [
    "for i in list_search_words:\r\n",
    "    name_to_pickle(i, tweet)"
   ]
  },
  {
   "cell_type": "code",
   "execution_count": 20,
   "metadata": {},
   "outputs": [
    {
     "data": {
      "text/html": "<div>\n<style scoped>\n    .dataframe tbody tr th:only-of-type {\n        vertical-align: middle;\n    }\n\n    .dataframe tbody tr th {\n        vertical-align: top;\n    }\n\n    .dataframe thead th {\n        text-align: right;\n    }\n</style>\n<table border=\"1\" class=\"dataframe\">\n  <thead>\n    <tr style=\"text-align: right;\">\n      <th></th>\n      <th>id_user</th>\n      <th>id</th>\n      <th>text</th>\n    </tr>\n  </thead>\n  <tbody>\n    <tr>\n      <th>0</th>\n      <td>1019298542</td>\n      <td>1206348731341312002</td>\n      <td>For me... when depressed food is what you call...</td>\n    </tr>\n    <tr>\n      <th>1</th>\n      <td>1363224626</td>\n      <td>1206348398753910787</td>\n      <td>RT @emo_daydream: Am i depressed on Sundays fr...</td>\n    </tr>\n    <tr>\n      <th>2</th>\n      <td>335429185</td>\n      <td>1206346296250052610</td>\n      <td>Am i depressed on Sundays from the alcohol or ...</td>\n    </tr>\n    <tr>\n      <th>3</th>\n      <td>1528609417</td>\n      <td>1206336958907203591</td>\n      <td>The hard part about a broken heart is that no ...</td>\n    </tr>\n    <tr>\n      <th>4</th>\n      <td>976210406304813056</td>\n      <td>1206297878509031425</td>\n      <td>RT @Suhail: The portrayal of alcohol in entert...</td>\n    </tr>\n    <tr>\n      <th>...</th>\n      <td>...</td>\n      <td>...</td>\n      <td>...</td>\n    </tr>\n    <tr>\n      <th>259</th>\n      <td>15318541</td>\n      <td>1238133060941615107</td>\n      <td>If you’re depressed and anxious about our fuck...</td>\n    </tr>\n    <tr>\n      <th>260</th>\n      <td>716136265</td>\n      <td>1238129165972516865</td>\n      <td>We Are a depressed generation hiding behind Al...</td>\n    </tr>\n    <tr>\n      <th>261</th>\n      <td>909272440739528706</td>\n      <td>1238128026291965952</td>\n      <td>@MarkoftheWest @Sigebrand How ironic is it tha...</td>\n    </tr>\n    <tr>\n      <th>262</th>\n      <td>182756674</td>\n      <td>1238102203937837056</td>\n      <td>@AlexWhite1812 @RobinWigg My advice would be t...</td>\n    </tr>\n    <tr>\n      <th>263</th>\n      <td>454433725</td>\n      <td>1238099811657822209</td>\n      <td>not going to get sick. no virus can live in a ...</td>\n    </tr>\n  </tbody>\n</table>\n<p>264 rows × 3 columns</p>\n</div>",
      "text/plain": "                id_user                   id  \\\n0            1019298542  1206348731341312002   \n1            1363224626  1206348398753910787   \n2             335429185  1206346296250052610   \n3            1528609417  1206336958907203591   \n4    976210406304813056  1206297878509031425   \n..                  ...                  ...   \n259            15318541  1238133060941615107   \n260           716136265  1238129165972516865   \n261  909272440739528706  1238128026291965952   \n262           182756674  1238102203937837056   \n263           454433725  1238099811657822209   \n\n                                                  text  \n0    For me... when depressed food is what you call...  \n1    RT @emo_daydream: Am i depressed on Sundays fr...  \n2    Am i depressed on Sundays from the alcohol or ...  \n3    The hard part about a broken heart is that no ...  \n4    RT @Suhail: The portrayal of alcohol in entert...  \n..                                                 ...  \n259  If you’re depressed and anxious about our fuck...  \n260  We Are a depressed generation hiding behind Al...  \n261  @MarkoftheWest @Sigebrand How ironic is it tha...  \n262  @AlexWhite1812 @RobinWigg My advice would be t...  \n263  not going to get sick. no virus can live in a ...  \n\n[264 rows x 3 columns]"
     },
     "execution_count": 20,
     "metadata": {},
     "output_type": "execute_result"
    }
   ],
   "source": [
    "pd.read_pickle('synthese_emotion\\syntese depressed alcohol.pkl')"
   ]
  },
  {
   "cell_type": "markdown",
   "metadata": {},
   "source": [
    "Analyse"
   ]
  },
  {
   "cell_type": "code",
   "execution_count": 22,
   "metadata": {},
   "outputs": [],
   "source": [
    "filename='critic_word_feel_alone_depressed.pkl'"
   ]
  },
  {
   "cell_type": "code",
   "execution_count": 104,
   "metadata": {},
   "outputs": [],
   "source": [
    "df = pd.read_csv('emotion.csv', sep=';')\r\n",
    "tweet_set=pd.read_pickle(filename)"
   ]
  },
  {
   "cell_type": "code",
   "execution_count": 89,
   "metadata": {},
   "outputs": [],
   "source": [
    "def emotion_phrase(phrase):\r\n",
    "    liste_emotion = []\r\n",
    "    phrase = nlp(phrase)\r\n",
    "    for token in phrase:\r\n",
    "        mot = token.text\r\n",
    "        for i in range(len(df)):\r\n",
    "            if(df.loc[i, 'English (en)'] == mot):\r\n",
    "                liste_emotion.append(df.loc[i,:].tolist())\r\n",
    "    return pd.DataFrame(liste_emotion, columns=['English (en)', 'Positive' ,'Negative','Anger', 'Anticipation', 'Disgust', 'Fear', 'Joy', 'Sadness', 'Surprise', 'Trust'])\r\n",
    "\r\n",
    "def boucle_ensemble_tweet(df):\r\n",
    "    result_df= pd.DataFrame(columns=['English (en)', 'Positive' ,'Negative','Anger', 'Anticipation', 'Disgust', 'Fear', 'Joy', 'Sadness', 'Surprise', 'Trust','id'])\r\n",
    "    #emotion_df=pd.DataFrame(columns=['Anger', 'Anticipation', 'Disgust', 'Fear', 'Joy', 'Sadness', 'Surprise', 'Trust','id'])\r\n",
    "    #positivite_df=pd.DataFrame(columns=['Positive' ,'Negative','id'])\r\n",
    "    for i in range(len(df)):\r\n",
    "        text=df.iloc[i,2]\r\n",
    "        resultat= emotion_phrase(text)\r\n",
    "        resultat = resultat.sum()\r\n",
    "        resultat = pd.DataFrame(resultat).transpose()\r\n",
    "        resultat['id']=df.iloc[i,1]\r\n",
    "        result_df=result_df.append(resultat,ignore_index=True)\r\n",
    "\r\n",
    "    return result_df\r\n",
    "\r\n",
    "#Probabilité\r\n",
    "def probabilisation_emotion(df):\r\n",
    "    emotion_df = pd.DataFrame(columns=['Anger', 'Anticipation', 'Disgust', 'Fear', 'Joy', 'Sadness', 'Surprise', 'Trust','id'])\r\n",
    "    for i in range(len(df)):\r\n",
    "        line = df[['Anger', 'Anticipation', 'Disgust', 'Fear', 'Joy', 'Sadness', 'Surprise', 'Trust']].iloc[i]\r\n",
    "        try :\r\n",
    "            line = line / line.sum()\r\n",
    "        except ZeroDivisionError:\r\n",
    "            print('Division')\r\n",
    "        line['id']=df[['id']].iloc[i]\r\n",
    "        emotion_df = emotion_df.append(line,ignore_index=True)\r\n",
    "    return emotion_df"
   ]
  },
  {
   "cell_type": "code",
   "execution_count": 91,
   "metadata": {},
   "outputs": [
    {
     "data": {
      "text/plain": "'Job seeking can be incredibly stressful.\\n\\nIt can make you feel lost.\\n\\nHurt.\\n\\nAlone.\\n\\nNeed I say, depressed.\\n\\nMany o… https://t.co/XOVbx4fJFQ'"
     },
     "execution_count": 91,
     "metadata": {},
     "output_type": "execute_result"
    }
   ],
   "source": [
    "tweet_set.iloc[1,2]"
   ]
  },
  {
   "cell_type": "code",
   "execution_count": 123,
   "metadata": {},
   "outputs": [],
   "source": [
    "df = emotion_phrase(tweet_set.iloc[10,2])"
   ]
  },
  {
   "cell_type": "code",
   "execution_count": 119,
   "metadata": {},
   "outputs": [
    {
     "data": {
      "text/html": "<div>\n<style scoped>\n    .dataframe tbody tr th:only-of-type {\n        vertical-align: middle;\n    }\n\n    .dataframe tbody tr th {\n        vertical-align: top;\n    }\n\n    .dataframe thead th {\n        text-align: right;\n    }\n</style>\n<table border=\"1\" class=\"dataframe\">\n  <thead>\n    <tr style=\"text-align: right;\">\n      <th></th>\n      <th>English (en)</th>\n      <th>Positive</th>\n      <th>Negative</th>\n      <th>Anger</th>\n      <th>Anticipation</th>\n      <th>Disgust</th>\n      <th>Fear</th>\n      <th>Joy</th>\n      <th>Sadness</th>\n      <th>Surprise</th>\n      <th>Trust</th>\n    </tr>\n  </thead>\n  <tbody>\n    <tr>\n      <th>0</th>\n      <td>feel</td>\n      <td>0</td>\n      <td>0</td>\n      <td>0</td>\n      <td>0</td>\n      <td>0</td>\n      <td>0</td>\n      <td>0</td>\n      <td>0</td>\n      <td>0</td>\n      <td>0</td>\n    </tr>\n    <tr>\n      <th>1</th>\n      <td>depressed</td>\n      <td>0</td>\n      <td>1</td>\n      <td>1</td>\n      <td>0</td>\n      <td>0</td>\n      <td>1</td>\n      <td>0</td>\n      <td>1</td>\n      <td>0</td>\n      <td>0</td>\n    </tr>\n  </tbody>\n</table>\n</div>",
      "text/plain": "  English (en)  Positive  Negative  Anger  Anticipation  Disgust  Fear  Joy  \\\n0         feel         0         0      0             0        0     0    0   \n1    depressed         0         1      1             0        0     1    0   \n\n   Sadness  Surprise  Trust  \n0        0         0      0  \n1        1         0      0  "
     },
     "execution_count": 119,
     "metadata": {},
     "output_type": "execute_result"
    }
   ],
   "source": [
    "df"
   ]
  },
  {
   "cell_type": "code",
   "execution_count": 65,
   "metadata": {},
   "outputs": [],
   "source": [
    "df=df[['English (en)','Anger', 'Anticipation', 'Disgust', 'Fear', 'Joy', 'Sadness', 'Surprise', 'Trust']]"
   ]
  },
  {
   "cell_type": "code",
   "execution_count": 120,
   "metadata": {},
   "outputs": [
    {
     "data": {
      "text/html": "<div>\n<style scoped>\n    .dataframe tbody tr th:only-of-type {\n        vertical-align: middle;\n    }\n\n    .dataframe tbody tr th {\n        vertical-align: top;\n    }\n\n    .dataframe thead th {\n        text-align: right;\n    }\n</style>\n<table border=\"1\" class=\"dataframe\">\n  <thead>\n    <tr style=\"text-align: right;\">\n      <th></th>\n      <th>English (en)</th>\n      <th>Emotion</th>\n      <th>value</th>\n    </tr>\n  </thead>\n  <tbody>\n    <tr>\n      <th>0</th>\n      <td>feel</td>\n      <td>Positive</td>\n      <td>0</td>\n    </tr>\n    <tr>\n      <th>1</th>\n      <td>depressed</td>\n      <td>Positive</td>\n      <td>0</td>\n    </tr>\n    <tr>\n      <th>2</th>\n      <td>feel</td>\n      <td>Negative</td>\n      <td>0</td>\n    </tr>\n    <tr>\n      <th>3</th>\n      <td>depressed</td>\n      <td>Negative</td>\n      <td>1</td>\n    </tr>\n    <tr>\n      <th>4</th>\n      <td>feel</td>\n      <td>Anger</td>\n      <td>0</td>\n    </tr>\n    <tr>\n      <th>5</th>\n      <td>depressed</td>\n      <td>Anger</td>\n      <td>1</td>\n    </tr>\n    <tr>\n      <th>6</th>\n      <td>feel</td>\n      <td>Anticipation</td>\n      <td>0</td>\n    </tr>\n    <tr>\n      <th>7</th>\n      <td>depressed</td>\n      <td>Anticipation</td>\n      <td>0</td>\n    </tr>\n    <tr>\n      <th>8</th>\n      <td>feel</td>\n      <td>Disgust</td>\n      <td>0</td>\n    </tr>\n    <tr>\n      <th>9</th>\n      <td>depressed</td>\n      <td>Disgust</td>\n      <td>0</td>\n    </tr>\n    <tr>\n      <th>10</th>\n      <td>feel</td>\n      <td>Fear</td>\n      <td>0</td>\n    </tr>\n    <tr>\n      <th>11</th>\n      <td>depressed</td>\n      <td>Fear</td>\n      <td>1</td>\n    </tr>\n    <tr>\n      <th>12</th>\n      <td>feel</td>\n      <td>Joy</td>\n      <td>0</td>\n    </tr>\n    <tr>\n      <th>13</th>\n      <td>depressed</td>\n      <td>Joy</td>\n      <td>0</td>\n    </tr>\n    <tr>\n      <th>14</th>\n      <td>feel</td>\n      <td>Sadness</td>\n      <td>0</td>\n    </tr>\n    <tr>\n      <th>15</th>\n      <td>depressed</td>\n      <td>Sadness</td>\n      <td>1</td>\n    </tr>\n    <tr>\n      <th>16</th>\n      <td>feel</td>\n      <td>Surprise</td>\n      <td>0</td>\n    </tr>\n    <tr>\n      <th>17</th>\n      <td>depressed</td>\n      <td>Surprise</td>\n      <td>0</td>\n    </tr>\n    <tr>\n      <th>18</th>\n      <td>feel</td>\n      <td>Trust</td>\n      <td>0</td>\n    </tr>\n    <tr>\n      <th>19</th>\n      <td>depressed</td>\n      <td>Trust</td>\n      <td>0</td>\n    </tr>\n  </tbody>\n</table>\n</div>",
      "text/plain": "   English (en)       Emotion  value\n0          feel      Positive      0\n1     depressed      Positive      0\n2          feel      Negative      0\n3     depressed      Negative      1\n4          feel         Anger      0\n5     depressed         Anger      1\n6          feel  Anticipation      0\n7     depressed  Anticipation      0\n8          feel       Disgust      0\n9     depressed       Disgust      0\n10         feel          Fear      0\n11    depressed          Fear      1\n12         feel           Joy      0\n13    depressed           Joy      0\n14         feel       Sadness      0\n15    depressed       Sadness      1\n16         feel      Surprise      0\n17    depressed      Surprise      0\n18         feel         Trust      0\n19    depressed         Trust      0"
     },
     "execution_count": 120,
     "metadata": {},
     "output_type": "execute_result"
    }
   ],
   "source": [
    "new_df=pd.melt(df,id_vars=\"English (en)\",value_vars=list(df.columns[1:]),var_name=\"Emotion\")\r\n",
    "new_df"
   ]
  },
  {
   "cell_type": "code",
   "execution_count": 121,
   "metadata": {},
   "outputs": [
    {
     "data": {
      "text/html": "<div>\n<style scoped>\n    .dataframe tbody tr th:only-of-type {\n        vertical-align: middle;\n    }\n\n    .dataframe tbody tr th {\n        vertical-align: top;\n    }\n\n    .dataframe thead th {\n        text-align: right;\n    }\n</style>\n<table border=\"1\" class=\"dataframe\">\n  <thead>\n    <tr style=\"text-align: right;\">\n      <th></th>\n      <th>English (en)</th>\n      <th>Emotion</th>\n    </tr>\n  </thead>\n  <tbody>\n    <tr>\n      <th>3</th>\n      <td>depressed</td>\n      <td>Negative</td>\n    </tr>\n    <tr>\n      <th>5</th>\n      <td>depressed</td>\n      <td>Anger</td>\n    </tr>\n    <tr>\n      <th>11</th>\n      <td>depressed</td>\n      <td>Fear</td>\n    </tr>\n    <tr>\n      <th>15</th>\n      <td>depressed</td>\n      <td>Sadness</td>\n    </tr>\n  </tbody>\n</table>\n</div>",
      "text/plain": "   English (en)   Emotion\n3     depressed  Negative\n5     depressed     Anger\n11    depressed      Fear\n15    depressed   Sadness"
     },
     "execution_count": 121,
     "metadata": {},
     "output_type": "execute_result"
    }
   ],
   "source": [
    "without_0=new_df[new_df[\"value\"]!=0].iloc[:,:-1]\r\n",
    "without_0"
   ]
  },
  {
   "cell_type": "code",
   "execution_count": null,
   "metadata": {},
   "outputs": [],
   "source": [
    "df[['Anger', 'Anticipation', 'Disgust', 'Fear', 'Joy', 'Sadness', 'Surprise', 'Trust']]\r\n",
    "new_df=df[['English (en)','Anger', 'Anticipation', 'Disgust', 'Fear', 'Joy', 'Sadness', 'Surprise', 'Trust']]\r\n",
    "import plotly_express as px\r\n",
    "import plotly.io as plt"
   ]
  },
  {
   "cell_type": "code",
   "execution_count": 46,
   "metadata": {},
   "outputs": [],
   "source": [
    "def emotion_phrase(phrase):\r\n",
    "    liste_emotion = []\r\n",
    "    phrase = nlp(phrase)\r\n",
    "    for token in phrase:\r\n",
    "        mot = token.text\r\n",
    "        for i in range(len(df)):\r\n",
    "            if(df.loc[i, 'English (en)'] == mot):\r\n",
    "                liste_emotion.append(df.loc[i,:].tolist())\r\n",
    "    return pd.DataFrame(liste_emotion, columns=['English (en)', 'Positive' ,'Negative','Anger', 'Anticipation', 'Disgust', 'Fear', 'Joy', 'Sadness', 'Surprise', 'Trust'])\r\n",
    "\r\n",
    "\r\n",
    "\r\n"
   ]
  },
  {
   "cell_type": "code",
   "execution_count": 122,
   "metadata": {},
   "outputs": [
    {
     "data": {
      "application/vnd.plotly.v1+json": {
       "config": {
        "plotlyServerURL": "https://plot.ly"
       },
       "data": [
        {
         "dimensions": [
          {
           "label": "English (en)",
           "values": [
            "depressed",
            "depressed",
            "depressed",
            "depressed"
           ]
          },
          {
           "label": "Emotion",
           "values": [
            "Negative",
            "Anger",
            "Fear",
            "Sadness"
           ]
          }
         ],
         "domain": {
          "x": [
           0,
           1
          ],
          "y": [
           0,
           1
          ]
         },
         "name": "",
         "type": "parcats"
        }
       ],
       "layout": {
        "legend": {
         "tracegroupgap": 0
        },
        "margin": {
         "t": 60
        },
        "template": {
         "data": {
          "bar": [
           {
            "error_x": {
             "color": "#2a3f5f"
            },
            "error_y": {
             "color": "#2a3f5f"
            },
            "marker": {
             "line": {
              "color": "#E5ECF6",
              "width": 0.5
             }
            },
            "type": "bar"
           }
          ],
          "barpolar": [
           {
            "marker": {
             "line": {
              "color": "#E5ECF6",
              "width": 0.5
             }
            },
            "type": "barpolar"
           }
          ],
          "carpet": [
           {
            "aaxis": {
             "endlinecolor": "#2a3f5f",
             "gridcolor": "white",
             "linecolor": "white",
             "minorgridcolor": "white",
             "startlinecolor": "#2a3f5f"
            },
            "baxis": {
             "endlinecolor": "#2a3f5f",
             "gridcolor": "white",
             "linecolor": "white",
             "minorgridcolor": "white",
             "startlinecolor": "#2a3f5f"
            },
            "type": "carpet"
           }
          ],
          "choropleth": [
           {
            "colorbar": {
             "outlinewidth": 0,
             "ticks": ""
            },
            "type": "choropleth"
           }
          ],
          "contour": [
           {
            "colorbar": {
             "outlinewidth": 0,
             "ticks": ""
            },
            "colorscale": [
             [
              0,
              "#0d0887"
             ],
             [
              0.1111111111111111,
              "#46039f"
             ],
             [
              0.2222222222222222,
              "#7201a8"
             ],
             [
              0.3333333333333333,
              "#9c179e"
             ],
             [
              0.4444444444444444,
              "#bd3786"
             ],
             [
              0.5555555555555556,
              "#d8576b"
             ],
             [
              0.6666666666666666,
              "#ed7953"
             ],
             [
              0.7777777777777778,
              "#fb9f3a"
             ],
             [
              0.8888888888888888,
              "#fdca26"
             ],
             [
              1,
              "#f0f921"
             ]
            ],
            "type": "contour"
           }
          ],
          "contourcarpet": [
           {
            "colorbar": {
             "outlinewidth": 0,
             "ticks": ""
            },
            "type": "contourcarpet"
           }
          ],
          "heatmap": [
           {
            "colorbar": {
             "outlinewidth": 0,
             "ticks": ""
            },
            "colorscale": [
             [
              0,
              "#0d0887"
             ],
             [
              0.1111111111111111,
              "#46039f"
             ],
             [
              0.2222222222222222,
              "#7201a8"
             ],
             [
              0.3333333333333333,
              "#9c179e"
             ],
             [
              0.4444444444444444,
              "#bd3786"
             ],
             [
              0.5555555555555556,
              "#d8576b"
             ],
             [
              0.6666666666666666,
              "#ed7953"
             ],
             [
              0.7777777777777778,
              "#fb9f3a"
             ],
             [
              0.8888888888888888,
              "#fdca26"
             ],
             [
              1,
              "#f0f921"
             ]
            ],
            "type": "heatmap"
           }
          ],
          "heatmapgl": [
           {
            "colorbar": {
             "outlinewidth": 0,
             "ticks": ""
            },
            "colorscale": [
             [
              0,
              "#0d0887"
             ],
             [
              0.1111111111111111,
              "#46039f"
             ],
             [
              0.2222222222222222,
              "#7201a8"
             ],
             [
              0.3333333333333333,
              "#9c179e"
             ],
             [
              0.4444444444444444,
              "#bd3786"
             ],
             [
              0.5555555555555556,
              "#d8576b"
             ],
             [
              0.6666666666666666,
              "#ed7953"
             ],
             [
              0.7777777777777778,
              "#fb9f3a"
             ],
             [
              0.8888888888888888,
              "#fdca26"
             ],
             [
              1,
              "#f0f921"
             ]
            ],
            "type": "heatmapgl"
           }
          ],
          "histogram": [
           {
            "marker": {
             "colorbar": {
              "outlinewidth": 0,
              "ticks": ""
             }
            },
            "type": "histogram"
           }
          ],
          "histogram2d": [
           {
            "colorbar": {
             "outlinewidth": 0,
             "ticks": ""
            },
            "colorscale": [
             [
              0,
              "#0d0887"
             ],
             [
              0.1111111111111111,
              "#46039f"
             ],
             [
              0.2222222222222222,
              "#7201a8"
             ],
             [
              0.3333333333333333,
              "#9c179e"
             ],
             [
              0.4444444444444444,
              "#bd3786"
             ],
             [
              0.5555555555555556,
              "#d8576b"
             ],
             [
              0.6666666666666666,
              "#ed7953"
             ],
             [
              0.7777777777777778,
              "#fb9f3a"
             ],
             [
              0.8888888888888888,
              "#fdca26"
             ],
             [
              1,
              "#f0f921"
             ]
            ],
            "type": "histogram2d"
           }
          ],
          "histogram2dcontour": [
           {
            "colorbar": {
             "outlinewidth": 0,
             "ticks": ""
            },
            "colorscale": [
             [
              0,
              "#0d0887"
             ],
             [
              0.1111111111111111,
              "#46039f"
             ],
             [
              0.2222222222222222,
              "#7201a8"
             ],
             [
              0.3333333333333333,
              "#9c179e"
             ],
             [
              0.4444444444444444,
              "#bd3786"
             ],
             [
              0.5555555555555556,
              "#d8576b"
             ],
             [
              0.6666666666666666,
              "#ed7953"
             ],
             [
              0.7777777777777778,
              "#fb9f3a"
             ],
             [
              0.8888888888888888,
              "#fdca26"
             ],
             [
              1,
              "#f0f921"
             ]
            ],
            "type": "histogram2dcontour"
           }
          ],
          "mesh3d": [
           {
            "colorbar": {
             "outlinewidth": 0,
             "ticks": ""
            },
            "type": "mesh3d"
           }
          ],
          "parcoords": [
           {
            "line": {
             "colorbar": {
              "outlinewidth": 0,
              "ticks": ""
             }
            },
            "type": "parcoords"
           }
          ],
          "pie": [
           {
            "automargin": true,
            "type": "pie"
           }
          ],
          "scatter": [
           {
            "marker": {
             "colorbar": {
              "outlinewidth": 0,
              "ticks": ""
             }
            },
            "type": "scatter"
           }
          ],
          "scatter3d": [
           {
            "line": {
             "colorbar": {
              "outlinewidth": 0,
              "ticks": ""
             }
            },
            "marker": {
             "colorbar": {
              "outlinewidth": 0,
              "ticks": ""
             }
            },
            "type": "scatter3d"
           }
          ],
          "scattercarpet": [
           {
            "marker": {
             "colorbar": {
              "outlinewidth": 0,
              "ticks": ""
             }
            },
            "type": "scattercarpet"
           }
          ],
          "scattergeo": [
           {
            "marker": {
             "colorbar": {
              "outlinewidth": 0,
              "ticks": ""
             }
            },
            "type": "scattergeo"
           }
          ],
          "scattergl": [
           {
            "marker": {
             "colorbar": {
              "outlinewidth": 0,
              "ticks": ""
             }
            },
            "type": "scattergl"
           }
          ],
          "scattermapbox": [
           {
            "marker": {
             "colorbar": {
              "outlinewidth": 0,
              "ticks": ""
             }
            },
            "type": "scattermapbox"
           }
          ],
          "scatterpolar": [
           {
            "marker": {
             "colorbar": {
              "outlinewidth": 0,
              "ticks": ""
             }
            },
            "type": "scatterpolar"
           }
          ],
          "scatterpolargl": [
           {
            "marker": {
             "colorbar": {
              "outlinewidth": 0,
              "ticks": ""
             }
            },
            "type": "scatterpolargl"
           }
          ],
          "scatterternary": [
           {
            "marker": {
             "colorbar": {
              "outlinewidth": 0,
              "ticks": ""
             }
            },
            "type": "scatterternary"
           }
          ],
          "surface": [
           {
            "colorbar": {
             "outlinewidth": 0,
             "ticks": ""
            },
            "colorscale": [
             [
              0,
              "#0d0887"
             ],
             [
              0.1111111111111111,
              "#46039f"
             ],
             [
              0.2222222222222222,
              "#7201a8"
             ],
             [
              0.3333333333333333,
              "#9c179e"
             ],
             [
              0.4444444444444444,
              "#bd3786"
             ],
             [
              0.5555555555555556,
              "#d8576b"
             ],
             [
              0.6666666666666666,
              "#ed7953"
             ],
             [
              0.7777777777777778,
              "#fb9f3a"
             ],
             [
              0.8888888888888888,
              "#fdca26"
             ],
             [
              1,
              "#f0f921"
             ]
            ],
            "type": "surface"
           }
          ],
          "table": [
           {
            "cells": {
             "fill": {
              "color": "#EBF0F8"
             },
             "line": {
              "color": "white"
             }
            },
            "header": {
             "fill": {
              "color": "#C8D4E3"
             },
             "line": {
              "color": "white"
             }
            },
            "type": "table"
           }
          ]
         },
         "layout": {
          "annotationdefaults": {
           "arrowcolor": "#2a3f5f",
           "arrowhead": 0,
           "arrowwidth": 1
          },
          "autotypenumbers": "strict",
          "coloraxis": {
           "colorbar": {
            "outlinewidth": 0,
            "ticks": ""
           }
          },
          "colorscale": {
           "diverging": [
            [
             0,
             "#8e0152"
            ],
            [
             0.1,
             "#c51b7d"
            ],
            [
             0.2,
             "#de77ae"
            ],
            [
             0.3,
             "#f1b6da"
            ],
            [
             0.4,
             "#fde0ef"
            ],
            [
             0.5,
             "#f7f7f7"
            ],
            [
             0.6,
             "#e6f5d0"
            ],
            [
             0.7,
             "#b8e186"
            ],
            [
             0.8,
             "#7fbc41"
            ],
            [
             0.9,
             "#4d9221"
            ],
            [
             1,
             "#276419"
            ]
           ],
           "sequential": [
            [
             0,
             "#0d0887"
            ],
            [
             0.1111111111111111,
             "#46039f"
            ],
            [
             0.2222222222222222,
             "#7201a8"
            ],
            [
             0.3333333333333333,
             "#9c179e"
            ],
            [
             0.4444444444444444,
             "#bd3786"
            ],
            [
             0.5555555555555556,
             "#d8576b"
            ],
            [
             0.6666666666666666,
             "#ed7953"
            ],
            [
             0.7777777777777778,
             "#fb9f3a"
            ],
            [
             0.8888888888888888,
             "#fdca26"
            ],
            [
             1,
             "#f0f921"
            ]
           ],
           "sequentialminus": [
            [
             0,
             "#0d0887"
            ],
            [
             0.1111111111111111,
             "#46039f"
            ],
            [
             0.2222222222222222,
             "#7201a8"
            ],
            [
             0.3333333333333333,
             "#9c179e"
            ],
            [
             0.4444444444444444,
             "#bd3786"
            ],
            [
             0.5555555555555556,
             "#d8576b"
            ],
            [
             0.6666666666666666,
             "#ed7953"
            ],
            [
             0.7777777777777778,
             "#fb9f3a"
            ],
            [
             0.8888888888888888,
             "#fdca26"
            ],
            [
             1,
             "#f0f921"
            ]
           ]
          },
          "colorway": [
           "#636efa",
           "#EF553B",
           "#00cc96",
           "#ab63fa",
           "#FFA15A",
           "#19d3f3",
           "#FF6692",
           "#B6E880",
           "#FF97FF",
           "#FECB52"
          ],
          "font": {
           "color": "#2a3f5f"
          },
          "geo": {
           "bgcolor": "white",
           "lakecolor": "white",
           "landcolor": "#E5ECF6",
           "showlakes": true,
           "showland": true,
           "subunitcolor": "white"
          },
          "hoverlabel": {
           "align": "left"
          },
          "hovermode": "closest",
          "mapbox": {
           "style": "light"
          },
          "paper_bgcolor": "white",
          "plot_bgcolor": "#E5ECF6",
          "polar": {
           "angularaxis": {
            "gridcolor": "white",
            "linecolor": "white",
            "ticks": ""
           },
           "bgcolor": "#E5ECF6",
           "radialaxis": {
            "gridcolor": "white",
            "linecolor": "white",
            "ticks": ""
           }
          },
          "scene": {
           "xaxis": {
            "backgroundcolor": "#E5ECF6",
            "gridcolor": "white",
            "gridwidth": 2,
            "linecolor": "white",
            "showbackground": true,
            "ticks": "",
            "zerolinecolor": "white"
           },
           "yaxis": {
            "backgroundcolor": "#E5ECF6",
            "gridcolor": "white",
            "gridwidth": 2,
            "linecolor": "white",
            "showbackground": true,
            "ticks": "",
            "zerolinecolor": "white"
           },
           "zaxis": {
            "backgroundcolor": "#E5ECF6",
            "gridcolor": "white",
            "gridwidth": 2,
            "linecolor": "white",
            "showbackground": true,
            "ticks": "",
            "zerolinecolor": "white"
           }
          },
          "shapedefaults": {
           "line": {
            "color": "#2a3f5f"
           }
          },
          "ternary": {
           "aaxis": {
            "gridcolor": "white",
            "linecolor": "white",
            "ticks": ""
           },
           "baxis": {
            "gridcolor": "white",
            "linecolor": "white",
            "ticks": ""
           },
           "bgcolor": "#E5ECF6",
           "caxis": {
            "gridcolor": "white",
            "linecolor": "white",
            "ticks": ""
           }
          },
          "title": {
           "x": 0.05
          },
          "xaxis": {
           "automargin": true,
           "gridcolor": "white",
           "linecolor": "white",
           "ticks": "",
           "title": {
            "standoff": 15
           },
           "zerolinecolor": "white",
           "zerolinewidth": 2
          },
          "yaxis": {
           "automargin": true,
           "gridcolor": "white",
           "linecolor": "white",
           "ticks": "",
           "title": {
            "standoff": 15
           },
           "zerolinecolor": "white",
           "zerolinewidth": 2
          }
         }
        }
       }
      }
     },
     "metadata": {},
     "output_type": "display_data"
    }
   ],
   "source": [
    "fig = px.parallel_categories(without_0)\r\n",
    "fig.show()\r\n",
    "fig.write_html('test.html')"
   ]
  },
  {
   "cell_type": "code",
   "execution_count": 45,
   "metadata": {},
   "outputs": [],
   "source": [
    "variable_pour_Romain=plt.to_html(fig)"
   ]
  },
  {
   "cell_type": "code",
   "execution_count": 7,
   "metadata": {},
   "outputs": [
    {
     "ename": "KeyboardInterrupt",
     "evalue": "",
     "output_type": "error",
     "traceback": [
      "\u001b[1;31m---------------------------------------------------------------------------\u001b[0m",
      "\u001b[1;31mKeyboardInterrupt\u001b[0m                         Traceback (most recent call last)",
      "\u001b[1;32m<ipython-input-7-334d656034a4>\u001b[0m in \u001b[0;36m<module>\u001b[1;34m\u001b[0m\n\u001b[1;32m----> 1\u001b[1;33m \u001b[0mdata\u001b[0m \u001b[1;33m=\u001b[0m \u001b[0mboucle_ensemble_tweet\u001b[0m\u001b[1;33m(\u001b[0m\u001b[0mtweet_set\u001b[0m\u001b[1;33m)\u001b[0m\u001b[1;33m\u001b[0m\u001b[1;33m\u001b[0m\u001b[0m\n\u001b[0m\u001b[0;32m      2\u001b[0m \u001b[0mdata\u001b[0m \u001b[1;33m=\u001b[0m \u001b[0mprobabilisation_emotion\u001b[0m\u001b[1;33m(\u001b[0m\u001b[0mdata\u001b[0m\u001b[1;33m)\u001b[0m\u001b[1;33m\u001b[0m\u001b[1;33m\u001b[0m\u001b[0m\n",
      "\u001b[1;32m<ipython-input-4-d65d5385f924>\u001b[0m in \u001b[0;36mboucle_ensemble_tweet\u001b[1;34m(df)\u001b[0m\n\u001b[0;32m     15\u001b[0m     \u001b[1;32mfor\u001b[0m \u001b[0mi\u001b[0m \u001b[1;32min\u001b[0m \u001b[0mrange\u001b[0m\u001b[1;33m(\u001b[0m\u001b[0mlen\u001b[0m\u001b[1;33m(\u001b[0m\u001b[0mdf\u001b[0m\u001b[1;33m)\u001b[0m\u001b[1;33m)\u001b[0m\u001b[1;33m:\u001b[0m\u001b[1;33m\u001b[0m\u001b[1;33m\u001b[0m\u001b[0m\n\u001b[0;32m     16\u001b[0m         \u001b[0mtext\u001b[0m\u001b[1;33m=\u001b[0m\u001b[0mdf\u001b[0m\u001b[1;33m.\u001b[0m\u001b[0miloc\u001b[0m\u001b[1;33m[\u001b[0m\u001b[0mi\u001b[0m\u001b[1;33m,\u001b[0m\u001b[1;36m2\u001b[0m\u001b[1;33m]\u001b[0m\u001b[1;33m\u001b[0m\u001b[1;33m\u001b[0m\u001b[0m\n\u001b[1;32m---> 17\u001b[1;33m         \u001b[0mresultat\u001b[0m\u001b[1;33m=\u001b[0m \u001b[0memotion_phrase\u001b[0m\u001b[1;33m(\u001b[0m\u001b[0mtext\u001b[0m\u001b[1;33m)\u001b[0m\u001b[1;33m\u001b[0m\u001b[1;33m\u001b[0m\u001b[0m\n\u001b[0m\u001b[0;32m     18\u001b[0m         \u001b[0mresultat\u001b[0m \u001b[1;33m=\u001b[0m \u001b[0mresultat\u001b[0m\u001b[1;33m.\u001b[0m\u001b[0msum\u001b[0m\u001b[1;33m(\u001b[0m\u001b[1;33m)\u001b[0m\u001b[1;33m\u001b[0m\u001b[1;33m\u001b[0m\u001b[0m\n\u001b[0;32m     19\u001b[0m         \u001b[0mresultat\u001b[0m \u001b[1;33m=\u001b[0m \u001b[0mpd\u001b[0m\u001b[1;33m.\u001b[0m\u001b[0mDataFrame\u001b[0m\u001b[1;33m(\u001b[0m\u001b[0mresultat\u001b[0m\u001b[1;33m)\u001b[0m\u001b[1;33m.\u001b[0m\u001b[0mtranspose\u001b[0m\u001b[1;33m(\u001b[0m\u001b[1;33m)\u001b[0m\u001b[1;33m\u001b[0m\u001b[1;33m\u001b[0m\u001b[0m\n",
      "\u001b[1;32m<ipython-input-4-d65d5385f924>\u001b[0m in \u001b[0;36memotion_phrase\u001b[1;34m(phrase)\u001b[0m\n\u001b[0;32m      5\u001b[0m         \u001b[0mmot\u001b[0m \u001b[1;33m=\u001b[0m \u001b[0mtoken\u001b[0m\u001b[1;33m.\u001b[0m\u001b[0mtext\u001b[0m\u001b[1;33m\u001b[0m\u001b[1;33m\u001b[0m\u001b[0m\n\u001b[0;32m      6\u001b[0m         \u001b[1;32mfor\u001b[0m \u001b[0mi\u001b[0m \u001b[1;32min\u001b[0m \u001b[0mrange\u001b[0m\u001b[1;33m(\u001b[0m\u001b[0mlen\u001b[0m\u001b[1;33m(\u001b[0m\u001b[0mdf\u001b[0m\u001b[1;33m)\u001b[0m\u001b[1;33m)\u001b[0m\u001b[1;33m:\u001b[0m\u001b[1;33m\u001b[0m\u001b[1;33m\u001b[0m\u001b[0m\n\u001b[1;32m----> 7\u001b[1;33m             \u001b[1;32mif\u001b[0m\u001b[1;33m(\u001b[0m\u001b[0mdf\u001b[0m\u001b[1;33m.\u001b[0m\u001b[0mloc\u001b[0m\u001b[1;33m[\u001b[0m\u001b[0mi\u001b[0m\u001b[1;33m,\u001b[0m \u001b[1;34m'English (en)'\u001b[0m\u001b[1;33m]\u001b[0m \u001b[1;33m==\u001b[0m \u001b[0mmot\u001b[0m\u001b[1;33m)\u001b[0m\u001b[1;33m:\u001b[0m\u001b[1;33m\u001b[0m\u001b[1;33m\u001b[0m\u001b[0m\n\u001b[0m\u001b[0;32m      8\u001b[0m                 \u001b[0mliste_emotion\u001b[0m\u001b[1;33m.\u001b[0m\u001b[0mappend\u001b[0m\u001b[1;33m(\u001b[0m\u001b[0mdf\u001b[0m\u001b[1;33m.\u001b[0m\u001b[0mloc\u001b[0m\u001b[1;33m[\u001b[0m\u001b[0mi\u001b[0m\u001b[1;33m,\u001b[0m\u001b[1;33m:\u001b[0m\u001b[1;33m]\u001b[0m\u001b[1;33m.\u001b[0m\u001b[0mtolist\u001b[0m\u001b[1;33m(\u001b[0m\u001b[1;33m)\u001b[0m\u001b[1;33m)\u001b[0m\u001b[1;33m\u001b[0m\u001b[1;33m\u001b[0m\u001b[0m\n\u001b[0;32m      9\u001b[0m     \u001b[1;32mreturn\u001b[0m \u001b[0mpd\u001b[0m\u001b[1;33m.\u001b[0m\u001b[0mDataFrame\u001b[0m\u001b[1;33m(\u001b[0m\u001b[0mliste_emotion\u001b[0m\u001b[1;33m,\u001b[0m \u001b[0mcolumns\u001b[0m\u001b[1;33m=\u001b[0m\u001b[1;33m[\u001b[0m\u001b[1;34m'English (en)'\u001b[0m\u001b[1;33m,\u001b[0m \u001b[1;34m'Positive'\u001b[0m \u001b[1;33m,\u001b[0m\u001b[1;34m'Negative'\u001b[0m\u001b[1;33m,\u001b[0m\u001b[1;34m'Anger'\u001b[0m\u001b[1;33m,\u001b[0m \u001b[1;34m'Anticipation'\u001b[0m\u001b[1;33m,\u001b[0m \u001b[1;34m'Disgust'\u001b[0m\u001b[1;33m,\u001b[0m \u001b[1;34m'Fear'\u001b[0m\u001b[1;33m,\u001b[0m \u001b[1;34m'Joy'\u001b[0m\u001b[1;33m,\u001b[0m \u001b[1;34m'Sadness'\u001b[0m\u001b[1;33m,\u001b[0m \u001b[1;34m'Surprise'\u001b[0m\u001b[1;33m,\u001b[0m \u001b[1;34m'Trust'\u001b[0m\u001b[1;33m]\u001b[0m\u001b[1;33m)\u001b[0m\u001b[1;33m\u001b[0m\u001b[1;33m\u001b[0m\u001b[0m\n",
      "\u001b[1;32m~\\anaconda3\\lib\\site-packages\\pandas\\core\\indexing.py\u001b[0m in \u001b[0;36m__getitem__\u001b[1;34m(self, key)\u001b[0m\n\u001b[0;32m    865\u001b[0m         \u001b[1;32mif\u001b[0m \u001b[0mtype\u001b[0m\u001b[1;33m(\u001b[0m\u001b[0mkey\u001b[0m\u001b[1;33m)\u001b[0m \u001b[1;32mis\u001b[0m \u001b[0mtuple\u001b[0m\u001b[1;33m:\u001b[0m\u001b[1;33m\u001b[0m\u001b[1;33m\u001b[0m\u001b[0m\n\u001b[0;32m    866\u001b[0m             \u001b[0mkey\u001b[0m \u001b[1;33m=\u001b[0m \u001b[0mtuple\u001b[0m\u001b[1;33m(\u001b[0m\u001b[0mcom\u001b[0m\u001b[1;33m.\u001b[0m\u001b[0mapply_if_callable\u001b[0m\u001b[1;33m(\u001b[0m\u001b[0mx\u001b[0m\u001b[1;33m,\u001b[0m \u001b[0mself\u001b[0m\u001b[1;33m.\u001b[0m\u001b[0mobj\u001b[0m\u001b[1;33m)\u001b[0m \u001b[1;32mfor\u001b[0m \u001b[0mx\u001b[0m \u001b[1;32min\u001b[0m \u001b[0mkey\u001b[0m\u001b[1;33m)\u001b[0m\u001b[1;33m\u001b[0m\u001b[1;33m\u001b[0m\u001b[0m\n\u001b[1;32m--> 867\u001b[1;33m             \u001b[1;32mif\u001b[0m \u001b[0mself\u001b[0m\u001b[1;33m.\u001b[0m\u001b[0m_is_scalar_access\u001b[0m\u001b[1;33m(\u001b[0m\u001b[0mkey\u001b[0m\u001b[1;33m)\u001b[0m\u001b[1;33m:\u001b[0m\u001b[1;33m\u001b[0m\u001b[1;33m\u001b[0m\u001b[0m\n\u001b[0m\u001b[0;32m    868\u001b[0m                 \u001b[1;32mtry\u001b[0m\u001b[1;33m:\u001b[0m\u001b[1;33m\u001b[0m\u001b[1;33m\u001b[0m\u001b[0m\n\u001b[0;32m    869\u001b[0m                     \u001b[1;32mreturn\u001b[0m \u001b[0mself\u001b[0m\u001b[1;33m.\u001b[0m\u001b[0mobj\u001b[0m\u001b[1;33m.\u001b[0m\u001b[0m_get_value\u001b[0m\u001b[1;33m(\u001b[0m\u001b[1;33m*\u001b[0m\u001b[0mkey\u001b[0m\u001b[1;33m,\u001b[0m \u001b[0mtakeable\u001b[0m\u001b[1;33m=\u001b[0m\u001b[0mself\u001b[0m\u001b[1;33m.\u001b[0m\u001b[0m_takeable\u001b[0m\u001b[1;33m)\u001b[0m\u001b[1;33m\u001b[0m\u001b[1;33m\u001b[0m\u001b[0m\n",
      "\u001b[1;31mKeyboardInterrupt\u001b[0m: "
     ]
    }
   ],
   "source": [
    "data = boucle_ensemble_tweet(tweet_set)\r\n",
    "data = probabilisation_emotion(data)"
   ]
  },
  {
   "cell_type": "code",
   "execution_count": 17,
   "metadata": {},
   "outputs": [
    {
     "ename": "NameError",
     "evalue": "name 'data' is not defined",
     "output_type": "error",
     "traceback": [
      "\u001b[1;31m---------------------------------------------------------------------------\u001b[0m",
      "\u001b[1;31mNameError\u001b[0m                                 Traceback (most recent call last)",
      "\u001b[1;32m<ipython-input-17-da8170f1aaac>\u001b[0m in \u001b[0;36m<module>\u001b[1;34m\u001b[0m\n\u001b[1;32m----> 1\u001b[1;33m \u001b[0mdata\u001b[0m\u001b[1;33m.\u001b[0m\u001b[0mto_pickle\u001b[0m\u001b[1;33m(\u001b[0m\u001b[1;34m\"emotion_analysis_\"\u001b[0m\u001b[1;33m+\u001b[0m\u001b[0mfilename\u001b[0m\u001b[1;33m)\u001b[0m\u001b[1;33m\u001b[0m\u001b[1;33m\u001b[0m\u001b[0m\n\u001b[0m",
      "\u001b[1;31mNameError\u001b[0m: name 'data' is not defined"
     ]
    }
   ],
   "source": [
    "data.to_pickle(\"emotion_analysis_\"+filename)"
   ]
  },
  {
   "cell_type": "code",
   "execution_count": 6,
   "metadata": {},
   "outputs": [],
   "source": [
    "list_search_words = [\"stop cutting myself\",\r\n",
    "    \"i'm being bullied\", \"feel bullied i'm\", \"stop bullying me\",\"always getting bullied\", \"gun suicide\", \"been diagnosed anorexia\", \"i diagnosed OCD\", \"I diagnosed bipolar\",\r\n",
    "    \"dad fight again\", \"parents fight again\", \"i impulsive\", \"i'm impulsive\"]"
   ]
  },
  {
   "cell_type": "code",
   "execution_count": 7,
   "metadata": {},
   "outputs": [],
   "source": [
    "def emotion_extraction(word):\r\n",
    "    print(word)\r\n",
    "    base_url= \"synthese_emotion/syntese \"\r\n",
    "    data=pd.read_pickle(base_url+word+'.pkl')\r\n",
    "    first_step = boucle_ensemble_tweet(data)\r\n",
    "    second_step = probabilisation_emotion(first_step)\r\n",
    "    second_step.to_pickle(\"emotion_extraction/emotion_analysis_\"+word+'.pkl')\r\n",
    "    second_step.to_csv(\"emotion_extraction/emotion_analysis_\"+word+'.csv')\r\n",
    "    "
   ]
  },
  {
   "cell_type": "code",
   "execution_count": 15,
   "metadata": {},
   "outputs": [
    {
     "name": "stdout",
     "output_type": "stream",
     "text": [
      "Zoloft\n",
      "Division\n",
      "Division\n",
      "Division\n",
      "Division\n",
      "Division\n",
      "Division\n",
      "Division\n",
      "Division\n",
      "Division\n",
      "Division\n",
      "Division\n",
      "Division\n",
      "Division\n",
      "Division\n",
      "Division\n",
      "Division\n",
      "Division\n",
      "Division\n",
      "Division\n",
      "Division\n",
      "Division\n",
      "Division\n",
      "Division\n",
      "Division\n",
      "Division\n",
      "Division\n",
      "Division\n",
      "Division\n",
      "Division\n",
      "Division\n",
      "Division\n",
      "Division\n",
      "Division\n",
      "Division\n",
      "Division\n",
      "Division\n",
      "Division\n",
      "Division\n",
      "Division\n",
      "Division\n",
      "Division\n",
      "Division\n",
      "Division\n",
      "Division\n",
      "Division\n",
      "Division\n",
      "Division\n",
      "Division\n",
      "Division\n",
      "Division\n",
      "Division\n",
      "Division\n",
      "Division\n",
      "Division\n",
      "Division\n",
      "Division\n",
      "Division\n",
      "Division\n",
      "Division\n",
      "Division\n",
      "Division\n",
      "Division\n",
      "Division\n",
      "Division\n",
      "Division\n",
      "Division\n",
      "Division\n",
      "Division\n",
      "Division\n",
      "Prozac\n",
      "Division\n",
      "Division\n",
      "Division\n",
      "Division\n",
      "Division\n",
      "Division\n",
      "Division\n",
      "Division\n",
      "Division\n",
      "Division\n",
      "Division\n",
      "Division\n",
      "Division\n",
      "Division\n",
      "Division\n",
      "Division\n",
      "Division\n",
      "Division\n",
      "Division\n",
      "Division\n",
      "Division\n",
      "Division\n",
      "Division\n",
      "Division\n",
      "Division\n",
      "Division\n",
      "Division\n",
      "Division\n",
      "Division\n",
      "Division\n",
      "Division\n",
      "Division\n",
      "Division\n",
      "Division\n",
      "Division\n",
      "Division\n",
      "Division\n",
      "Division\n",
      "Division\n",
      "Division\n",
      "Division\n",
      "Division\n",
      "Division\n",
      "Division\n",
      "Division\n",
      "Division\n",
      "Division\n",
      "Division\n",
      "Division\n",
      "Division\n",
      "Division\n",
      "Division\n",
      "Division\n",
      "Division\n",
      "Division\n",
      "Division\n",
      "Division\n",
      "Division\n",
      "Division\n",
      "Division\n",
      "Division\n",
      "Division\n",
      "Division\n",
      "Division\n",
      "Division\n",
      "Division\n",
      "Division\n",
      "Division\n",
      "Division\n",
      "Division\n",
      "Division\n",
      "Division\n",
      "Division\n",
      "Division\n",
      "Division\n",
      "Division\n",
      "Division\n",
      "Division\n",
      "Division\n",
      "Division\n",
      "Division\n",
      "Division\n",
      "Division\n",
      "Division\n",
      "Division\n",
      "Division\n",
      "Division\n",
      "Division\n",
      "Division\n",
      "Division\n",
      "Division\n",
      "Division\n",
      "Division\n",
      "Division\n",
      "Division\n",
      "Division\n",
      "Division\n",
      "Division\n",
      "Division\n",
      "Division\n",
      "Division\n",
      "Division\n",
      "Division\n",
      "Division\n",
      "Division\n",
      "Division\n",
      "Division\n",
      "Division\n",
      "Division\n",
      "Division\n",
      "Division\n",
      "Division\n",
      "Division\n",
      "Division\n",
      "Division\n",
      "Division\n",
      "Division\n",
      "Division\n",
      "Division\n",
      "Division\n",
      "Division\n",
      "Division\n",
      "Division\n",
      "Division\n",
      "Division\n",
      "Division\n",
      "Division\n",
      "Division\n",
      "Division\n",
      "Division\n",
      "Division\n",
      "Division\n",
      "Division\n",
      "Division\n",
      "Division\n",
      "Division\n",
      "Division\n",
      "Division\n",
      "Division\n",
      "Division\n",
      "Division\n",
      "Division\n",
      "Division\n",
      "Division\n",
      "Division\n",
      "Division\n",
      "Division\n",
      "Division\n",
      "Division\n",
      "Division\n",
      "Division\n",
      "Division\n",
      "Division\n",
      "Division\n",
      "Division\n",
      "Division\n",
      "Division\n",
      "pills depressed\n",
      "Division\n",
      "Division\n",
      "Division\n",
      "Division\n",
      "Division\n",
      "Division\n",
      "Division\n",
      "Division\n",
      "Division\n",
      "suicide once more\n",
      "Division\n",
      "Division\n",
      "Division\n",
      "Division\n",
      "Division\n",
      "Division\n",
      "Division\n",
      "Division\n",
      "pain suicide\n",
      "Division\n",
      "Division\n",
      "Division\n",
      "Division\n",
      "Division\n",
      "Division\n",
      "Division\n",
      "Division\n",
      "Division\n",
      "Division\n",
      "Division\n",
      "Division\n",
      "Division\n",
      "Division\n",
      "Division\n",
      "Division\n",
      "Division\n",
      "mom suicide tried\n",
      "Division\n",
      "Division\n",
      "Division\n",
      "Division\n",
      "friend suicide\n",
      "Division\n",
      "Division\n",
      "Division\n",
      "Division\n",
      "Division\n",
      "Division\n",
      "Division\n",
      "Division\n",
      "Division\n",
      "Division\n",
      "sister suicide tried\n",
      "Division\n",
      "Division\n",
      "Division\n",
      "Division\n",
      "Division\n",
      "Division\n",
      "Brother suicide tried\n",
      "Division\n",
      "Division\n",
      "suicide attempted sister\n",
      "Division\n",
      "Division\n",
      "thought suicide before\n",
      "Division\n",
      "had thoughts suicide\n",
      "Division\n",
      "Division\n",
      "Division\n",
      "Division\n",
      "Division\n",
      "had thoughts killing myself\n",
      "Division\n",
      "i want to commit suicide\n",
      "Division\n",
      "Division\n",
      "Division\n",
      "Division\n",
      "Division\n",
      "Division\n",
      "Division\n",
      "Division\n",
      "stop cutting myself\n",
      "Division\n",
      "i'm being bullied\n",
      "Division\n",
      "Division\n",
      "Division\n",
      "Division\n",
      "Division\n",
      "Division\n",
      "Division\n",
      "Division\n",
      "Division\n",
      "Division\n",
      "Division\n",
      "Division\n",
      "Division\n",
      "Division\n",
      "Division\n",
      "Division\n",
      "Division\n",
      "Division\n",
      "Division\n",
      "Division\n",
      "Division\n",
      "Division\n",
      "Division\n",
      "Division\n",
      "Division\n",
      "Division\n",
      "Division\n",
      "Division\n",
      "Division\n",
      "Division\n",
      "Division\n",
      "Division\n",
      "Division\n",
      "Division\n",
      "Division\n",
      "Division\n",
      "Division\n",
      "Division\n",
      "Division\n",
      "Division\n",
      "Division\n",
      "Division\n",
      "Division\n",
      "Division\n",
      "Division\n",
      "Division\n",
      "Division\n",
      "Division\n",
      "Division\n",
      "Division\n",
      "Division\n",
      "Division\n",
      "Division\n",
      "Division\n",
      "Division\n",
      "Division\n",
      "Division\n",
      "Division\n",
      "Division\n",
      "Division\n",
      "Division\n",
      "Division\n",
      "Division\n",
      "Division\n",
      "Division\n",
      "Division\n",
      "Division\n",
      "Division\n",
      "Division\n",
      "Division\n",
      "Division\n",
      "Division\n",
      "Division\n",
      "Division\n",
      "Division\n",
      "Division\n",
      "Division\n",
      "Division\n",
      "Division\n",
      "Division\n",
      "Division\n",
      "Division\n",
      "Division\n",
      "Division\n",
      "Division\n",
      "Division\n",
      "Division\n",
      "Division\n",
      "Division\n",
      "Division\n",
      "Division\n",
      "Division\n",
      "Division\n",
      "Division\n",
      "Division\n",
      "Division\n",
      "Division\n",
      "Division\n",
      "Division\n",
      "Division\n",
      "Division\n",
      "Division\n",
      "feel bullied i'm\n",
      "Division\n",
      "Division\n",
      "Division\n",
      "Division\n",
      "Division\n",
      "Division\n",
      "Division\n",
      "Division\n",
      "Division\n",
      "Division\n",
      "stop bullying me\n",
      "Division\n",
      "Division\n",
      "Division\n",
      "Division\n",
      "Division\n",
      "Division\n",
      "Division\n",
      "Division\n",
      "Division\n",
      "Division\n",
      "Division\n",
      "Division\n",
      "Division\n",
      "Division\n",
      "Division\n",
      "Division\n",
      "Division\n",
      "Division\n",
      "Division\n",
      "Division\n",
      "Division\n",
      "Division\n",
      "Division\n",
      "Division\n",
      "Division\n",
      "Division\n",
      "Division\n",
      "Division\n",
      "Division\n",
      "Division\n",
      "Division\n",
      "Division\n",
      "Division\n",
      "Division\n",
      "Division\n",
      "Division\n",
      "Division\n",
      "Division\n",
      "Division\n",
      "Division\n",
      "Division\n",
      "Division\n",
      "Division\n",
      "Division\n",
      "Division\n",
      "Division\n",
      "Division\n",
      "Division\n",
      "Division\n",
      "Division\n",
      "Division\n",
      "Division\n",
      "Division\n",
      "Division\n",
      "Division\n",
      "Division\n",
      "Division\n",
      "Division\n",
      "Division\n",
      "Division\n",
      "Division\n",
      "Division\n",
      "Division\n",
      "Division\n",
      "Division\n",
      "Division\n",
      "Division\n",
      "Division\n",
      "Division\n",
      "Division\n",
      "always getting bullied\n",
      "Division\n",
      "Division\n",
      "Division\n",
      "Division\n",
      "Division\n",
      "Division\n",
      "Division\n",
      "Division\n",
      "Division\n",
      "Division\n",
      "Division\n",
      "Division\n",
      "Division\n",
      "Division\n",
      "Division\n",
      "Division\n",
      "Division\n",
      "Division\n",
      "Division\n",
      "Division\n",
      "Division\n",
      "Division\n",
      "Division\n",
      "Division\n",
      "Division\n",
      "Division\n",
      "Division\n",
      "Division\n",
      "Division\n",
      "Division\n",
      "Division\n",
      "Division\n",
      "Division\n",
      "Division\n",
      "Division\n",
      "Division\n",
      "Division\n",
      "Division\n",
      "Division\n",
      "Division\n",
      "Division\n",
      "Division\n",
      "Division\n",
      "Division\n",
      "Division\n",
      "Division\n",
      "Division\n",
      "Division\n",
      "Division\n",
      "Division\n",
      "Division\n",
      "Division\n",
      "Division\n",
      "Division\n",
      "Division\n",
      "Division\n",
      "gun suicide\n",
      "Division\n",
      "Division\n",
      "Division\n",
      "Division\n",
      "Division\n",
      "Division\n",
      "Division\n",
      "Division\n",
      "Division\n",
      "Division\n",
      "Division\n",
      "Division\n",
      "Division\n",
      "Division\n",
      "Division\n",
      "Division\n",
      "Division\n",
      "Division\n",
      "been diagnosed anorexia\n",
      "Division\n",
      "Division\n",
      "Division\n",
      "Division\n",
      "Division\n",
      "i diagnosed OCD\n",
      "Division\n",
      "Division\n",
      "Division\n",
      "Division\n",
      "Division\n",
      "Division\n",
      "Division\n",
      "Division\n",
      "Division\n",
      "Division\n",
      "Division\n",
      "I diagnosed bipolar\n",
      "Division\n",
      "Division\n",
      "Division\n",
      "Division\n",
      "dad fight again\n",
      "Division\n",
      "Division\n",
      "Division\n",
      "Division\n",
      "parents fight again\n",
      "Division\n",
      "Division\n",
      "i impulsive\n",
      "Division\n",
      "Division\n",
      "Division\n",
      "Division\n",
      "Division\n",
      "Division\n",
      "Division\n",
      "Division\n",
      "Division\n",
      "Division\n",
      "Division\n",
      "Division\n",
      "Division\n",
      "Division\n",
      "Division\n",
      "i'm impulsive\n",
      "Division\n",
      "Division\n",
      "Division\n",
      "Division\n",
      "Division\n",
      "Division\n",
      "Division\n",
      "Division\n",
      "Division\n",
      "Division\n",
      "Division\n",
      "Division\n",
      "Division\n",
      "Division\n",
      "Division\n",
      "Division\n",
      "Division\n",
      "Division\n"
     ]
    }
   ],
   "source": [
    "for i in list_search_words:\r\n",
    "    emotion_extraction(i)"
   ]
  },
  {
   "cell_type": "code",
   "execution_count": 18,
   "metadata": {},
   "outputs": [
    {
     "data": {
      "text/html": "<div>\n<style scoped>\n    .dataframe tbody tr th:only-of-type {\n        vertical-align: middle;\n    }\n\n    .dataframe tbody tr th {\n        vertical-align: top;\n    }\n\n    .dataframe thead th {\n        text-align: right;\n    }\n</style>\n<table border=\"1\" class=\"dataframe\">\n  <thead>\n    <tr style=\"text-align: right;\">\n      <th></th>\n      <th>Anger</th>\n      <th>Anticipation</th>\n      <th>Disgust</th>\n      <th>Fear</th>\n      <th>Joy</th>\n      <th>Sadness</th>\n      <th>Surprise</th>\n      <th>Trust</th>\n      <th>id</th>\n    </tr>\n  </thead>\n  <tbody>\n    <tr>\n      <th>0</th>\n      <td>NaN</td>\n      <td>NaN</td>\n      <td>NaN</td>\n      <td>NaN</td>\n      <td>NaN</td>\n      <td>NaN</td>\n      <td>NaN</td>\n      <td>NaN</td>\n      <td>id    1206363247323992064\nName: 0, dtype: object</td>\n    </tr>\n    <tr>\n      <th>1</th>\n      <td>NaN</td>\n      <td>NaN</td>\n      <td>NaN</td>\n      <td>NaN</td>\n      <td>NaN</td>\n      <td>NaN</td>\n      <td>NaN</td>\n      <td>NaN</td>\n      <td>id    1206362722667040769\nName: 1, dtype: object</td>\n    </tr>\n    <tr>\n      <th>2</th>\n      <td>0.074074</td>\n      <td>0.148148</td>\n      <td>0.074074</td>\n      <td>0.074074</td>\n      <td>0.222222</td>\n      <td>0.111111</td>\n      <td>0.111111</td>\n      <td>0.185185</td>\n      <td>id    1206362664634593281\nName: 2, dtype: object</td>\n    </tr>\n    <tr>\n      <th>3</th>\n      <td>0.000000</td>\n      <td>0.333333</td>\n      <td>0.000000</td>\n      <td>0.000000</td>\n      <td>0.333333</td>\n      <td>0.000000</td>\n      <td>0.000000</td>\n      <td>0.333333</td>\n      <td>id    1206362627280166914\nName: 3, dtype: object</td>\n    </tr>\n    <tr>\n      <th>4</th>\n      <td>NaN</td>\n      <td>NaN</td>\n      <td>NaN</td>\n      <td>NaN</td>\n      <td>NaN</td>\n      <td>NaN</td>\n      <td>NaN</td>\n      <td>NaN</td>\n      <td>id    1206362537526255616\nName: 4, dtype: object</td>\n    </tr>\n    <tr>\n      <th>...</th>\n      <td>...</td>\n      <td>...</td>\n      <td>...</td>\n      <td>...</td>\n      <td>...</td>\n      <td>...</td>\n      <td>...</td>\n      <td>...</td>\n      <td>...</td>\n    </tr>\n    <tr>\n      <th>328</th>\n      <td>0.000000</td>\n      <td>0.333333</td>\n      <td>0.000000</td>\n      <td>0.000000</td>\n      <td>0.000000</td>\n      <td>0.000000</td>\n      <td>0.000000</td>\n      <td>0.666667</td>\n      <td>id    1239335150816821248\nName: 328, dtype: ob...</td>\n    </tr>\n    <tr>\n      <th>329</th>\n      <td>0.250000</td>\n      <td>0.000000</td>\n      <td>0.250000</td>\n      <td>0.250000</td>\n      <td>0.000000</td>\n      <td>0.250000</td>\n      <td>0.000000</td>\n      <td>0.000000</td>\n      <td>id    1239335074698366976\nName: 329, dtype: ob...</td>\n    </tr>\n    <tr>\n      <th>330</th>\n      <td>NaN</td>\n      <td>NaN</td>\n      <td>NaN</td>\n      <td>NaN</td>\n      <td>NaN</td>\n      <td>NaN</td>\n      <td>NaN</td>\n      <td>NaN</td>\n      <td>id    1239334875309670403\nName: 330, dtype: ob...</td>\n    </tr>\n    <tr>\n      <th>331</th>\n      <td>0.000000</td>\n      <td>0.000000</td>\n      <td>0.000000</td>\n      <td>0.000000</td>\n      <td>0.000000</td>\n      <td>0.000000</td>\n      <td>0.000000</td>\n      <td>1.000000</td>\n      <td>id    1239334758070411264\nName: 331, dtype: ob...</td>\n    </tr>\n    <tr>\n      <th>332</th>\n      <td>NaN</td>\n      <td>NaN</td>\n      <td>NaN</td>\n      <td>NaN</td>\n      <td>NaN</td>\n      <td>NaN</td>\n      <td>NaN</td>\n      <td>NaN</td>\n      <td>id    1239334657654763526\nName: 332, dtype: ob...</td>\n    </tr>\n  </tbody>\n</table>\n<p>333 rows × 9 columns</p>\n</div>",
      "text/plain": "        Anger  Anticipation   Disgust      Fear       Joy   Sadness  Surprise  \\\n0         NaN           NaN       NaN       NaN       NaN       NaN       NaN   \n1         NaN           NaN       NaN       NaN       NaN       NaN       NaN   \n2    0.074074      0.148148  0.074074  0.074074  0.222222  0.111111  0.111111   \n3    0.000000      0.333333  0.000000  0.000000  0.333333  0.000000  0.000000   \n4         NaN           NaN       NaN       NaN       NaN       NaN       NaN   \n..        ...           ...       ...       ...       ...       ...       ...   \n328  0.000000      0.333333  0.000000  0.000000  0.000000  0.000000  0.000000   \n329  0.250000      0.000000  0.250000  0.250000  0.000000  0.250000  0.000000   \n330       NaN           NaN       NaN       NaN       NaN       NaN       NaN   \n331  0.000000      0.000000  0.000000  0.000000  0.000000  0.000000  0.000000   \n332       NaN           NaN       NaN       NaN       NaN       NaN       NaN   \n\n        Trust                                                 id  \n0         NaN   id    1206363247323992064\nName: 0, dtype: object  \n1         NaN   id    1206362722667040769\nName: 1, dtype: object  \n2    0.185185   id    1206362664634593281\nName: 2, dtype: object  \n3    0.333333   id    1206362627280166914\nName: 3, dtype: object  \n4         NaN   id    1206362537526255616\nName: 4, dtype: object  \n..        ...                                                ...  \n328  0.666667  id    1239335150816821248\nName: 328, dtype: ob...  \n329  0.000000  id    1239335074698366976\nName: 329, dtype: ob...  \n330       NaN  id    1239334875309670403\nName: 330, dtype: ob...  \n331  1.000000  id    1239334758070411264\nName: 331, dtype: ob...  \n332       NaN  id    1239334657654763526\nName: 332, dtype: ob...  \n\n[333 rows x 9 columns]"
     },
     "execution_count": 18,
     "metadata": {},
     "output_type": "execute_result"
    }
   ],
   "source": [
    "pd.read_pickle(\"emotion_extraction/emotion_analysis_i feel sad.pkl\")"
   ]
  },
  {
   "cell_type": "code",
   "execution_count": null,
   "metadata": {},
   "outputs": [],
   "source": []
  }
 ],
 "metadata": {
  "kernelspec": {
   "display_name": "Python 3.8.5 64-bit ('base': conda)",
   "name": "python385jvsc74a57bd064a96bb099924a20028131b204b5e366cb20d8907c9fcc1768e22fadcfbdb2ca"
  },
  "language_info": {
   "codemirror_mode": {
    "name": "ipython",
    "version": 3
   },
   "file_extension": ".py",
   "mimetype": "text/x-python",
   "name": "python",
   "nbconvert_exporter": "python",
   "pygments_lexer": "ipython3",
   "version": "3.8.5"
  },
  "orig_nbformat": 2
 },
 "nbformat": 4,
 "nbformat_minor": 2
}