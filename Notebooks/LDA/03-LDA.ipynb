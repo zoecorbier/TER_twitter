{
 "cells": [
  {
   "cell_type": "code",
   "execution_count": 1,
   "metadata": {},
   "outputs": [],
   "source": [
    "import os\n",
    "\n",
    "import pandas as pd \n",
    "import numpy as np \n",
    "import matplotlib.pyplot as plt \n",
    "import pyLDAvis"
   ]
  },
  {
   "cell_type": "markdown",
   "metadata": {},
   "source": [
    "# Import de tous les fichiers de données"
   ]
  },
  {
   "cell_type": "code",
   "execution_count": 2,
   "metadata": {},
   "outputs": [],
   "source": [
    "files = []\n",
    "for r, d, f in os.walk(r\".\\data\"):\n",
    "    for file in f:\n",
    "        if file.endswith(\".json\"):\n",
    "            files.append(os.path.join(r, file))\n",
    "            \n",
    "tweets = pd.concat([pd.read_json(file, orient='records', encoding=\"UTF-8\") for file in files], ignore_index=True)"
   ]
  },
  {
   "cell_type": "code",
   "execution_count": 3,
   "metadata": {},
   "outputs": [
    {
     "name": "stdout",
     "output_type": "stream",
     "text": [
      "17110 ont été récupérés\n",
      "16901 tweets sont uniques\n",
      "16901\n"
     ]
    }
   ],
   "source": [
    "print(\"{} ont été récupérés\".format(tweets.shape[0]))\n",
    "tweets = tweets.set_index('id')\n",
    "print(\"{} tweets sont uniques\".format(len(tweets.index.drop_duplicates())))\n",
    "tweets = tweets.loc[~tweets.index.duplicated(keep='first'),:]\n",
    "print(len(tweets))"
   ]
  },
  {
   "cell_type": "code",
   "execution_count": 38,
   "metadata": {},
   "outputs": [
    {
     "name": "stdout",
     "output_type": "stream",
     "text": [
      "<class 'pandas.core.frame.DataFrame'>\n",
      "Int64Index: 16901 entries, 1329190331749949442 to 1326121800800083969\n",
      "Data columns (total 29 columns):\n",
      " #   Column                     Non-Null Count  Dtype              \n",
      "---  ------                     --------------  -----              \n",
      " 0   created_at                 16901 non-null  datetime64[ns, UTC]\n",
      " 1   id_str                     16901 non-null  int64              \n",
      " 2   full_text                  16901 non-null  object             \n",
      " 3   truncated                  16901 non-null  bool               \n",
      " 4   display_text_range         16901 non-null  object             \n",
      " 5   entities                   16901 non-null  object             \n",
      " 6   metadata                   16901 non-null  object             \n",
      " 7   source                     16901 non-null  object             \n",
      " 8   in_reply_to_status_id      4800 non-null   float64            \n",
      " 9   in_reply_to_status_id_str  4800 non-null   float64            \n",
      " 10  in_reply_to_user_id        5089 non-null   float64            \n",
      " 11  in_reply_to_user_id_str    5089 non-null   float64            \n",
      " 12  in_reply_to_screen_name    5089 non-null   object             \n",
      " 13  user                       16901 non-null  object             \n",
      " 14  geo                        116 non-null    object             \n",
      " 15  coordinates                116 non-null    object             \n",
      " 16  place                      16901 non-null  object             \n",
      " 17  contributors               0 non-null      float64            \n",
      " 18  is_quote_status            16901 non-null  bool               \n",
      " 19  quoted_status_id           2189 non-null   float64            \n",
      " 20  quoted_status_id_str       2189 non-null   float64            \n",
      " 21  quoted_status              2189 non-null   object             \n",
      " 22  retweet_count              16901 non-null  int64              \n",
      " 23  favorite_count             16901 non-null  int64              \n",
      " 24  favorited                  16901 non-null  bool               \n",
      " 25  retweeted                  16901 non-null  bool               \n",
      " 26  possibly_sensitive         3620 non-null   float64            \n",
      " 27  lang                       16901 non-null  object             \n",
      " 28  extended_entities          1024 non-null   object             \n",
      "dtypes: bool(4), datetime64[ns, UTC](1), float64(8), int64(3), object(13)\n",
      "memory usage: 3.4+ MB\n"
     ]
    }
   ],
   "source": [
    "tweets.info()"
   ]
  },
  {
   "cell_type": "code",
   "execution_count": 5,
   "metadata": {},
   "outputs": [
    {
     "name": "stdout",
     "output_type": "stream",
     "text": [
      "id\n",
      "1329190331749949442    So many men go without routine wellness checks...\n",
      "1328556798673113089    @azdhs would prefer residents of AL and LTC sh...\n",
      "1327771734271922177    Bro... \\nThe holiday season already sees a mas...\n",
      "1327764110369558530    Playing cod for Q3 clips makes me wanna die of...\n",
      "1329212632558137344    Jesus told her, “I am the resurrection and the...\n",
      "Name: full_text, dtype: object\n"
     ]
    }
   ],
   "source": [
    "tweets.possibly_sensitive.unique()\n",
    "cols = [\"full_text\", 'possibly_sensitive']\n",
    "tweets2 = tweets[cols]\n",
    "sensitive = tweets2['possibly_sensitive'] == 0\n",
    "print(tweets2[sensitive][:5].full_text)"
   ]
  },
  {
   "cell_type": "markdown",
   "metadata": {},
   "source": [
    "# Pré traitement des données"
   ]
  },
  {
   "cell_type": "code",
   "execution_count": 6,
   "metadata": {},
   "outputs": [],
   "source": [
    "# Clean and extract count vectorizer\n",
    "import spacy\n",
    "nlp = spacy.load(\"en_core_web_sm\")\n",
    "lemmatizer = nlp.get_pipe(\"lemmatizer\")"
   ]
  },
  {
   "cell_type": "markdown",
   "metadata": {},
   "source": [
    "## Essais d'optimisation du temps sur 100 exemples"
   ]
  },
  {
   "cell_type": "code",
   "execution_count": 7,
   "metadata": {},
   "outputs": [],
   "source": [
    "tweets3 = tweets.sample(100)"
   ]
  },
  {
   "cell_type": "code",
   "execution_count": 8,
   "metadata": {},
   "outputs": [
    {
     "name": "stdout",
     "output_type": "stream",
     "text": [
      "1.66 s ± 67.3 ms per loop (mean ± std. dev. of 7 runs, 1 loop each)\n"
     ]
    }
   ],
   "source": [
    "%%timeit\n",
    "processed_tweets = [nlp(tweet) for tweet in tweets3.full_text]"
   ]
  },
  {
   "cell_type": "code",
   "execution_count": 9,
   "metadata": {},
   "outputs": [
    {
     "name": "stdout",
     "output_type": "stream",
     "text": [
      "14.1 µs ± 1.61 µs per loop (mean ± std. dev. of 7 runs, 10000 loops each)\n"
     ]
    }
   ],
   "source": [
    "%%timeit\n",
    "docs = (nlp(tweet) for tweet in tweets3.full_text)"
   ]
  },
  {
   "cell_type": "markdown",
   "metadata": {},
   "source": [
    "Le générateur est bien plus rapide donc à garder lors du traitement de l'ensemble des tweets"
   ]
  },
  {
   "cell_type": "code",
   "execution_count": 10,
   "metadata": {},
   "outputs": [
    {
     "name": "stdout",
     "output_type": "stream",
     "text": [
      "1.54 s ± 43.1 ms per loop (mean ± std. dev. of 7 runs, 1 loop each)\n"
     ]
    }
   ],
   "source": [
    "%%timeit\n",
    "corpus = []\n",
    "docs = (nlp(tweet) for tweet in tweets3.full_text)\n",
    "for tweet in (lemmatizer(doc) for doc in docs):\n",
    "    corpus.append(\" \".join([w.lemma_ for w in tweet]))\n"
   ]
  },
  {
   "cell_type": "code",
   "execution_count": 11,
   "metadata": {},
   "outputs": [
    {
     "name": "stdout",
     "output_type": "stream",
     "text": [
      "1.56 s ± 143 ms per loop (mean ± std. dev. of 7 runs, 1 loop each)\n"
     ]
    }
   ],
   "source": [
    "%%timeit\n",
    "corpus = []\n",
    "docs = (nlp(tweet) for tweet in tweets3.full_text)\n",
    "for tweet in lemmatizer.pipe(docs, batch_size=50):\n",
    "    corpus.append(\" \".join([w.lemma_ for w in tweet]))"
   ]
  },
  {
   "cell_type": "markdown",
   "metadata": {},
   "source": [
    " Le pipe de spacy est un peu moins rapide qu'un génerateur python... Néanmoins je l'utiliserais parce qu'il existe."
   ]
  },
  {
   "cell_type": "markdown",
   "metadata": {},
   "source": [
    "## Nettoyage des données\n",
    " - Lemmatisation\n",
    " - Suppression des nombres\n",
    " - Suppression des stopwords"
   ]
  },
  {
   "cell_type": "code",
   "execution_count": 12,
   "metadata": {},
   "outputs": [],
   "source": [
    "import re\n",
    "tweets3 = tweets.sample(1000)\n",
    "spacy_stopwords = spacy.lang.en.stop_words.STOP_WORDS\n",
    "\n",
    "docs = (nlp(tweet) for tweet in tweets3.full_text)\n",
    "corpus = []\n",
    "for tweet in lemmatizer.pipe(docs, batch_size=50):\n",
    "    corpus.append(\" \".join([re.sub(r\"\\d+\", \"\", w.lemma_) for w in tweet if w.lemma_ not in spacy_stopwords]))"
   ]
  },
  {
   "cell_type": "code",
   "execution_count": 13,
   "metadata": {},
   "outputs": [
    {
     "name": "stdout",
     "output_type": "stream",
     "text": [
      "['all', 'back', 'after', 'and', 'around', 'alone', '‘ll', 'does', 'throughout', 'because']\n"
     ]
    }
   ],
   "source": [
    "spacy_stopwords = spacy.lang.en.stop_words.STOP_WORDS\n",
    "print(list(spacy_stopwords)[:10])"
   ]
  },
  {
   "cell_type": "markdown",
   "metadata": {},
   "source": [
    "## LDA"
   ]
  },
  {
   "cell_type": "code",
   "execution_count": 14,
   "metadata": {},
   "outputs": [
    {
     "data": {
      "text/plain": [
       "LatentDirichletAllocation(n_components=2, random_state=888)"
      ]
     },
     "execution_count": 14,
     "metadata": {},
     "output_type": "execute_result"
    }
   ],
   "source": [
    "import pyLDAvis\n",
    "import pyLDAvis.sklearn\n",
    "from sklearn.feature_extraction.text import CountVectorizer\n",
    "from sklearn.decomposition import LatentDirichletAllocation\n",
    "\n",
    "vectorizer = CountVectorizer()\n",
    "doc_term_matrix = vectorizer.fit_transform(corpus)\n",
    "lda_model = LatentDirichletAllocation(n_components=2, random_state=888)\n",
    "lda_model.fit(doc_term_matrix)"
   ]
  },
  {
   "cell_type": "code",
   "execution_count": 15,
   "metadata": {},
   "outputs": [
    {
     "data": {
      "text/html": [
       "\n",
       "<link rel=\"stylesheet\" type=\"text/css\" href=\"https://cdn.rawgit.com/bmabey/pyLDAvis/files/ldavis.v1.0.0.css\">\n",
       "\n",
       "\n",
       "<div id=\"ldavis_el442031706175680489434449587\"></div>\n",
       "<script type=\"text/javascript\">\n",
       "\n",
       "var ldavis_el442031706175680489434449587_data = {\"mdsDat\": {\"x\": [0.18708929929079215, -0.18708929929079215], \"y\": [0.0, 0.0], \"topics\": [1, 2], \"cluster\": [1, 1], \"Freq\": [64.12914631306738, 35.87085368693263]}, \"tinfo\": {\"Term\": [\"copy\", \"tweet\", \"die\", \"suicide\", \"figure\", \"post\", \"usa\", \"hotline\", \"try\", \"retweet\", \"listen\", \"demonstrate\", \"lockdown\", \"friend\", \"follower\", \"co\", \"https\", \"people\", \"like\", \"covid\", \"let\", \"know\", \"want\", \"live\", \"life\", \"kill\", \"think\", \"day\", \"need\", \"amp\", \"die\", \"people\", \"like\", \"covid\", \"let\", \"want\", \"know\", \"live\", \"life\", \"think\", \"kill\", \"day\", \"need\", \"trump\", \"care\", \"hard\", \"love\", \"good\", \"feel\", \"tell\", \"believe\", \"year\", \"stop\", \"americans\", \"work\", \"way\", \"thing\", \"death\", \"gon\", \"bad\", \"co\", \"https\", \"time\", \"amp\", \"na\", \"injure\", \"suicide\", \"copy\", \"post\", \"figure\", \"usa\", \"tweet\", \"hotline\", \"retweet\", \"demonstrate\", \"listen\", \"try\", \"lockdown\", \"follower\", \"friend\", \"uk\", \"samaritans\", \"suicide\", \"suicideawareness\", \"canada\", \"seattle\", \"jordan\", \"malzoni\", \"ty\", \"suicideprevention\", \"outlaw\", \"text\", \"prevention\", \"mentalhealth\", \"land\", \"celtics\", \"paint\", \"thank\", \"sign\", \"dramatically\", \"us\", \"michigan\", \"yo\", \"injure\", \"reach\", \"matter\", \"rate\", \"https\", \"co\"], \"Freq\": [405.0, 213.0, 494.0, 279.0, 210.0, 209.0, 206.0, 200.0, 197.0, 195.0, 191.0, 182.0, 136.0, 114.0, 105.0, 163.0, 163.0, 114.0, 57.0, 57.0, 45.0, 45.0, 44.0, 39.0, 38.0, 37.0, 36.0, 31.0, 31.0, 39.0, 493.965883479614, 114.03932916963372, 56.87609562642047, 56.87111305613575, 45.41321764044357, 44.60047298972282, 45.383083659708554, 38.86864633584709, 38.05507143515928, 36.41698789089455, 37.22295444824253, 31.510046066536088, 30.67237894417698, 29.857013953660903, 28.232315073466744, 26.597849543159196, 26.594598214569356, 24.140360856480584, 24.13434794943363, 24.124209748138643, 20.870916171304025, 22.463916242288235, 20.047271490139067, 19.232784530188944, 18.41266903260374, 18.410538833210353, 18.410128791494696, 20.804486240756447, 22.404685541434016, 19.202479982280472, 159.6717340573157, 159.67141691864347, 37.23624523086742, 38.77184273992164, 19.894343072897016, 32.2885072827335, 28.174745094854778, 405.5266706021601, 209.2408654638246, 209.97452509375262, 206.27487437589008, 212.92641011911766, 199.61496332183205, 195.17086151244075, 182.57908250318428, 191.44718216129377, 197.3041238507496, 135.9154349029993, 105.5446567599299, 113.53503747703978, 8.510071726892317, 7.035941802551226, 251.52266459258385, 4.008829847633046, 3.332443974976261, 2.5364375857290944, 2.5189767188515964, 2.4837256623166084, 1.8497364943333456, 1.8456287134087732, 1.8285699384916672, 1.8252066830406601, 9.11993948149832, 1.8212743524801893, 1.8159827933956114, 1.8140532717654798, 1.8000520087685552, 4.228020446125337, 3.098762402509002, 2.092954915118213, 2.946466314654005, 2.2581982572227437, 2.0208589297340094, 4.113145058957751, 2.3841854655767825, 2.555405830791012, 2.4514596157205797, 3.6511658067622896, 3.6508788276876354], \"Total\": [405.0, 213.0, 494.0, 279.0, 210.0, 209.0, 206.0, 200.0, 197.0, 195.0, 191.0, 182.0, 136.0, 114.0, 105.0, 163.0, 163.0, 114.0, 57.0, 57.0, 45.0, 45.0, 44.0, 39.0, 38.0, 37.0, 36.0, 31.0, 31.0, 39.0, 494.3523943056654, 114.54161981045115, 57.257156628687945, 57.25668279081429, 45.79738902553092, 44.97940786753392, 45.79452331154404, 39.24948719975987, 38.43142708575092, 36.79426706879164, 37.61160363631269, 31.883482078906482, 31.063130816667663, 30.24490046675447, 28.609013319097635, 26.972197371954188, 26.97188817358116, 24.516422790334108, 24.515850968377425, 24.514886834713533, 21.242742050821604, 22.875614670735818, 20.423724309905896, 19.605577459895887, 18.78689534110843, 18.786692761095846, 18.786653766503996, 21.236424625228505, 22.869981885297616, 19.602695525126858, 163.32261288500334, 163.32258272540577, 38.353557463181204, 39.98097115199603, 20.409180957399037, 36.401652341691246, 279.6974096874386, 405.9370875925139, 209.6545816580506, 210.39601037690298, 206.69216172962535, 213.3599127589502, 200.02529088992156, 195.58114763483496, 182.98942493444534, 191.87982423755227, 197.8125503518416, 136.32598156322115, 105.95795823358966, 114.94059997618926, 8.928025664164894, 7.445883982128115, 279.6974096874386, 4.489887451456247, 3.742439640566343, 3.0075631526217617, 3.0093981739265248, 3.0131028261761554, 2.2611994028087095, 2.261631103340199, 2.2634238674465377, 2.2637773232886635, 11.319527048464193, 2.2641905851505184, 2.264746692915544, 2.2649494728419244, 2.2664209127235626, 11.015103814726825, 6.222592464555197, 3.0541702400374096, 7.057129253513316, 3.855335740889137, 3.0617470499464448, 36.401652341691246, 6.297689761411499, 9.553821557323678, 7.927682654771271, 163.32258272540577, 163.32261288500334], \"Category\": [\"Default\", \"Default\", \"Default\", \"Default\", \"Default\", \"Default\", \"Default\", \"Default\", \"Default\", \"Default\", \"Default\", \"Default\", \"Default\", \"Default\", \"Default\", \"Default\", \"Default\", \"Default\", \"Default\", \"Default\", \"Default\", \"Default\", \"Default\", \"Default\", \"Default\", \"Default\", \"Default\", \"Default\", \"Default\", \"Default\", \"Topic1\", \"Topic1\", \"Topic1\", \"Topic1\", \"Topic1\", \"Topic1\", \"Topic1\", \"Topic1\", \"Topic1\", \"Topic1\", \"Topic1\", \"Topic1\", \"Topic1\", \"Topic1\", \"Topic1\", \"Topic1\", \"Topic1\", \"Topic1\", \"Topic1\", \"Topic1\", \"Topic1\", \"Topic1\", \"Topic1\", \"Topic1\", \"Topic1\", \"Topic1\", \"Topic1\", \"Topic1\", \"Topic1\", \"Topic1\", \"Topic1\", \"Topic1\", \"Topic1\", \"Topic1\", \"Topic1\", \"Topic1\", \"Topic1\", \"Topic2\", \"Topic2\", \"Topic2\", \"Topic2\", \"Topic2\", \"Topic2\", \"Topic2\", \"Topic2\", \"Topic2\", \"Topic2\", \"Topic2\", \"Topic2\", \"Topic2\", \"Topic2\", \"Topic2\", \"Topic2\", \"Topic2\", \"Topic2\", \"Topic2\", \"Topic2\", \"Topic2\", \"Topic2\", \"Topic2\", \"Topic2\", \"Topic2\", \"Topic2\", \"Topic2\", \"Topic2\", \"Topic2\", \"Topic2\", \"Topic2\", \"Topic2\", \"Topic2\", \"Topic2\", \"Topic2\", \"Topic2\", \"Topic2\", \"Topic2\", \"Topic2\", \"Topic2\", \"Topic2\", \"Topic2\"], \"logprob\": [30.0, 29.0, 28.0, 27.0, 26.0, 25.0, 24.0, 23.0, 22.0, 21.0, 20.0, 19.0, 18.0, 17.0, 16.0, 15.0, 14.0, 13.0, 12.0, 11.0, 10.0, 9.0, 8.0, 7.0, 6.0, 5.0, 4.0, 3.0, 2.0, 1.0, -2.7859, -4.2518, -4.9475, -4.9475, -5.1725, -5.1906, -5.1732, -5.3281, -5.3493, -5.3933, -5.3714, -5.538, -5.565, -5.5919, -5.6479, -5.7075, -5.7076, -5.8044, -5.8047, -5.8051, -5.95, -5.8764, -5.9902, -6.0317, -6.0753, -6.0754, -6.0754, -5.9532, -5.8791, -6.0333, -3.9152, -3.9152, -5.371, -5.3306, -5.9979, -5.5136, -5.6499, -2.4022, -3.0639, -3.0604, -3.0781, -3.0464, -3.111, -3.1335, -3.2002, -3.1527, -3.1226, -3.4953, -3.7482, -3.6752, -6.2661, -6.4563, -2.8798, -7.0189, -7.2037, -7.4766, -7.4835, -7.4976, -7.7923, -7.7945, -7.8038, -7.8057, -6.1969, -7.8078, -7.8107, -7.8118, -7.8195, -6.9656, -7.2764, -7.6688, -7.3268, -7.5928, -7.7038, -6.9932, -7.5385, -7.4691, -7.5107, -7.1123, -7.1124], \"loglift\": [30.0, 29.0, 28.0, 27.0, 26.0, 25.0, 24.0, 23.0, 22.0, 21.0, 20.0, 19.0, 18.0, 17.0, 16.0, 15.0, 14.0, 13.0, 12.0, 11.0, 10.0, 9.0, 8.0, 7.0, 6.0, 5.0, 4.0, 3.0, 2.0, 1.0, 0.4435, 0.4399, 0.4376, 0.4375, 0.4358, 0.4358, 0.4352, 0.4345, 0.4344, 0.434, 0.4339, 0.4325, 0.4316, 0.4314, 0.431, 0.4303, 0.4302, 0.4288, 0.4286, 0.4282, 0.4266, 0.4261, 0.4257, 0.4251, 0.4242, 0.424, 0.424, 0.4237, 0.4237, 0.4236, 0.4217, 0.4217, 0.4147, 0.4136, 0.4187, 0.3244, -1.851, 1.0242, 1.0233, 1.0232, 1.0232, 1.0232, 1.0232, 1.0231, 1.023, 1.023, 1.0227, 1.0222, 1.0213, 1.0129, 0.9773, 0.9686, 0.9191, 0.9119, 0.9092, 0.8549, 0.8474, 0.832, 0.8244, 0.822, 0.8119, 0.8099, 0.8092, 0.8076, 0.8044, 0.8033, 0.7949, 0.0677, 0.3281, 0.6473, 0.1518, 0.4904, 0.6098, -1.1552, 0.0539, -0.2935, -0.1484, -2.7754, -2.7755]}, \"token.table\": {\"Topic\": [1, 1, 2, 1, 1, 2, 1, 2, 1, 2, 2, 1, 1, 1, 2, 1, 1, 2, 1, 2, 2, 1, 2, 1, 1, 1, 2, 1, 2, 1, 2, 2, 1, 1, 2, 1, 1, 1, 2, 1, 2, 1, 1, 2, 1, 2, 2, 1, 2, 1, 2, 1, 2, 2, 1, 2, 2, 1, 2, 1, 2, 1, 2, 2, 2, 2, 1, 2, 1, 1, 2, 2, 2, 1, 2, 1, 2, 1, 1, 1, 2, 1, 1, 2, 2, 2, 2, 1, 2, 2, 1, 1, 1, 1, 1, 2], \"Freq\": [0.9691119804486951, 0.9754640489280098, 0.025011898690461786, 0.9692544566458057, 0.9885729417491931, 0.8016161349621688, 0.9787125367692743, 0.8830219057781092, 0.9796561368550795, 0.024491403421376987, 1.0001549806839756, 0.9955169811050342, 1.0036544917147114, 0.9888670230794107, 1.0000577905830266, 0.9992871597068719, 0.3274211721700724, 0.6548423443401448, 0.9789584718457127, 0.9981177857118414, 1.0003967778080214, 0.008700145990251982, 0.9918166428887258, 0.9619596600617817, 0.9789356385819177, 1.0010307883952652, 0.9998735615390981, 0.9796563177610776, 0.02449140794402694, 0.8790809741169364, 0.10988512176461705, 0.996877058673076, 0.9837389641179191, 0.9826502547883547, 0.8831009694180324, 0.9825887666852275, 0.9887741070663786, 0.9955087425951729, 0.995414712093633, 0.9936435551758904, 0.9976088082441572, 1.0010422639393253, 0.3318837947754581, 0.6637675895509162, 0.732691097274473, 0.31401047026048845, 0.8833178678141373, 0.5187615643401138, 0.5187615643401138, 0.9799511328625515, 0.04899755664312758, 0.9979676608568449, 0.8836170850563146, 0.8824486170120077, 0.9952714147805186, 0.008730451006846655, 0.9968778089518776, 0.17668582719375675, 0.7950862223719054, 0.6307013307338625, 0.25228053229354497, 0.6351535486091461, 0.31757677430457304, 0.9970286111833232, 0.9401167164035402, 0.9974852888408449, 0.4821141697915205, 0.4821141697915205, 0.9792533279691608, 0.1001081848819764, 0.9009736639377876, 0.8908909283912323, 0.8843175162590413, 0.9789969728114575, 0.8834791211242166, 0.635491060069832, 0.3631377486113326, 0.95812698864411, 0.9784132928288352, 0.9647084246492493, 0.02607320066619593, 0.991902751770545, 0.005055290972293408, 0.9958923215418014, 0.9983131191126947, 0.8844863471641354, 1.0080616183849018, 0.5668027120246725, 0.4251020340185044, 0.9966512434538723, 1.0004578124400108, 0.9581249999081819, 0.9581146683993821, 0.961722791569139, 0.326610913209663, 0.653221826419326], \"Term\": [\"americans\", \"amp\", \"amp\", \"bad\", \"believe\", \"canada\", \"care\", \"celtics\", \"co\", \"co\", \"copy\", \"covid\", \"day\", \"death\", \"demonstrate\", \"die\", \"dramatically\", \"dramatically\", \"feel\", \"figure\", \"follower\", \"friend\", \"friend\", \"gon\", \"good\", \"hard\", \"hotline\", \"https\", \"https\", \"injure\", \"injure\", \"jordan\", \"kill\", \"know\", \"land\", \"let\", \"life\", \"like\", \"listen\", \"live\", \"lockdown\", \"love\", \"malzoni\", \"malzoni\", \"matter\", \"matter\", \"mentalhealth\", \"michigan\", \"michigan\", \"na\", \"na\", \"need\", \"outlaw\", \"paint\", \"people\", \"people\", \"post\", \"prevention\", \"prevention\", \"rate\", \"rate\", \"reach\", \"reach\", \"retweet\", \"samaritans\", \"seattle\", \"sign\", \"sign\", \"stop\", \"suicide\", \"suicide\", \"suicideawareness\", \"suicideprevention\", \"tell\", \"text\", \"thank\", \"thank\", \"thing\", \"think\", \"time\", \"time\", \"trump\", \"try\", \"try\", \"tweet\", \"ty\", \"uk\", \"us\", \"us\", \"usa\", \"want\", \"way\", \"work\", \"year\", \"yo\", \"yo\"]}, \"R\": 30, \"lambda.step\": 0.01, \"plot.opts\": {\"xlab\": \"PC1\", \"ylab\": \"PC2\"}, \"topic.order\": [2, 1]};\n",
       "\n",
       "function LDAvis_load_lib(url, callback){\n",
       "  var s = document.createElement('script');\n",
       "  s.src = url;\n",
       "  s.async = true;\n",
       "  s.onreadystatechange = s.onload = callback;\n",
       "  s.onerror = function(){console.warn(\"failed to load library \" + url);};\n",
       "  document.getElementsByTagName(\"head\")[0].appendChild(s);\n",
       "}\n",
       "\n",
       "if(typeof(LDAvis) !== \"undefined\"){\n",
       "   // already loaded: just create the visualization\n",
       "   !function(LDAvis){\n",
       "       new LDAvis(\"#\" + \"ldavis_el442031706175680489434449587\", ldavis_el442031706175680489434449587_data);\n",
       "   }(LDAvis);\n",
       "}else if(typeof define === \"function\" && define.amd){\n",
       "   // require.js is available: use it to load d3/LDAvis\n",
       "   require.config({paths: {d3: \"https://cdnjs.cloudflare.com/ajax/libs/d3/3.5.5/d3.min\"}});\n",
       "   require([\"d3\"], function(d3){\n",
       "      window.d3 = d3;\n",
       "      LDAvis_load_lib(\"https://cdn.rawgit.com/bmabey/pyLDAvis/files/ldavis.v1.0.0.js\", function(){\n",
       "        new LDAvis(\"#\" + \"ldavis_el442031706175680489434449587\", ldavis_el442031706175680489434449587_data);\n",
       "      });\n",
       "    });\n",
       "}else{\n",
       "    // require.js not available: dynamically load d3 & LDAvis\n",
       "    LDAvis_load_lib(\"https://cdnjs.cloudflare.com/ajax/libs/d3/3.5.5/d3.min.js\", function(){\n",
       "         LDAvis_load_lib(\"https://cdn.rawgit.com/bmabey/pyLDAvis/files/ldavis.v1.0.0.js\", function(){\n",
       "                 new LDAvis(\"#\" + \"ldavis_el442031706175680489434449587\", ldavis_el442031706175680489434449587_data);\n",
       "            })\n",
       "         });\n",
       "}\n",
       "</script>"
      ],
      "text/plain": [
       "<IPython.core.display.HTML object>"
      ]
     },
     "execution_count": 15,
     "metadata": {},
     "output_type": "execute_result"
    }
   ],
   "source": [
    "data = pyLDAvis.sklearn.prepare(lda_model, doc_term_matrix, vectorizer)\n",
    "# Visualization can be displayed in the notebook\n",
    "pyLDAvis.display(data)"
   ]
  },
  {
   "cell_type": "markdown",
   "metadata": {},
   "source": [
    "# Test de clustering avec Kmeans et tfIdf"
   ]
  },
  {
   "cell_type": "code",
   "execution_count": 16,
   "metadata": {},
   "outputs": [],
   "source": [
    "import numpy as np\n",
    "import pandas as pd\n",
    "import matplotlib.pyplot as plt\n",
    "import matplotlib.cm as cm\n",
    "\n",
    "from sklearn.cluster import MiniBatchKMeans\n",
    "from sklearn.feature_extraction.text import TfidfVectorizer\n",
    "from sklearn.decomposition import PCA\n",
    "from sklearn.manifold import TSNE"
   ]
  },
  {
   "cell_type": "code",
   "execution_count": 72,
   "metadata": {},
   "outputs": [],
   "source": [
    "tfidf = TfidfVectorizer(\n",
    "    min_df = 5,\n",
    "    max_df = 0.95,\n",
    "    max_features = 8000,\n",
    "    stop_words = 'english',\n",
    "    ngram_range=(1,2)\n",
    ")\n",
    "tfidf.fit(corpus)\n",
    "text = tfidf.transform(corpus)"
   ]
  },
  {
   "cell_type": "code",
   "execution_count": 73,
   "metadata": {},
   "outputs": [
    {
     "data": {
      "text/plain": [
       "(1000, 334)"
      ]
     },
     "execution_count": 73,
     "metadata": {},
     "output_type": "execute_result"
    }
   ],
   "source": [
    "text.shape"
   ]
  },
  {
   "cell_type": "code",
   "execution_count": 74,
   "metadata": {},
   "outputs": [
    {
     "name": "stdout",
     "output_type": "stream",
     "text": [
      "Fit 2 clusters\n",
      "Fit 4 clusters\n",
      "Fit 6 clusters\n",
      "Fit 8 clusters\n",
      "Fit 10 clusters\n",
      "Fit 12 clusters\n",
      "Fit 14 clusters\n",
      "Fit 16 clusters\n",
      "Fit 18 clusters\n",
      "Fit 20 clusters\n",
      "Fit 22 clusters\n",
      "Fit 24 clusters\n",
      "Fit 26 clusters\n",
      "Fit 28 clusters\n",
      "Fit 30 clusters\n",
      "Fit 32 clusters\n",
      "Fit 34 clusters\n",
      "Fit 36 clusters\n",
      "Fit 38 clusters\n",
      "Fit 40 clusters\n"
     ]
    },
    {
     "data": {
      "image/png": "[encoded data removed]",
      "text/plain": [
       "<Figure size 432x288 with 1 Axes>"
      ]
     },
     "metadata": {
      "needs_background": "light"
     },
     "output_type": "display_data"
    }
   ],
   "source": [
    "def find_optimal_clusters(data, max_k):\n",
    "    iters = range(2, max_k+1, 2)\n",
    "    \n",
    "    sse = []\n",
    "    for k in iters:\n",
    "        sse.append(MiniBatchKMeans(n_clusters=k, init_size=1024, batch_size=2048, random_state=20).fit(data).inertia_)\n",
    "        print('Fit {} clusters'.format(k))\n",
    "        \n",
    "    f, ax = plt.subplots(1, 1)\n",
    "    ax.plot(iters, sse, marker='o')\n",
    "    ax.set_xlabel('Cluster Centers')\n",
    "    ax.set_xticks(iters)\n",
    "    ax.set_xticklabels(iters)\n",
    "    ax.set_ylabel('SSE')\n",
    "    ax.set_title('SSE by Cluster Center Plot')\n",
    "    \n",
    "find_optimal_clusters(text, 40)"
   ]
  },
  {
   "cell_type": "markdown",
   "metadata": {},
   "source": [
    "inertia = Sum of squared distances of samples to their closest cluster center."
   ]
  },
  {
   "cell_type": "code",
   "execution_count": 105,
   "metadata": {},
   "outputs": [],
   "source": [
    "clusters = MiniBatchKMeans(n_clusters=8, init_size=1024, batch_size=2048, random_state=20).fit_predict(text)"
   ]
  },
  {
   "cell_type": "markdown",
   "metadata": {},
   "source": [
    "### Visualisation du graphique avec l'ACP"
   ]
  },
  {
   "cell_type": "code",
   "execution_count": 106,
   "metadata": {},
   "outputs": [],
   "source": [
    "data = text\n",
    "labels = clusters\n",
    "\n",
    "max_label = max(labels)\n",
    "#max_items = np.random.choice(range(data.shape[0]), size=100, replace=False)\n",
    "\n",
    "pca = PCA(n_components=100).fit_transform(data.todense())\n",
    "tsne = TSNE().fit_transform(PCA(n_components=100).fit_transform(data.todense()))\n",
    "\n",
    "# idx = np.random.choice(range(pca.shape[0]), size=100, replace=False)\n",
    "# label_subset = labels[max_items]\n",
    "# label_subset = [cm.hsv(i/max_label) for i in label_subset[idx]]"
   ]
  },
  {
   "cell_type": "code",
   "execution_count": 95,
   "metadata": {},
   "outputs": [
    {
     "data": {
      "text/plain": [
       "(1000, 100)"
      ]
     },
     "execution_count": 95,
     "metadata": {},
     "output_type": "execute_result"
    }
   ],
   "source": [
    "pca.shape"
   ]
  },
  {
   "cell_type": "code",
   "execution_count": 120,
   "metadata": {},
   "outputs": [
    {
     "data": {
      "image/png": "[encoded data removed]",
      "text/plain": [
       "<Figure size 432x288 with 2 Axes>"
      ]
     },
     "metadata": {
      "needs_background": "light"
     },
     "output_type": "display_data"
    }
   ],
   "source": [
    "# f, ax = plt.subplots()\n",
    "\n",
    "# pos = ax.scatter(pca[idx, 0], pca[idx, 1], c=label_subset)\n",
    "# f.gca().set_aspect('equal', 'datalim')\n",
    "\n",
    "# # add the colorbar using the figure's method,\n",
    "# # telling which mappable we're talking about and\n",
    "# # which axes object it should be near\n",
    "# f.colorbar(pos, ax=ax).set_ticks(np.arange(14))\n",
    "# plt.title('UMAP projection of the Digits dataset', fontsize=24);\n",
    "# ax.set_title('PCA Cluster Plot')\n",
    "\n",
    "pos = plt.scatter(pca[:,0], pca[:,1], c=clusters, cmap=\"Set2_r\")\n",
    "plt.gca().set_aspect('equal', 'datalim')\n",
    "plt.colorbar(boundaries=np.arange(9)-0.5).set_ticks(np.arange(8))\n",
    "plt.title('PCA projection', fontsize=24);"
   ]
  },
  {
   "cell_type": "markdown",
   "metadata": {},
   "source": [
    "## Top words et exemples"
   ]
  },
  {
   "cell_type": "code",
   "execution_count": 121,
   "metadata": {},
   "outputs": [
    {
     "name": "stdout",
     "output_type": "stream",
     "text": [
      "\n",
      "Cluster 0\n",
      "hurt,come,got,start,year,season,player,game,https,injure\n",
      "\n",
      "Cluster 1\n",
      "like,want,today,live die,tell,life,die,https,live,kill\n",
      "\n",
      "Cluster 2\n",
      "demonstrate listen,demonstrate,tweet try,try demonstrate,lockdown,figure lockdown,friend,lockdown friend,friend copy,copy\n",
      "\n",
      "Cluster 3\n",
      "million people,like,trump,let,covid,https,day,die,people die,people\n",
      "\n",
      "Cluster 4\n",
      "think,hill,covid,hard,die hard,like,want,die https,https,die\n",
      "\n",
      "Cluster 5\n",
      "money,let,time,people,amp,https,die,love,know,suicide\n",
      "\n",
      "Cluster 6\n",
      "good,open,phone,let die,die,let,na die,gon,gon na,na\n",
      "\n",
      "Cluster 7\n",
      "post,post tweet,figure,usa,suicide figure,usa hotline,hotline,follower,follower copy,copy\n"
     ]
    }
   ],
   "source": [
    "def get_top_keywords(data, clusters, labels, n_terms):\n",
    "    df = pd.DataFrame(data.todense()).groupby(clusters).mean()\n",
    "    \n",
    "    for i,r in df.iterrows():\n",
    "        print('\\nCluster {}'.format(i))\n",
    "        print(','.join([labels[t] for t in np.argsort(r)[-n_terms:]]))\n",
    "            \n",
    "get_top_keywords(text, clusters, tfidf.get_feature_names(), 10)"
   ]
  },
  {
   "cell_type": "code",
   "execution_count": 123,
   "metadata": {},
   "outputs": [
    {
     "data": {
      "text/plain": [
       "id\n",
       "1326962115450527744                                          Suicide figures are up 200% since lockdown. Could 2 friends please copy and re-post this tweet? We’re trying to demonstrate that someone is always listening. Call 1-800-273-8255 (USA hotline) Just two. Any two. Copy, not retweet.\n",
       "1327268750870147072                                          Suicide figures are up 200% since lockdown. Could 2 friends please copy and re-post this tweet? We’re trying to demonstrate that someone is always listening. Call 1-800-273-8255 (USA hotline) Just two. Any two. Copy, not retweet.\n",
       "1327066068167389185                  Suicide figures are up 200% since lockdown. Could 2 friends please copy and re-post this tweet? We’re trying to demonstrate that someone is always listening. Call 1-800-273-8255 (USA hotline) Just two. Any two. Copy, not retweet. https://t.co/pWGMXFK1qI\n",
       "1326978608028499968                                          Suicide figures are up 200% since lockdown. Could 2 friends please copy and re-post this tweet? We’re trying to demonstrate that someone is always listening. Call 1-800-273-8255 (USA hotline) Just two. Any two. Copy, not retweet.\n",
       "1326950903564398594                                   Suicide figures are up 200% since lockdown. Could 2 friends please copy and re-post this tweet? We’re trying to demonstrate that someone is always listening. \\n\\nCall 1-800-273-8255 (USA hotline)\\n\\nJust two. Any two. Copy, not retweet.\n",
       "                                                                                                                                                          ...                                                                                                                                     \n",
       "1327079205247594496                                    Suicide figures are up 200% since lockdown. Could 2 friends please copy and re-post this tweet? We’re trying to demonstrate that someone is always listening. \\n\\nCall 1-800-273-8255 (USA hotline)\\n\\nJust two. Any two. Copy, not retweet\n",
       "1326942547701354496                                   Suicide figures are up 200% since lockdown. Could 2 friends please copy and re-post this tweet? We’re trying to demonstrate that someone is always listening. \\n\\nCall 1-800-273-8255 (USA hotline)\\n\\nJust two. Any two. Copy, not retweet.\n",
       "1326916290427154434    @HHFoundation81 @haydenrhurst  Suicide figures are up 200% since lockdown. Could 2 friends please copy and re-post this tweet? We’re trying to demonstrate that someone is always listening. \\n\\nCall 1-800-273-8255 (USA hotline)\\n\\nJust two. Any two. Copy, not retweet.\n",
       "1326976952054521856                                         Suicide figures are up 200% since lockdown. Could 2 friends please copy and re-post this tweet? We’re trying to demonstrate that someone is always listening. Call 1-800-273-8255 (USA Hotline). Just two. Any two. Copy, not retweet.\n",
       "1327435836711899136                                           Suicide figures are up 200% since lockdown. Could 2 friends please copy and re-post this tweet? We’re trying to demonstrate that someone is always listening. Call 1-800-273-8255 (USA hotline) Just two. Any two. Copy, not retweet\n",
       "Name: full_text, Length: 137, dtype: object"
      ]
     },
     "execution_count": 123,
     "metadata": {},
     "output_type": "execute_result"
    }
   ],
   "source": [
    "tweets3[\"clusters\"]=clusters\n",
    "pd.options.display.max_colwidth = 500\n",
    "cluster1 = tweets3[\"clusters\"]==2\n",
    "tweets3[cluster1].full_text"
   ]
  },
  {
   "cell_type": "markdown",
   "metadata": {},
   "source": [
    "Les clusters 7 et 2 sont des chaines d'appels aux hotlines concernant les suicides  \n",
    "## Suppression des tweets de hotline"
   ]
  },
  {
   "cell_type": "code",
   "execution_count": 129,
   "metadata": {},
   "outputs": [
    {
     "name": "stdout",
     "output_type": "stream",
     "text": [
      "Taille de l'échantillon avant suppression: 719\n",
      "Tweets restants 719\n"
     ]
    }
   ],
   "source": [
    "delete7 = tweets3[\"clusters\"]==7\n",
    "print(\"Taille de l'échantillon avant suppression:\",len(tweets3))\n",
    "tweets3 = tweets3[~delete7]\n",
    "delete2 = tweets3[\"clusters\"]==2\n",
    "tweets3 = tweets3[~delete2]\n",
    "print(\"Tweets restants\", len(tweets3))"
   ]
  },
  {
   "cell_type": "markdown",
   "metadata": {},
   "source": [
    "# Relancement de la pipeline"
   ]
  },
  {
   "cell_type": "code",
   "execution_count": 130,
   "metadata": {},
   "outputs": [
    {
     "name": "stdout",
     "output_type": "stream",
     "text": [
      "Fit 2 clusters\n",
      "Fit 4 clusters\n",
      "Fit 6 clusters\n",
      "Fit 8 clusters\n",
      "Fit 10 clusters\n",
      "Fit 12 clusters\n",
      "Fit 14 clusters\n",
      "Fit 16 clusters\n",
      "Fit 18 clusters\n",
      "Fit 20 clusters\n",
      "Fit 22 clusters\n",
      "Fit 24 clusters\n",
      "Fit 26 clusters\n",
      "Fit 28 clusters\n",
      "Fit 30 clusters\n",
      "Fit 32 clusters\n",
      "Fit 34 clusters\n",
      "Fit 36 clusters\n",
      "Fit 38 clusters\n",
      "Fit 40 clusters\n"
     ]
    },
    {
     "data": {
      "image/png": "[encoded data removed]",
      "text/plain": [
       "<Figure size 432x288 with 1 Axes>"
      ]
     },
     "metadata": {
      "needs_background": "light"
     },
     "output_type": "display_data"
    }
   ],
   "source": [
    "def clean_text(tweets):\n",
    "    docs = (nlp(tweet) for tweet in tweets.full_text)\n",
    "    corpus = []\n",
    "    for tweet in lemmatizer.pipe(docs, batch_size=50):\n",
    "        corpus.append(\" \".join([re.sub(r\"\\d+\", \"\", w.lemma_) for w in tweet if w.lemma_ not in spacy_stopwords]))\n",
    "    return corpus\n",
    "\n",
    "corpus = clean_text(tweets3)\n",
    "\n",
    "tfidf = TfidfVectorizer(\n",
    "    min_df = 5,\n",
    "    max_df = 0.95,\n",
    "    max_features = 8000,\n",
    "    stop_words = 'english',\n",
    "    ngram_range=(1,2)\n",
    ")\n",
    "\n",
    "tfidf.fit(corpus)\n",
    "text = tfidf.transform(corpus)\n",
    "find_optimal_clusters(text, 40)"
   ]
  },
  {
   "cell_type": "code",
   "execution_count": 140,
   "metadata": {},
   "outputs": [
    {
     "data": {
      "image/png": "[encoded data removed]",
      "text/plain": [
       "<Figure size 432x288 with 2 Axes>"
      ]
     },
     "metadata": {
      "needs_background": "light"
     },
     "output_type": "display_data"
    }
   ],
   "source": [
    "clusters = MiniBatchKMeans(n_clusters=8, init_size=1024, batch_size=2048, random_state=20).fit_predict(text)\n",
    "data = text\n",
    "labels = clusters\n",
    "\n",
    "max_label = max(labels)\n",
    "#max_items = np.random.choice(range(data.shape[0]), size=100, replace=False)\n",
    "\n",
    "pca = PCA(n_components=100).fit_transform(data.todense())\n",
    "tsne = TSNE().fit_transform(PCA(n_components=100).fit_transform(data.todense()))\n",
    "\n",
    "pos = plt.scatter(pca[:,0], pca[:,1], c=clusters, cmap=\"Set2_r\")\n",
    "plt.gca().set_aspect('equal', 'datalim')\n",
    "plt.colorbar(boundaries=np.arange(9)-0.5).set_ticks(np.arange(8))\n",
    "plt.title('PCA projection', fontsize=24);\n"
   ]
  },
  {
   "cell_type": "code",
   "execution_count": 132,
   "metadata": {},
   "outputs": [
    {
     "name": "stdout",
     "output_type": "stream",
     "text": [
      "\n",
      "Cluster 0\n",
      "thousand,know,way,fucking,live die,believe,live,die,die https,https\n",
      "\n",
      "Cluster 1\n",
      "help,https,covid,live,suicide,day,wo,know,die,need\n",
      "\n",
      "Cluster 2\n",
      "hurt,come,got,start,year,season,player,game,https,injure\n",
      "\n",
      "Cluster 3\n",
      "death,million,like,trump,let,know,covid,die,people die,people\n",
      "\n",
      "Cluster 4\n",
      "prevention,suicide https,commit,life,die,amp,https,want die,want,suicide\n",
      "\n",
      "Cluster 5\n",
      "feel like,use,look,damn,wanna,want,https,like,feel,kill\n",
      "\n",
      "Cluster 6\n",
      "suicide,know,want,damn,life,https,people,love die,die,love\n",
      "\n",
      "Cluster 7\n",
      "amp,gon,hard,die hard,time,covid,think,https,let,die\n"
     ]
    }
   ],
   "source": [
    "get_top_keywords(text, clusters, tfidf.get_feature_names(), 10)"
   ]
  },
  {
   "cell_type": "code",
   "execution_count": 141,
   "metadata": {},
   "outputs": [
    {
     "data": {
      "text/plain": [
       "id\n",
       "1326785906314010626                                     The LAST thing I needed all those years ago when I was mega-depressed was to be told '&lt;self-harm&gt; is on the rise'. The LAST thing I needed was to have the concept of suicide slid in front of me out of context, causing suicidal ideation to start spinning up again.\n",
       "1326932063958818820                                                                                                                                                                                                                                                               How much Windex does one need to breathe in to die?\n",
       "1327071195334914048                                                                                                                             This is crazy. We can do better Idaho @GovernorLittle #MaskUpIdaho needs to be mandated, \"responsibility\" is NOT working. How many more will get sick or die? https://t.co/HxwrbqIO0D\n",
       "1328456599753650176                                                                                        Today I found out that 7% of health care works consider suicide once every 24 months. Covid has increased this tremendously. Doctors and nurses and burnt out and we need to do everything we can to help them. #WearAMask\n",
       "1327581638918893568                                                                                                                                                                                                   @fatbellybella You and Swizz beatz would do a 🔥 versus but this country needs🔥on helping these folk not to die.\n",
       "1328427313525108736                                                                                                                                                                                                                                                     I really need to see this Sixers championship before I die 🙏🏾\n",
       "1327695038533472257                                                                                                                                                                               @MeccaMitchell @30SECVlDEOS You using the wrong THAN let’s me know everything I need to know. Hope you don’t catch it and die 🤷🏾‍♂️\n",
       "1329152012890615809                                                                                                                                                  @TXGovAbbott I am sure you don't really care how many police officers die right. You are a murderer plain and simple you need tried for crimes against humanity.\n",
       "1327264441520386048                                                                   Please tell me @GreysABC isn’t going to pull a Izzie Stevens thing where she sees Derek and has a goddamn tumor or some shit. If you kill off @EllenPompeo, the show needs to die as well. Still don’t like all the COVID shit in shows though.\n",
       "1327065934956269568                       Don’t know about how the UK compares to the US on this, but I don’t think we necessarily need more mental healthcare, given that clinicians know zip about suicide. If people are suffering re: finances, healthcare, housing, we def need more of THOSE resources. https://t.co/ezW661MVTU\n",
       "1328885202094092289                                                                                                                                                                                                                                                 @karensegovia22 don’t die on me we still need our make out sesh😔😳\n",
       "1329168242376540161                                                                                                                                                                                                            something tells me that if i die i virgin i won’t be receiving a cookie lol so yeah i need to fix that\n",
       "1327517704442535937                                                                                                                                                                                                                                                            @SupremeDreams_1 needs an HBO sketch show before I die\n",
       "1328010013726691334                                                                                                                                                                                                         @kc_martin12 @Scaramucci 👆👆👆👆👆So true. We need flip the Senate. McConnell us where all bills go to die!!!\n",
       "1326902418496483329                                                                                                                                                                                              I have a hour and a half for lunch today because of overtime I need to kill and I don’t know what to do with myself.\n",
       "1328509410147241984                                                                                            If you put plants in the garage for three months with NOOO SUNLIGHT how tf do you really try to explain to me that they won’t die. THEY NEED SUNLIGHT. NOT A COLD DINGY DARK GARAGE. BROOO COME ON. PHOTOSYNTHESIS YO.\n",
       "1327957640639512576                                                                                                                                                                                           @politeberry Men suck and the reason they die before women is cause God knew we'd need a break from them before dying 😂\n",
       "1328102991703003137                     That governor needs fired !! She’s directly responsible for the severe increase of Covid hospitalizations and deaths . If the hospitals are full , more people with exacerbation of CHF, COPD , severe Hypertension episodes will die as there won’t be enough staff. https://t.co/hsANLMHpFg\n",
       "1328553684561641478                                                                                                                                                                                                before i die i need to live with my brother again and meet michael tyson the human and iron mike tyson the fighter\n",
       "1328206912157065216                                                                                                                                                                                                @justinamash Kids need parents to not get sick and die from COVID more than they need interaction with other kids.\n",
       "1328439793630384128                                       Do I wish I had been able to pay off my student loans without my husband having to die? Yes. Is it “fair” that not everyone likes how their debt gets paid? That can’t be a serious question. Why do people need loans to learn in the first place? https://t.co/mLkTA8fhJZ\n",
       "1327801940118482944                                                                                             I, cannot stress this enough, NEED, to see Green Day in concert before I/they die. Idc if I’m 60... I definitely WILL see them in concert someday. I’m totally obsessed &amp; idc if you judge me; Green Day is bomb.\n",
       "1328122792475234306    @Speaker71111280 If you begin to feel hopeless call 800-273-8255 National Suicide hot line they may be able to refer you to local resources.  Please keep this number &amp; anyone reading this always reach out &amp; give someone a referral if they need it.   We are in dark days #012021 #BuildBackBetter\n",
       "1329070845130461184                                                             NIGGA.\\nIs goin to the club worth it?\\nTo the bar?\\nTo the restaurant?\\n1500+ about to not taste or smell any thanksgiving food or possibly die from peoples selfishness.\\nY’all need to stop playing and sit down somewhere. https://t.co/T7MmnTWObX\n",
       "1326950266264981510                                                                                                                                                                               @ItsameDylan Dude, we love you.\\n\\nI'm in the same 🚢 but we need each other to keep going. Live and Die protesting ✊ #GeneralStrike\n",
       "1326523957856571393                                                                        I’m from the Viet Nam era. I saw how are men and women were treated when they got home. I have friends who are on the Memorial, I’ve lost some to suicide and I’ve seen the effects of PTSD... the wars need to stop.. bring them home🇺🇸💔😥\n",
       "Name: full_text, dtype: object"
      ]
     },
     "execution_count": 141,
     "metadata": {},
     "output_type": "execute_result"
    }
   ],
   "source": [
    "tweets3[\"clusters\"]=clusters\n",
    "pd.options.display.max_colwidth = 500\n",
    "cluster1 = tweets3[\"clusters\"]==1\n",
    "tweets3[cluster1].full_text"
   ]
  },
  {
   "cell_type": "code",
   "execution_count": 138,
   "metadata": {},
   "outputs": [
    {
     "ename": "ValueError",
     "evalue": "Cannot take a larger sample than population when 'replace=False'",
     "output_type": "error",
     "traceback": [
      "\u001b[1;31m---------------------------------------------------------------------------\u001b[0m",
      "\u001b[1;31mValueError\u001b[0m                                Traceback (most recent call last)",
      "\u001b[1;32m<ipython-input-138-c780702d4e37>\u001b[0m in \u001b[0;36m<module>\u001b[1;34m\u001b[0m\n\u001b[0;32m     23\u001b[0m \u001b[1;33m\u001b[0m\u001b[0m\n\u001b[0;32m     24\u001b[0m \u001b[1;33m\u001b[0m\u001b[0m\n\u001b[1;32m---> 25\u001b[1;33m \u001b[0mplot_tsne_pca\u001b[0m\u001b[1;33m(\u001b[0m\u001b[0mtext\u001b[0m\u001b[1;33m,\u001b[0m \u001b[0mclusters\u001b[0m\u001b[1;33m)\u001b[0m\u001b[1;33m\u001b[0m\u001b[1;33m\u001b[0m\u001b[0m\n\u001b[0m",
      "\u001b[1;32m<ipython-input-138-c780702d4e37>\u001b[0m in \u001b[0;36mplot_tsne_pca\u001b[1;34m(data, labels)\u001b[0m\n\u001b[0;32m      1\u001b[0m \u001b[1;32mdef\u001b[0m \u001b[0mplot_tsne_pca\u001b[0m\u001b[1;33m(\u001b[0m\u001b[0mdata\u001b[0m\u001b[1;33m,\u001b[0m \u001b[0mlabels\u001b[0m\u001b[1;33m)\u001b[0m\u001b[1;33m:\u001b[0m\u001b[1;33m\u001b[0m\u001b[1;33m\u001b[0m\u001b[0m\n\u001b[0;32m      2\u001b[0m     \u001b[0mmax_label\u001b[0m \u001b[1;33m=\u001b[0m \u001b[0mmax\u001b[0m\u001b[1;33m(\u001b[0m\u001b[0mlabels\u001b[0m\u001b[1;33m)\u001b[0m\u001b[1;33m\u001b[0m\u001b[1;33m\u001b[0m\u001b[0m\n\u001b[1;32m----> 3\u001b[1;33m     \u001b[0mmax_items\u001b[0m \u001b[1;33m=\u001b[0m \u001b[0mnp\u001b[0m\u001b[1;33m.\u001b[0m\u001b[0mrandom\u001b[0m\u001b[1;33m.\u001b[0m\u001b[0mchoice\u001b[0m\u001b[1;33m(\u001b[0m\u001b[0mrange\u001b[0m\u001b[1;33m(\u001b[0m\u001b[0mdata\u001b[0m\u001b[1;33m.\u001b[0m\u001b[0mshape\u001b[0m\u001b[1;33m[\u001b[0m\u001b[1;36m0\u001b[0m\u001b[1;33m]\u001b[0m\u001b[1;33m)\u001b[0m\u001b[1;33m,\u001b[0m \u001b[0msize\u001b[0m\u001b[1;33m=\u001b[0m\u001b[1;36m1000\u001b[0m\u001b[1;33m,\u001b[0m \u001b[0mreplace\u001b[0m\u001b[1;33m=\u001b[0m\u001b[1;32mFalse\u001b[0m\u001b[1;33m)\u001b[0m\u001b[1;33m\u001b[0m\u001b[1;33m\u001b[0m\u001b[0m\n\u001b[0m\u001b[0;32m      4\u001b[0m \u001b[1;33m\u001b[0m\u001b[0m\n\u001b[0;32m      5\u001b[0m     \u001b[0mpca\u001b[0m \u001b[1;33m=\u001b[0m \u001b[0mPCA\u001b[0m\u001b[1;33m(\u001b[0m\u001b[0mn_components\u001b[0m\u001b[1;33m=\u001b[0m\u001b[1;36m20\u001b[0m\u001b[1;33m)\u001b[0m\u001b[1;33m.\u001b[0m\u001b[0mfit_transform\u001b[0m\u001b[1;33m(\u001b[0m\u001b[0mdata\u001b[0m\u001b[1;33m[\u001b[0m\u001b[0mmax_items\u001b[0m\u001b[1;33m,\u001b[0m\u001b[1;33m:\u001b[0m\u001b[1;33m]\u001b[0m\u001b[1;33m.\u001b[0m\u001b[0mtodense\u001b[0m\u001b[1;33m(\u001b[0m\u001b[1;33m)\u001b[0m\u001b[1;33m)\u001b[0m\u001b[1;33m\u001b[0m\u001b[1;33m\u001b[0m\u001b[0m\n",
      "\u001b[1;32mmtrand.pyx\u001b[0m in \u001b[0;36mnumpy.random.mtrand.RandomState.choice\u001b[1;34m()\u001b[0m\n",
      "\u001b[1;31mValueError\u001b[0m: Cannot take a larger sample than population when 'replace=False'"
     ]
    }
   ],
   "source": [
    "def plot_tsne_pca(data, labels):\n",
    "    max_label = max(labels)\n",
    "    max_items = np.random.choice(range(data.shape[0]), size=1000, replace=False)\n",
    "    \n",
    "    pca = PCA(n_components=20).fit_transform(data[max_items,:].todense())\n",
    "    tsne = TSNE().fit_transform(PCA(n_components=100).fit_transform(data[max_items,:].todense()))\n",
    "    \n",
    "    idx = np.random.choice(range(pca.shape[0]), size=1000, replace=False)\n",
    "    label_subset = labels[max_items]\n",
    "    label_subset = [cm.hsv(i/max_label) for i in label_subset[idx]]\n",
    "    \n",
    "    f, ax = plt.subplots(1, 2, figsize=(14, 6))\n",
    "    \n",
    "    ax[0].scatter(pca[idx, 0], pca[idx, 1], c=label_subset, cmap=\"Spectral\")\n",
    "    \n",
    "    ax[0].set_title('PCA Cluster Plot')\n",
    "    plot = ax[1].scatter(tsne[idx, 0], tsne[idx, 1], c=label_subset)\n",
    "    ax[1].set_title('TSNE Cluster Plot')\n",
    "    legend1 = plt.legend(*plot.legend_elements(),\n",
    "                    loc=\"lower left\", title=\"Classes\")\n",
    "    ax[1].add_artist(legend1)\n",
    "\n",
    "\n",
    "    \n",
    "plot_tsne_pca(text, clusters)"
   ]
  },
  {
   "cell_type": "code",
   "execution_count": 108,
   "metadata": {},
   "outputs": [
    {
     "name": "stdout",
     "output_type": "stream",
     "text": [
      "\n",
      "Cluster 0\n",
      "hurt,come,got,start,year,season,player,game,https,injure\n",
      "\n",
      "Cluster 1\n",
      "like,want,today,live die,tell,life,die,https,live,kill\n",
      "\n",
      "Cluster 2\n",
      "demonstrate listen,demonstrate,tweet try,try demonstrate,lockdown,figure lockdown,friend,lockdown friend,friend copy,copy\n",
      "\n",
      "Cluster 3\n",
      "million people,like,trump,let,covid,https,day,die,people die,people\n",
      "\n",
      "Cluster 4\n",
      "think,hill,covid,hard,die hard,like,want,die https,https,die\n",
      "\n",
      "Cluster 5\n",
      "money,let,time,people,amp,https,die,love,know,suicide\n",
      "\n",
      "Cluster 6\n",
      "good,open,phone,let die,die,let,na die,gon,gon na,na\n",
      "\n",
      "Cluster 7\n",
      "post,post tweet,figure,usa,suicide figure,usa hotline,hotline,follower,follower copy,copy\n"
     ]
    }
   ],
   "source": [
    "def get_top_keywords(data, clusters, labels, n_terms):\n",
    "    df = pd.DataFrame(data.todense()).groupby(clusters).mean()\n",
    "    \n",
    "    for i,r in df.iterrows():\n",
    "        print('\\nCluster {}'.format(i))\n",
    "        print(','.join([labels[t] for t in np.argsort(r)[-n_terms:]]))\n",
    "            \n",
    "get_top_keywords(text, clusters, tfidf.get_feature_names(), 10)"
   ]
  },
  {
   "cell_type": "code",
   "execution_count": 112,
   "metadata": {},
   "outputs": [],
   "source": [
    "tweets3[\"clusters\"]=clusters"
   ]
  },
  {
   "cell_type": "code",
   "execution_count": 117,
   "metadata": {},
   "outputs": [
    {
     "data": {
      "text/plain": [
       "id\n",
       "1326966983032795137                                                                    Suicide figures are up. Could 2 followers please copy and re-post this tweet? We’re trying to demonstrate that someone is always listening. \\n\\nCall 1-800-273-8255 (USA hotline)\\n\\nJust two. Any two. Copy, not retweet.\n",
       "1327009481998413825                                                                                             Suicide figures are up. Could 2 followers please copy and re-post this tweet? We’re trying to demonstrate that someone is always listening. \\nReach out. \\nCall 1-800-273-8255 (USA hotline) ❣️💔😢\n",
       "1326900092863967234                                                                                                              Suicide figures are up 200% since lockdown. Could 2 followers please copy and re-post this tweet? \\n\\nCall 1-800-273-8255 (USA hotline)\\n\\nJust two. Any two. Copy, not retweet.\n",
       "1326897348988071936                                                                                                             Suicide figures are up. Could 2 followers please copy and re-post this tweet? We’re trying to demonstrate that someone is always listening. \\n\\nCall 1-800-273-8255 (USA hotline)\n",
       "1327009930134626304                                                                                                              Suicide figures are up 200% since lockdown. Could 2 followers please copy and re-post this tweet? \\n\\nCall 1-800-273-8255 (USA hotline)\\n\\nJust two. Any two. Copy, not retweet.\n",
       "                                                                                                                                                                  ...                                                                                                                                            \n",
       "1327006182272282631                                                     Suicide figures are up since lockdown. Could 2 followers please copy and re-post this tweet? We’re trying to demonstrate that someone is always listening. \\n\\nCall 1-800-273-8255 (USA hotline)\\n\\nJust two. Any two. Copy, not retweet.\n",
       "1327392961626132480                                                Suicide figures are up 200% since lockdown. Could 2 followers please copy and re-post this tweet? We’re trying to demonstrate that someone is always listening. \\n\\nCall 1-800-273-8255 (USA hotline)\\n\\nJust two. Any two. Copy, not retweet.\n",
       "1326999377538293760                                                                    Suicide figures are up. Could 2 followers please copy and re-post this tweet? We’re trying to demonstrate that someone is always listening. \\n\\nCall 1-800-273-8255 (USA hotline)\\n\\nJust two. Any two. Copy, not retweet.\n",
       "1328781912995893250    Suicide figures are up. Could 2 followers please copy and re-post this tweet? We’re trying to demonstrate that someone is always listening. \\n\\nCall 1-800-273-8255 (USA hotline)\\nCall  116 123 for free in UK\\n\\nJust two. Any two. Copy, not retweet. \\n\\n#CultureOverScheme #WinTheDay\n",
       "1327288132211933184                                                                    Suicide figures are up. Could 2 followers please copy and re-post this tweet? We’re trying to demonstrate that someone is always listening. \\n\\nCall 1-800-273-8255 (USA hotline)\\n\\nJust two. Any two. Copy, not retweet.\n",
       "Name: full_text, Length: 144, dtype: object"
      ]
     },
     "execution_count": 117,
     "metadata": {},
     "output_type": "execute_result"
    }
   ],
   "source": []
  },
  {
   "cell_type": "code",
   "execution_count": 28,
   "metadata": {},
   "outputs": [
    {
     "name": "stdout",
     "output_type": "stream",
     "text": [
      "Fit 2 clusters\n",
      "Fit 4 clusters\n",
      "Fit 6 clusters\n",
      "Fit 8 clusters\n",
      "Fit 10 clusters\n",
      "Fit 12 clusters\n",
      "Fit 14 clusters\n",
      "Fit 16 clusters\n",
      "Fit 18 clusters\n",
      "Fit 20 clusters\n",
      "Fit 22 clusters\n",
      "Fit 24 clusters\n",
      "Fit 26 clusters\n",
      "Fit 28 clusters\n",
      "Fit 30 clusters\n",
      "Fit 32 clusters\n",
      "Fit 34 clusters\n",
      "Fit 36 clusters\n",
      "Fit 38 clusters\n",
      "Fit 40 clusters\n"
     ]
    },
    {
     "data": {
      "image/png": "[encoded data removed]",
      "text/plain": [
       "<Figure size 432x288 with 1 Axes>"
      ]
     },
     "metadata": {
      "needs_background": "light"
     },
     "output_type": "display_data"
    }
   ],
   "source": [
    "def find_optimal_clusters(data, max_k):\n",
    "    iters = range(2, max_k+1, 2)\n",
    "    \n",
    "    sse = []\n",
    "    for k in iters:\n",
    "        sse.append(MiniBatchKMeans(n_clusters=k, init_size=1024, batch_size=2048, random_state=20).fit(data).inertia_)\n",
    "        print('Fit {} clusters'.format(k))\n",
    "        \n",
    "    f, ax = plt.subplots(1, 1)\n",
    "    ax.plot(iters, sse, marker='o')\n",
    "    ax.set_xlabel('Cluster Centers')\n",
    "    ax.set_xticks(iters)\n",
    "    ax.set_xticklabels(iters)\n",
    "    ax.set_ylabel('SSE')\n",
    "    ax.set_title('SSE by Cluster Center Plot')\n",
    "    \n",
    "find_optimal_clusters(pca, 40)"
   ]
  },
  {
   "cell_type": "code",
   "execution_count": 29,
   "metadata": {},
   "outputs": [],
   "source": [
    "clusters = MiniBatchKMeans(n_clusters=16, init_size=1024, batch_size=2048, random_state=20).fit_predict(tsne)"
   ]
  }
 ],
 "metadata": {
  "kernelspec": {
   "display_name": "Python 3",
   "language": "python",
   "name": "python3"
  },
  "language_info": {
   "codemirror_mode": {
    "name": "ipython",
    "version": 3
   },
   "file_extension": ".py",
   "mimetype": "text/x-python",
   "name": "python",
   "nbconvert_exporter": "python",
   "pygments_lexer": "ipython3",
   "version": "3.8.5"
  }
 },
 "nbformat": 4,
 "nbformat_minor": 2
}
