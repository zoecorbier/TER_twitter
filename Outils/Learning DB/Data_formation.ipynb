{
 "cells": [
  {
   "cell_type": "code",
   "execution_count": 1,
   "metadata": {},
   "outputs": [
    {
     "data": {
      "text/plain": [
       "<firebase_admin.App at 0x1e302618c10>"
      ]
     },
     "execution_count": 1,
     "metadata": {},
     "output_type": "execute_result"
    }
   ],
   "source": [
    "import firebase_admin\n",
    "from firebase_admin import credentials, firestore\n",
    "\n",
    "cred = credentials.Certificate(\"../../key-firestore.json\")\n",
    "firebase_admin.initialize_app(cred)"
   ]
  },
  {
   "cell_type": "code",
   "execution_count": 2,
   "metadata": {},
   "outputs": [],
   "source": [
    "db = firestore.client()"
   ]
  },
  {
   "cell_type": "markdown",
   "metadata": {},
   "source": [
    "## Comment ce forme la bd ?\n",
    "\n",
    "La bd est une instance firebase, elle par un code d'accès va pouvoir communiquer avec le cloud firebase et échanger les données.\n",
    "\n",
    "La vrai communication avec lecloud se fait par ```firestore.client()```, il permet de la liaison en tant qu'objet avec le cloud.\n",
    "\n",
    "Plus d'information via : https://firebase.google.com/docs/reference/admin/python/firebase_admin"
   ]
  },
  {
   "cell_type": "markdown",
   "metadata": {},
   "source": [
    "## Liste des collections de données disponibles (~ de table en SQL):\n",
    "- personal_test\n",
    "- non_Cleaning_Word_Twitter (empty)\n",
    "- Dataset (empty)"
   ]
  },
  {
   "cell_type": "markdown",
   "metadata": {},
   "source": [
    "Chaque collection possèdes des documents de la forme :\n",
    "\n",
    "```\n",
    "id_du_tweet : {\n",
    "    data1: val1,\n",
    "    data2: val2\n",
    "    ...\n",
    "    datan: valn\n",
    "}\n",
    "\n",
    "```\n",
    "\n",
    "Ici c'est document seront chacun de nos tweets."
   ]
  },
  {
   "cell_type": "markdown",
   "metadata": {},
   "source": [
    "### Exemple d'envoye de donnée dans la base de donnée.\n",
    "\n",
    "**Utilisation de la fonction ```set()```**"
   ]
  },
  {
   "cell_type": "code",
   "execution_count": 24,
   "metadata": {},
   "outputs": [],
   "source": [
    "id_du_tweet = \"Deuxieme_tweet\" ## ou de la donné voulu\n",
    "\n",
    "doc_ref = db.collection(\"personal_test\").document(id_du_tweet) # son identifiant est celui que tu lui donnes\n",
    "doc_ref = db.collection(\"personal_test\").document() # Il génère automatiquement un identifiant ici "
   ]
  },
  {
   "cell_type": "code",
   "execution_count": 25,
   "metadata": {},
   "outputs": [
    {
     "data": {
      "text/plain": [
       "update_time {\n",
       "  seconds: 1605620256\n",
       "  nanos: 695075000\n",
       "}"
      ]
     },
     "execution_count": 25,
     "metadata": {},
     "output_type": "execute_result"
    }
   ],
   "source": [
    "doc_ref.set({\n",
    "    \"nom\": \"Brook2\",\n",
    "    \"tweet\": \"1: I'll be back, oh no I'm dead ! It's not possible ! So funny !\",\n",
    "    \"date\": \"1: Hey do you love chocolate ?\"\n",
    "})"
   ]
  },
  {
   "cell_type": "markdown",
   "metadata": {},
   "source": [
    "## Exemple de reception de donnée "
   ]
  },
  {
   "cell_type": "code",
   "execution_count": 22,
   "metadata": {},
   "outputs": [],
   "source": [
    "collection_I_want = db.collection(\"personal_test\")"
   ]
  },
  {
   "cell_type": "code",
   "execution_count": 23,
   "metadata": {},
   "outputs": [
    {
     "name": "stdout",
     "output_type": "stream",
     "text": [
      "Deuxieme_tweet => {'tweet': \"1: I'll be back, oh no I'm dead ! It's not possible ! So funny !\", 'nom': 'Brook2', 'date': '1: Hey do you love chocolate ?'}\n",
      "premier_tweet => {'nom': 'Brook2', 'tweet': \"1: I'll be back, oh no I'm dead ! It's not possible ! So funny !\", 'date': '1: Hey do you love chocolate ?'}\n"
     ]
    }
   ],
   "source": [
    "get_all_doc_in_collection = collection_I_want.stream()\n",
    "for doc in get_all_doc_in_collection:\n",
    "    print(\"{} => {}\".format(doc.id, doc.to_dict()) )"
   ]
  }
 ],
 "metadata": {
  "kernelspec": {
   "display_name": "Python 3",
   "language": "python",
   "name": "python3"
  },
  "language_info": {
   "codemirror_mode": {
    "name": "ipython",
    "version": 3
   },
   "file_extension": ".py",
   "mimetype": "text/x-python",
   "name": "python",
   "nbconvert_exporter": "python",
   "pygments_lexer": "ipython3",
   "version": "3.8.3"
  }
 },
 "nbformat": 4,
 "nbformat_minor": 4
}
