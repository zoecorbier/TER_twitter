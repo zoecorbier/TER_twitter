{
 "cells": [
  {
   "cell_type": "markdown",
   "metadata": {},
   "source": [
    "## Emotion structure"
   ]
  },
  {
   "cell_type": "code",
   "execution_count": 21,
   "metadata": {},
   "outputs": [],
   "source": [
    "import pandas as pd"
   ]
  },
  {
   "cell_type": "code",
   "execution_count": 22,
   "metadata": {},
   "outputs": [],
   "source": [
    "df=pd.read_pickle(\"critic_word_feel_alone_depressed.pkl\")"
   ]
  },
  {
   "cell_type": "code",
   "execution_count": 23,
   "metadata": {
    "scrolled": true
   },
   "outputs": [
    {
     "output_type": "execute_result",
     "data": {
      "text/plain": [
       "               id_user                   id  \\\n",
       "0  1192378724097961985  1206344396460974093   \n",
       "1   802951915420155904  1206341048789798913   \n",
       "2            151231683  1206337399275630601   \n",
       "3            872337752  1206329400993746946   \n",
       "4   907323345296875521  1206318162691665928   \n",
       "\n",
       "                                                text  \n",
       "0  You should never feel alone user and depressed...  \n",
       "1  Job seeking can be incredibly stressful.\\n\\nIt...  \n",
       "2  @djonesbutchers No, you are not alone. I feel ...  \n",
       "3  @djonesbutchers Your not alone Dave the more I...  \n",
       "4  @annieedagrannie When I was depressed and I sa...  "
      ],
      "text/html": "<div>\n<style scoped>\n    .dataframe tbody tr th:only-of-type {\n        vertical-align: middle;\n    }\n\n    .dataframe tbody tr th {\n        vertical-align: top;\n    }\n\n    .dataframe thead th {\n        text-align: right;\n    }\n</style>\n<table border=\"1\" class=\"dataframe\">\n  <thead>\n    <tr style=\"text-align: right;\">\n      <th></th>\n      <th>id_user</th>\n      <th>id</th>\n      <th>text</th>\n    </tr>\n  </thead>\n  <tbody>\n    <tr>\n      <th>0</th>\n      <td>1192378724097961985</td>\n      <td>1206344396460974093</td>\n      <td>You should never feel alone user and depressed...</td>\n    </tr>\n    <tr>\n      <th>1</th>\n      <td>802951915420155904</td>\n      <td>1206341048789798913</td>\n      <td>Job seeking can be incredibly stressful.\\n\\nIt...</td>\n    </tr>\n    <tr>\n      <th>2</th>\n      <td>151231683</td>\n      <td>1206337399275630601</td>\n      <td>@djonesbutchers No, you are not alone. I feel ...</td>\n    </tr>\n    <tr>\n      <th>3</th>\n      <td>872337752</td>\n      <td>1206329400993746946</td>\n      <td>@djonesbutchers Your not alone Dave the more I...</td>\n    </tr>\n    <tr>\n      <th>4</th>\n      <td>907323345296875521</td>\n      <td>1206318162691665928</td>\n      <td>@annieedagrannie When I was depressed and I sa...</td>\n    </tr>\n  </tbody>\n</table>\n</div>"
     },
     "metadata": {},
     "execution_count": 23
    }
   ],
   "source": [
    "df.head()"
   ]
  },
  {
   "cell_type": "code",
   "execution_count": 24,
   "metadata": {
    "tags": []
   },
   "outputs": [
    {
     "output_type": "stream",
     "name": "stdout",
     "text": [
      "You should never feel alone user and depressed 💞 bit of love sent everyone’s way, all subs included 😘 if I can help… https://t.co/YLoBMRxctD\nJob seeking can be incredibly stressful.\n\nIt can make you feel lost.\n\nHurt.\n\nAlone.\n\nNeed I say, depressed.\n\nMany o… https://t.co/XOVbx4fJFQ\n@djonesbutchers No, you are not alone. I feel very despondent and depressed now.\n@djonesbutchers Your not alone Dave the more I go online the more depressed I feel. I recommend spending some time… https://t.co/igYSDV1Kam\n@annieedagrannie When I was depressed and I sat outside alone. My little brother, 2 years and could only speak baby… https://t.co/suuOtHCQ2O\nI like going to movie theatres with friends because I feel popular but I also like going to movie theatres alone be… https://t.co/7WgKXKpHjF\n@NFTooManyFaces Im have the same i feel most of the days depressed and have suicidal thoughts and i cut myself and… https://t.co/7skXalT4PK\nchenyu about ‘i really want to love this world’:\n“I feel if a person is depressed what they are the most fearful of… https://t.co/VTK9PH1Ihz\nI’m Not Sure If I’m Depressed. I’m Not Sad, But I’m Not Happy Either. Like I Just Wake Up And Get Through My Day Be… https://t.co/2DL5WX0gc3\nWow, im not tired or depressed or anything. But I don't wanna get out of my discord call with my friends right now.… https://t.co/G0Jt93d35C\nWhen you feel depressed and you are pretty sure living alone was a mistake but admitting it means you are failing s… https://t.co/LyY8znCbtu\nRT @steven_winstone: If you feel depressed, alone, sad this Christmas then just watch this little video: Smug C4 election night coverage, e…\n@merabichrayaar We all hv our low points in life..it is ok to be sad,depressed..plz talk to someone you can rely on… https://t.co/sxE3eDqn4g\nWhy I can't feel good by myself? Why am I so depressed when I'm alone? What the fuck brain, why you do this to me???\nDear music friends, remember when you create a song that you are helping someone relieve stress, feel less alone, f… https://t.co/OIF2ysxnSo\nMy toxic trait is that I will always think of the worst thing to happen to people in my life , and without being ab… https://t.co/UyV5byd64r\nYou always asked me to keep busy, do the things I want, so that I won’t feel depressed and alone. But the thing is,… https://t.co/tgP5Mr4UOn\n@colfetUK @Kinky0reo It *is* sad, isn’t it? And thank you; I feel like part of my job is to support the mental heal… https://t.co/GFVlp23GZ4\nIf you feel depressed, alone, sad this Christmas then just watch this little video: Smug C4 election night coverage… https://t.co/Ehj3XnANgb\nRT @89toziers: boys get abused\nboys get raped\nboys can be suicidal\nboys have eating disorders\nboys commit suicide \nboys can have mental hea…\nSometimes I get real depressed &amp; feel like I have no friends when I’m sitting at home on a Saturday night(had to st… https://t.co/V8rB5BfGFO\nThis!!!! I’ve never felt more alone or depressed. And then you feel guilty bc you know you should be happy. And you… https://t.co/0GbUeewvlz\nRT @WETSAETHsaga: In @christine_leith words: “Maddie is an icon for those ones who always feel alone or depressed. You’re not alone ❤️. Wit…\nRT @JocelynArielR: I rarely see people talk about how some women feel so alone and isolated when they’re pregnant. No one wants to be invol…\nI rarely see people talk about how some women feel so alone and isolated when they’re pregnant. No one wants to be… https://t.co/dsWncADlFn\nIn @christine_leith words: “Maddie is an icon for those ones who always feel alone or depressed. You’re not alone… https://t.co/cctUVL7Ugz\nRT @bendoc_: I know for some people you feel alone.Depressed. Wanting to die.\nFor some people it gets to the point there's nothing anybody…\nI wouldn't get depressed if she wasn't with me.\n\nI'm more worried about her being alone.\n\nI'm worried about how she… https://t.co/64eFQu0hcu\n“..When people are depressed they feel alone and think they have no one to talk to or no one can understand their p… https://t.co/Gbi8WnUTk0\nYeah I get this. When I was incredibly depressed I could barely eat food let alone get water down. It doesn’t feel… https://t.co/oFm1RBWNkl\nWhen you ever gonna let me be\nJust the way I am?\nDear insecurity\nI feel like I'm dying on the inside\nBut I smile it… https://t.co/uZBMKtdtrk\nSeriously depressed for the first time in months and I feel so alone. But how I deal with it now is the healthiest… https://t.co/eEguUcYnpn\n#AutismAwareness #MentalHealthAwareness #mentalhealth #NHS\nFeeling ill tonight. Feel faint when I am standing and c… https://t.co/gGTiF2ZMPU\n@spicedupwriter I am alone in a foreign country. The friends I made 3y ago when I arrived have left. I feel lonely,… https://t.co/q7pcSanvYH\nI'm not sure if i'm depressed. I mean, i'm not exactly sad. But i'm not exactly happy either. I can laugh and joke… https://t.co/2cj5imdaVc\nNot to sound like a needy asshole or anything but coming home for the holidays makes me very depressed bc I feel su… https://t.co/PWtMnL0MkH\nI don't feel depressed I just feel happy and empty and alone sometimes, it jus bores me to wake up and live every d… https://t.co/psoARWx0GK\nRT @CrystalGecko76: @doctor_oxford @jamesmooreactor I feel very depressed I struggle with my \"made up\" disability (fibromyalgia) which mean…\nSo hard to survive a night, alone, down, and depressed. And you don’t know what’s making you feel this way. No one… https://t.co/apj0yZkAvv\ni think that might be it for me and sex parties for now. \n\ni just seem to leave so depressed from them these past f… https://t.co/EfaQphbpDW\nI’m not sure if I’m depressed. I mean I’m not sad. But I’m not exactly happy either. I can laugh and joke and smile… https://t.co/xbkU5w0iWf\n@juIia___ Let’s bring back three things.\n1) Art Deco\n2) Jazz \n3) Everyone else also being depressed so I don’t feel alone\nMy depressed brain always... “no I don’t wanna do anything but be alone”\n*moment I don’t feel depressed* “TIME TO C… https://t.co/pr6QxUPb9h\n“I’m not sure if i’m depressed. I mean i’m not sad, but i’m not exactly happy either. I can laugh and joke and smil… https://t.co/SufN5JKBAx\nI’m not sure if I’m depressed. I mean, I’m not exactly sad. But I’m not exactly happy either. I can laugh and joke… https://t.co/C2UuQdj77D\nAre you depressed? I call you out of depression today!\n\nDo you feel rejected? Hang in there. God is building securi… https://t.co/KGp1Vc3RcC\nDo you need someone to pray with you? Perhaps you feel depressed, alone, anxious, fearful, or you just want someone… https://t.co/PZ8vUuwYWC\nDo you need someone to pray with you? Perhaps you feel depressed, alone, anxious, fearful, or you just want someone… https://t.co/jSd2BLlUOE\nI know for some people you feel alone.Depressed. Wanting to die.\nFor some people it gets to the point there's nothi… https://t.co/I4onfqxAB0\nRT @_TheOddMatt_: Idk why I’ve been so depressed lately.. I feel alone all time and then I just start questioning what’s the point in anyth…\nRT @Divyaadu: When I am my happiest I am lonely and I feel like I want other connections with people. When I am at my worst and I’m depress…\nIdk why I’ve been so depressed lately.. I feel alone all time and then I just start questioning what’s the point in… https://t.co/KAD2SsBJRP\n@SunflowerSoul71 Are you a Libra by chance?  As I said I feel the same live alone now depressed over many things es… https://t.co/FIiHjPNY8K\nSomeone in the area pls hang out with me so I don't feel so depressed and alone this holiday season. 😕\nRT @sianollyander: However you voted yesterday, if you are feeling worried about the future, if you are feeling anxious or depressed; there…\n@TheAliceLittle I've lived alone for most of my adult life (by choice). I'm lonely, stressed, and depressed most of… https://t.co/zdUi6X9AZs\nFed up of feeling so fucking depressed, idk what's wrong w me, I feel so sad and helpless and completely isolated a… https://t.co/qlykSzLUtT\nRT @MindMateLeeds: Do you feel anxious or depressed when you are alone? The @LSLCS can provide emotional support and information. Their Con…\nY’all gotta get out of these stressful ass, anxiety inducing relationships.\n\nIf it brings you down, causes you to f… https://t.co/H2aWmxVUvz\nIf you live alone, you won't have someone to talk when you feel the need. Thus live together means they're very clo… https://t.co/Ln2Ic5BNe7\nBut real talk, and imma leave it alone, to disappear for a while in this moment would feel ok. But that’s not what… https://t.co/AVjduyhuqB\nRT @authenticKMH: You might feel depressed, defeated, weak, tired, all alone but don’t think that you don’t have a purpose, because you do!…\nDo you feel anxious or depressed when you are alone? The @LSLCS can provide emotional support and information. Thei… https://t.co/dqgQEwTrfZ\nI feel sick, sad, badly depressed and in need of more whiskey.\nThe REBELLION starts now. Ourselves Alone!\nand I took myself out and got me a gift it's not the thing I'm looking for I just wanna not feel so goddamn alone w… https://t.co/Zr3MZgcn4E\n@ZamazayM People usually isolate them selves when they are hurt and depressed, so they should be they do not know w… https://t.co/QG1BJkbZ3r\nWho knew a General Election, such as this, could so massively affect my mental health? Too depressed and Fibromyalg… https://t.co/yPmy0UHSlZ\nHowever you voted yesterday, if you are feeling worried about the future, if you are feeling anxious or depressed;… https://t.co/WeaUcaxQs3\nStarting to feel a little sad and depressed during the winters? Well, you aren't alone. According to psychologists,… https://t.co/GRRUUgNFcs\nI’ve noticed since becoming pregnant that a lot of my friends don’t talk to me anymore. I feel alone and depressed… https://t.co/tGXw6w1zeq\nI am sure I am not alone in this. I cried this morning. I feel depressed, disillusioned, and have this heavy feelin… https://t.co/GVvnjbdcfi\nLook into yourself for a minute and see what you are feeling, at this moment. Are you happy? Are you depressed? Do… https://t.co/a8bPMez4FI\nNot sure if the bus journey I’m on is representative but there is a decidedly gloomy, depressed feel to it. Not hea… https://t.co/M4ARYZi6dq\nI’m broke, my car macam rosak, i bought the wrong tudung for mpg, i’m home alone for 3 nights, i hate myself and i… https://t.co/v3mnpD3J6Z\ni feel so depressed and alone and i haven’t felt like this in a while and it hurts\n@chick_in_kiev Post-book depressed (or aggravation of existing depression) is a real thing and you're not alone. A… https://t.co/eGMbujcMa1\n@GeorgyNowLori You are not alone.  It’s hard not to feel depressed right now.  Hang in there, and vote\nI feel really depressed\nI m alone\nI'll probably die soon\nplease stop throwing the suicide prevention hotline when someone says that they feel alone or that they are depress… https://t.co/rWd0uRJ9R1\nAnyone just feel like they’re way behind in life. Like I’m not sure whether to feel buzzing because I’m 22 with no… https://t.co/ALA6NSrpoD\nI'm not sure if I'm depressed. I'm not sad, but I'm not happy either?? Like I seriously just wake up and kind of ge… https://t.co/5A3kUEoUTh\nRT @ElysiaKitsune: If you ever feel really alone and depressed and scared, talk to someone. Anyone you know, I'm sure they'll listen. Being…\nIf you're feeling lost, down, depressed and feel as if you should give up, I wish you have a restful sleep tonight… https://t.co/onIozUdv9z\nRT @valedanette: people be thinking i’m depressed when i do that but i just be vibin by myself, i legit don’t mind being alone. i feel the…\nRT @DelightDaniTV: If I went live would you guys come and hang out cus I’m depressed and attention starved and wanna feel like I’m not alone\nI’m not sure if I’m depressed. I mean I’m not sad, but I’m not exactly happy either. I can laugh and joke and smile… https://t.co/2vFzDjhTAB\nIf I went live would you guys come and hang out cus I’m depressed and attention starved and wanna feel like I’m not alone\nplease stop throwing the suicide prevention hotline when someone says that they feel alone or that they are depress… https://t.co/NfD9GX3FLe\nDon’t bring others down because you’re low. Not everyone that’s depressed will show it. Not everyone who’s been thr… https://t.co/EubVaGrMGz\nRT @bosstanlee: I feel utterly bitter, i am depressed but my strength comes from the millions of devoted fans who share this burden with me…\nI feel utterly bitter, i am depressed but my strength comes from the millions of devoted fans who share this burden… https://t.co/1Ce6P5Wrwl\nif someone is visibly anxious and depressed and doing something to make themselves feel better, LEAVE. THEM. ALONE.… https://t.co/Y57N5iTH1Q\n@Mirias14 @Nadiakh25543672 Their opinion matters the most &amp; you start thinking like them.\n\nYou crave their attentio… https://t.co/7Vl6hL3inb\nAnd now, they are sitting here reading these words. And i'm writing  this for you, so you don't feel alone anymore.… https://t.co/eqXOaacpMP\nI'm not sure if I'm depressed. I mean, I'm not SAD. But I'm not exactly happy either. I can laugh and joke and smil… https://t.co/p1hyPtk66u\n@theconjaering Yeah I talk with my parents most of the time but whenever I'm alone, I feel depressed all of a sudde… https://t.co/tpywlbHwHJ\n@nwayne66 No, I’m depressed. Woke up at 1:am. I broke out in tears. Ran 5 miles and still feel like crap. You are not alone.\nRT @Nyxfears: @Hbomberguy Depressed person that struggles with the public school system then later tries to do good for the world by making…\nRT @doubleyoungg: funny how in the end i alrd spent 70mil this month to feel happy but i still feel alone and more depressed than ever\n@nwayne66 I’m feeling very depressed and anxious. It’s gotten worse these past four years and I’m praying the next… https://t.co/M74h8JLdlD\nRT @_ohlana: depressed ppl struggle to reach out in fear the ones closest to them will have cops show up and forcefully confine them agains…\nRT @cvmstar: #IPL2020\nWhen everyone feel\nDepressed, tension, boring, broken hurt, alone, sad,  stress, \n\nLegends #IPL https://t.co/iU46V2iv…\nI just want someone to have, to talk to. Because I know, sooner or later, they will leave like everyone else has. B… https://t.co/xLL6gW36Ho\nRT @VloggerJujubee: @MoonBeam_2015 Tama. Depressed people need someone who will listen to them, cheer them, make them feel they are not alo…\nI feel like I heal better alone and in my own time. Being around people while I'm depressed heightens my anxiety an… https://t.co/DopNv7CzCj\n@HyenaCh_ You're not alone. Even we vtubers also feel bad/sad/depressed at times so no decent person in this commun… https://t.co/2m3eT5Sy2I\nRT @JediASU: You are never alone.\nReach out if you ever do feel lost, alone, or depressed.\npeople be thinking i’m depressed when i do that but i just be vibin by myself, i legit don’t mind being alone. i fe… https://t.co/m5FCgT31d5\nYou are never alone.\nReach out if you ever do feel lost, alone, or depressed. https://t.co/KRguIDGqD4\n@MoonBeam_2015 Tama. Depressed people need someone who will listen to them, cheer them, make them feel they are not… https://t.co/LtfBI027Vp\n@RefAubrey @AEW_Heels I woke up today after a few manic weeks and felt completely depressed, which is something my… https://t.co/UXmKWIRFUH\ni really feel like if you are NOT emotionally stable to be in a relationship with me , meaning if you are broken ,… https://t.co/DwNJ3W3qzV\nWhen you see someone feeling depressed it only takes effort to make them feel they are not alone. Listen to them, t… https://t.co/wHAqG3AGvZ\n#IPL2020\nWhen everyone feel\nDepressed, tension, boring, broken hurt, alone, sad,  stress, \n\nLegends #IPL https://t.co/iU46V2iveu\nI finished very exhausted in my work, my body aches, I was so sore that I wanted the day to end to get home, but in… https://t.co/8xr7p7GqoY\nI hope you’re all having a great night. if you ever feel depressed just know you are never alone 💖 it’s so temporar… https://t.co/REHghgtCX8\nSo alone\nSo depressed. \nWanted to be the best\nBut nothing left.\nSoul empty\nHate is real.\nFuck u and how u feel\nusing my Twitter as a journal rn, so I don’t feel so alone and depressed. pushing trough.\nI hate it here. My emotions fluctuate and sometimes their too strong I can’t control them. \nI feel alone. \nI want t… https://t.co/MC6JWkXO6y\nI feel so down right now and depressed... I get in these feelings like I'm not doing all I could and I'm a bad fath… https://t.co/012wNAkITG\nAdam’s Song was nice to listen to when I was depressed because I felt alone.\n\nBut wtf am I supposed to listen I whe… https://t.co/qryopx3xj1\n@Hbomberguy Depressed person that struggles with the public school system then later tries to do good for the world… https://t.co/gCmdoh5OlN\nDude what the fuck? I am so depressed. I feel completely and utterly alone, im gonna chat my therapist. I have been… https://t.co/VbXOzOzGOn\nThe past few weeks I’ve felt so depressed. This did give me a good laugh. If anyone else out there feels down your… https://t.co/Gj529U625g\nIf you ever feel really alone and depressed and scared, talk to someone. Anyone you know, I'm sure they'll listen.… https://t.co/PxQi7ZySC1\nThankyou Snapchat memories for making me feel not so alone when I’m down and depressed because now I know that this… https://t.co/XIaSVwmq1p\nAlso I feel I'm in a huge stuck loop rn I'm depressed feel alone and angry all in one I don't know what to do when… https://t.co/BY0JCMn1rV\nYou ever feel unhappy but not depressed? Like u feel great when your around ppl but sad when your alone and feel like u have no one?\nI don't exactly know if im depressed im happy then sad im never just one when im around others im fine when im alon… https://t.co/rZU56aDXIq\nanyone else feel not happy but not depressed? like you are in the middle? but when you are with people you feel gre… https://t.co/Wa6nHRwNLM\n@bethleslie131 You R not alone. When I feel like U I think about what it's like 4 other folks out there &amp; I know th… https://t.co/WLBvkN56MD\nAnyone else feel not happy but also not depressed? Like, you're in the middle? But when you're with people you feel… https://t.co/RBqUwSK68x\nim so happy to see taehyung smile ealier in inland hsshsjsjjshshs becz in inthesoop wherein he is alone in the boat… https://t.co/8Ia4LEgrJn\nIt's  ok to feel depressed! Seek help, talk to your friends and family, dont suffer alone! You matter❤ https://t.co/iJj1alRt5r\nRT @helenduncangavi: @SunnySky39 @SANJOSEMAILMAN And it’s a very weird kind of alone- I feel depressed and unmotivated but nothing I can pu…\ni could \"stand up and punch the world\" but what if that joyful feeling will only stay for 2 hours, then i'll feel d… https://t.co/vsEaVcBBCA\n@bipolarpsychol1 It depends on my mood so sometimes exasperated and frustrated but often, when depressed, helps me… https://t.co/sZZrW6KP4R\nanyone else feel not happy but not depressed? like you are in the middle? but when you are with people you feel gre… https://t.co/9BvIW6VS3T\nRT @softheart_hun: Can i do Dm you,when i feel depressed &amp; alone :-\\\nMy cry out for people but i know im for ever alone not really but that how i feel when depressed and alone\nRT @ThiriKoko18: I began to notice them when I was alone and depressed. I feel like I can regroup and regain my strength because of them. A…\nIf you’re scared, depressed, struggling - that’s completely understandable. It’s tough and you’re not alone. My ear… https://t.co/PB0N4odBnX\nI feel abandent , alone and depressed HELP #يوم_الجمعه\nI feel like i’m just a source of energy, I like to make others happy and laugh but when i’m alone i’ll be really sa… https://t.co/KG4cDfF3Lv\nI'M NOT SURE IF I'M DEPRESSED. I MEAN, I'M NOT SAD. BUT I'M NOT EXACTLY HAPPY EITHER. I CAN LAUGH AND JOKE AND SMIL… https://t.co/Dyigat07oS\nIf this pandemic is making you feel isolated, alone, and depressed, I want you to know you're not alone.\n\nIf you ha… https://t.co/JZZFCuIRuu\nI feel so alone and depressed. What’s supposed to be good news’s just depresses me and I know it’s the truth and it… https://t.co/7UWhtscx09\nI began to notice them when I was alone and depressed. I feel like I can regroup and regain my strength because of… https://t.co/L0cC9GTkuk\nLike if u are \n\n-Sad\n-broken \n-depressed\n-have anxiety \n-wanna die\n-feel alone\n-wanne run away\n\nNo one will ever know which\n@ansonseabra Thank you for your music. I get depressed often and I want to listen to calming but music with deep me… https://t.co/D5mV6ppqhH\nI'm not sure if I'm depressed. I'm not sad, but I'm not happy either?? Like I seriously just wake up and kind of ge… https://t.co/tDshXg5I4f\nRT @tsarmiing: i'm not sure if i'm depressed, i mean, i'm not sad, but i'm not exactly happy either; i can laugh and joke and smile during…\n@TheBiigJay I agree w/ some of these, esp the last one!\nThe last thing I want to hear when I'm depressed is people… https://t.co/snBtjmyOjw\n@ansonseabra thank you for your music. I get depressed often and I want to listen to calming but music with deep me… https://t.co/HYphBD8SER\nRT @marktewks: It’s hard to believe that there was a time in my life when I was so depressed I could barely function. So proud to share thi…\n@WoodyCliffords @Angelrdz66 This is not mental illness man, some people just have pain and never talk to anyone. Th… https://t.co/Y5JIBoNE3C\nI feel like such a bitter fucking person bc whenever I see happy couples I just get so depressed that I'm all alone… https://t.co/YCvLf6WDNA\n@Louis240403 Yeah man hope u feel better. We all have times where we are depressed and need alone time. God Bless\nI feel like if I get a tattoo on birthday it won’t even hurt. I’m too depressed to feel anything. Let alone a needle.\nRT @Brimakenzi3: I'm not sure if I'm depressed. I'm not sad, but I'm not happy either?? Like I seriously just wake up and kind of get throu…\none thing about being depressed and anxious is your family will hover and constantly ask you how you feel and that… https://t.co/CKUeJONM2t\nOur national media has done an appalling job of conveying what life is like here to the rest of the country. And it… https://t.co/MgKsm0ZeWZ\n@SunnySky39 @SANJOSEMAILMAN And it’s a very weird kind of alone- I feel depressed and unmotivated but nothing I can… https://t.co/WGSV0w982R\nRT @prabh_kaurr: Whenever i feel depressed or alone i just listen AARTI🙏❣️ #sungbysartaj✨❤️\nSukoon❤️ waheguru❤️ https://t.co/lz11qQN8YA\nRT @kdhdef: in oui boys' dazed interview both donghan and yohan expressed how much happier they feel to be with other members - dh said tha…\nRT @TheOptimalTip: Many people completely isolate themselves when they feel depressed\n\nAlone time is great but too much can be bad. \n\nAlway…\nSometimes I feel depressed and alone and then I remember my cute dogs\n@tracyminajjjjj @Outcastro_ That guy helped me a lot when I was depressed and alone, in those moments when you feel… https://t.co/HI0DiDgXDg\nRT @AimanPsikologi: Do you know how does it feel to be depressed?\n\nTo feel like life is going to end but it still didn't?\n\nTo know that the…\nMe to my patients: Its ok sweetie 👼🏻 talking 🗣 about your feelings is a good thing 🥰\nMe to my friends: whats up?!!… https://t.co/tghyPRo2eh\ni’m not sure if i’m depressed. i mean i’m not sad. but i’m not exactly happy either. i can laugh and joke and smile… https://t.co/idnz4SRuKM\nI know I’ve been depressed for a while because I can remember writing in middle school the bright eyes lyrics “I’m… https://t.co/k2upSmYj62\nRT @anessamarieee: you can claim you’re depressed all you want but do you really know how it feels to feel alone in your own household full…\nI feel so depressed and alone.\n\nAny ways heres a cute pikachu https://t.co/2YpZxxFa59\nRT @dayasolsen: boys get abused\nboys get raped\nboys can be suicidal\nboys have eating disorders\nboys commit suicide \nboys can have mental he…\nRT @BUSANBOY___TWT: There are people all over the world who are lonely, missing somebody, hurt, depressed, scared from their past, having p…\nin oui boys' dazed interview both donghan and yohan expressed how much happier they feel to be with other members -… https://t.co/6DtnDIXSWS\nRT @nadhirahsf: It's okay to be sad\nIt’s okay to be mad\nIt’s okay to be alone\nIt’s okay to be cry\nIt’s okay to depressed\nIt’s okay to feel…\nToday, I could write a book.  How to feel depressed, meaningless, and worthless. How do I feel... Isolated, alone,… https://t.co/9KoQ6GLIvR\nRT @Nizarsemail: depressed ppl struggle to reach out in fear the ones closest to them will have cops show up and forcefully confine them ag…\ndepressed ppl struggle to reach out in fear the ones closest to them will have cops show up and forcefully confine… https://t.co/81U07j3JeN\n@Ishika_K9 @KapilSharmaK9 And I know that you and Kapil already did it .But still make her happy by small things wh… https://t.co/zLM6347Ofv\nIt's okay to be sad\nIt’s okay to be mad\nIt’s okay to be alone\nIt’s okay to be cry\nIt’s okay to depressed\nIt’s okay… https://t.co/NWL8lUZI6D\nI’ve been losing friends and it really makes me feel depressed. Everyone has been telling me to leave them alone\nGuys..I don’t know if this happens to you, but sometimes whenever I’m alone for a long while..I start to remember b… https://t.co/pU2QndivCC\nRT @im_hannaheunice: I am still depressed about not being able to travel this year. I have to accept it but it still sucks. If you’re in th…\nANOSOGNOSIA-- I didn't know that I didn't know that I didn't know. I thought I was perfectly fine. I was out there… https://t.co/oLt5BSV3Dk\nI have decided to stop uploading videos on YouTube and stop tweeting for a bit. I’m just having a break. I just fee… https://t.co/DcQoamb2CC\nI feel worse than depressed I feel alone abandoned when your depressed you still a little support or spirit but aba… https://t.co/Z7r23wB0DQ\nWhen I don't feel like being around people it doesn't mean i hate you or I'm depressed or having a bad day, It's ju… https://t.co/FuSRtTXlD2\nThere are people all over the world who are lonely, missing somebody, hurt, depressed, scared from their past, havi… https://t.co/fL6OCq7wqY\nI am dog sitting at my parents' house because they went to a hot springs resort. I feel depressed because I am alon… https://t.co/SSrAy0SilC\nWe are a lonely, isolated, depressed people - yet we are confused/hurt that we feel alone. No one wants to be close… https://t.co/h7Kn2vDPkT\n@TimNoEgo I don’t know you, but my heart goes out to you. I’m so sorry that you feel alone - that’s a scary place t… https://t.co/UGq6fpMZFz\n@mmpadellan Only if you’re not using common sense kids need to be educated with teachers who needs help learning an… https://t.co/BeCr939Ekx\nThe person who loves you will know how to care about you and cherish your efforts, and will not let you alone work… https://t.co/fxFSa7h9VW\nNo matter how alone, broken, and depressed you feel, KEEP going because i does get better!!! Yeah you’ll have those… https://t.co/vYBoTRBVtK\nnot me dancing alone in my room to make myself feel better because i’m depressed\n@stelalinda927 I know how you feel I feel the same way I'm always depressed because I am alone I'm single don't hav… https://t.co/wg5n9wqP6Z\n@hausofkriz I’m very sorry that u feel depressed be you not alone. If u need someone to talk I’m here to listen. ❤️\n@VictoriaL1 He'll have his space. I fed him dinner and he's laying down on the couch. But I'm worried he's still de… https://t.co/p8Nx70iqvd\nRT @bbetbi: Does anyone keep themselves super busy to not feel depressed and alone or is it just me?? https://t.co/ixBPdjqiMr\nRT @mariemnour12: I'm not sure if I'm depressed. I mean I'm not sad, but I'm not exactly happy either I can laugh and joke and smile during…\n@AriaSaki im currently in a place where i feel super alone because all my friends have moved on from me and im pret… https://t.co/cjeYHT3uT8\n@FutureDOctorJP @RuralMedStudent @justarandomdani Hey! If you had a patient that was like ‘my chest hurts, I can’t… https://t.co/GKxnxAbdFG\nMany people completely isolate themselves when they feel depressed\n\nAlone time is great but too much can be bad.… https://t.co/sVvNLqLOmS\nI am still depressed about not being able to travel this year. I have to accept it but it still sucks. If you’re in… https://t.co/geXj9BMafk\nUgh. I'm trying to laugh off the sheer ludicrousness of it all but I'm so anxious and depressed I could barf. \n\nI f… https://t.co/dTNJ3avQcB\nRT @Myujikarp: There is absolutely NO reason I should be feeling depressed, but I still am. Today is just not a positive day, and I don't k…\nTo anyone going though mental health at this moment your not alone and I'm here if anyone at all need to talk even… https://t.co/6KyQEUg5S5\nRT @RioRanchoPD1: If you are feeling depressed, hopeless, or an increase sadness brought on by the holidays and loss or grief, know that yo…\nIf you are feeling depressed, hopeless, or an increase sadness brought on by the holidays and loss or grief, know t… https://t.co/7viyfg1Vmr\nRT @JacinthePayant: With🎄approaching more people will feel stressed &amp; depressed. Let’s all be there for each other so that nobody feels alo…\nthank you, @makethemsuffer about a year ago, i was suicidal, depressed, and just down.. i know we as a system is fa… https://t.co/lj2jMGDDeV\n@EllaEnchanting1 This is one of the poems I read to make myself feel less alone when I’m depressed, it always makes me cry. 💗\nWhile everyone had a taste of what it's like to feel alone, anxious, and depressed this year, I know that these fee… https://t.co/gqNEo6Ki9X\n“I’m not sure if I’m depressed. I mean, I’m not exactly sad. But I’m not exactly happy either. I can laugh and joke… https://t.co/drJ7Txe1Fx\n@700club I Wish I Had A Friend To Talk To I Feel So Depressed And Alone 😞😞😞 Prayers https://t.co/r588pMSLds\nsadness I feel everyday what is my purpose in life I ask myself that every single day I feel like I don’t wanna be… https://t.co/W09PWisyTv\nI’m not sure if i’m depressed . I mean i’m not sad but i’m not exactly happy either. I can laugh and joke and smile… https://t.co/BombWpUAEz\nI feel so helpless. I want to help Britney so much. Living like this must be a nightmare, no surprise if she feels… https://t.co/8zyjF9HlOZ\n@Maraudertko yea honeslty same recently having a family to laugh and play video games is what brings me out of bein… https://t.co/egQXCGt5T2\nWith🎄approaching more people will feel stressed &amp; depressed. Let’s all be there for each other so that nobody feels… https://t.co/V0fOdWkvHc\nand now in direct contrast to SMP!tommy, hes alone. hes essentially lost all hope. he's depressed. so what if, if h… https://t.co/Aa1nWrJhyk\nSince i was a kid, i write into my report card on ambition coloumn :\n\n1. Actor\n2. Flight Attendant\n3. Model\n\nbut wh… https://t.co/M5DO2tcB8q\nRT @IamMammaai: ~...WHEN\nThis WORLD\n     A N D\n IT'S PEOPLE\n🖤🍂\n\n   Make YOU Feel\nAlone &amp; Depressed\n🖤🍂\n\n     Promise Yourself\nTo Be Strong &amp;…\nI feel like ever since BeatSaver has been down, EVERYONE has motivation to map something, but when we finish it, we… https://t.co/FATctBvb3R\nwould doing acid in my room alone make me feel more or less depressed??? asking for a friend...\n@freyarunes I hope you're feeling better today. It's ok to take time off to regain your energy. Just because you're… https://t.co/8RJxMzrYXR\n@IsPwoto It is normal to feel alone, miserable, and overall depressed. It just means you are human and have emotion… https://t.co/d29eVcEwlJ\ntw // suicidal thoughts / depression \n\nsending love to anyone that might be suffering a little extra during the hol… https://t.co/zqXBzRTzg8\nIf you’re someone who woke up this morning and you’re #sad or #depressed, maybe feel like no one gets you.  It’s ok… https://t.co/0CaCIDStJD\nAnd my family has done nothing but make me feel worse. So I feel even more alone then ever. Everyday I’m told I’m n… https://t.co/WqHyUVDzMo\nIf I have to feel depressed the rest of my life he’ll even bipolar so the fuck what. I will honestly just have to d… https://t.co/Wda97mFOhX\nAll I want is for someone to give me a cuddle and talk to me. Is that really hard. I feel like I'm in a room full o… https://t.co/tP8idlfS9v\n@1953elt @krishgm It’s not that easy. My husband and I would prefer to spend alone and live. My daughter has MH iss… https://t.co/oIy13NJ2xu\nY is is when u feel emotional pain in some type of way its like ur all alone as everyone is having fun in life and… https://t.co/NX0GtVbyzZ\nYou know what’s a sad realization.. I saw a funny tiktok today and clicked share to send it to my friends..then i r… https://t.co/RprgS3qBwE\nIt’s really frustrating how my husband and in laws question why I spend so much time in my room alone. The answer i… https://t.co/AWRxraRn51\nI'm just going to keep staying depressed and down I'm just going to keep feeling alone and unhappy I'm just going t… https://t.co/97Q4uGz9Hx\nhey so, normally for shit like this id post it on my rant. but i feel like someone needs to hear it. if you're goin… https://t.co/Gz49n1P5JD\nToo often I feel alone and empty but no one ever knows and if they do they don’t care. I’m depressed and alone! Bei… https://t.co/Gxgu5bYD7j\nRT @BetheOneYouNeed: 5 warning signs you are headed for an emotional crash due to lack of #selfcare \n1. You cannot sleep 2. You feel depres…\ni think my biggest lesson learned this year was to allow myself to feel everything and to allow myself to be sad an… https://t.co/ZEi1V3zCBu\nRT @hadeelkhalid19: \"I'm not sure if I’m depressed. I mean, I’m not exactly sad. But I’m not exactly happy either. I can laugh and joke and…\nRT @picnic_social: Many small business owners shy away from their mental health due to stigma. However, you are far from alone. Find out th…\nMany small business owners shy away from their mental health due to stigma. However, you are far from alone. Find o… https://t.co/MiPlGb64c9\n@adamhayesbot I said, “Leave him alone, the dude’s sad enough as it is. Can’t you see that? He just- he wants to be… https://t.co/44BuXQX2vJ\nRT @mxiety: Some days I just want to give up on the ups and downs of content creation. \n\nIt's too much, it's stressful.\n\nBut then I think a…\nRT @BigdaddyC__: Man I never want a dude I’m with to feel depressed and alone. I try my best to be there for mfs.\n@NomfundoPK @BishopJakes Don’t take your life..I can not tell you when, but this shall pass.I often feel alone, and… https://t.co/ZjQXMwyTlI\nSome days I just want to give up on the ups and downs of content creation. \n\nIt's too much, it's stressful.\n\nBut th… https://t.co/1xG2ix8B1h\ni dont deserve to feel so depressed and distressed please i just need to be left alone i cant do this anymore\nI feel extremely ugly most days. I realize my confidence level is low and it’s what keeps me in a depressed state o… https://t.co/GvQIPNGpUf\nThis goes out to all my mutuals. If ur ever upset, depressed, suicidal, need someone to talk to. I’m here my dm’s a… https://t.co/dSQpLGeMEl\n@BishopJakes Right now i feel like I'm alone. Like nobody knows what I'm going thru.... right now i feel like takin… https://t.co/Sod9Ni3yyC\nBeing alone can make him depressed, he needs to be in a room with at least one person to feel at ease.\nHe is very o… https://t.co/025hl8eSgL\nRT @koocuddles: “people are allowed to dislike things” WRONG no one is allowed to dislike blue and grey. a song produced and written by tae…\nwhy is it everything i do is a failure,, why do i always feel so pathetic to even be here,, it’s just sad when you… https://t.co/pME9zdbSni\nMan I never want a dude I’m with to feel depressed and alone. I try my best to be there for mfs.\nRT @z4ck47yl6: good night everyone, my day was ok, wasnt great, cause i just feel depressed when i was in vc, alone in discord, waiting til…\nI be so numb or depressed nowadays than happy and excited. Things I feel like should isn’t. Or how I feel things sh… https://t.co/QS8NBvdz3o\nRT @_clo0ud9: i would much rather passing away than to work a dead end job that serves me no interest &amp; makes me feel even more depressed.…\n@adamhayesbot I said, “Leave him alone, the dude’s sad enough as it is. Can’t you see that? He just- he wants to be… https://t.co/Ptlw9HkIdy\n@angeIpedretti Hmm maybe you should watch some bangtan videos like we all go through a tough time right and when it… https://t.co/QMKwGUJGUo\ni would much rather passing away than to work a dead end job that serves me no interest &amp; makes me feel even more d… https://t.co/r1eVG0Hh8d\nI've cried myself to sleep for way too many days , I was always alone , most of them I was really depressed and I t… https://t.co/aqgROmwp1q\nRT @NadaNagdy__: “I’m not sure if I’m depressed. I mean, I’m not exactly sad. But I’m not exactly happy either. I can laugh and joke and sm…\nRT @Mattzda3: #MyAnxietyMakesMe...\n\n...feel so many physical symptoms \n...worry about my health when nothing is wrong according to doctors…\n@oddgreywolf I know I’m not alone but just feel that way. I try not to express my depressed feelings to anyone. I’v… https://t.co/V2hTcLUhDS\n#MyAnxietyMakesMe...\n\n...feel so many physical symptoms \n...worry about my health when nothing is wrong according t… https://t.co/tTWBMBzTwk\nNgl when I was being depressed when I was still living alone, I left my room like a garbage dump including my bed w… https://t.co/XlAujNid1D\nRT @nyradgaf: Your best friend got to be more than somebody you talk about people with. I called my best friend and told her I’m depressed…\ngood night everyone, my day was ok, wasnt great, cause i just feel depressed when i was in vc, alone in discord, wa… https://t.co/2yxGnUGwhj\ntrans people already struggle to find safe spaces irl. the internet being a cesspool of prejudice only makes them f… https://t.co/EDtsW5ZcS9\n“I’m not sure if I’m depressed. I mean, I’m not exactly sad. But I’m not exactly happy either. I can laugh and joke… https://t.co/frJIkBByjv\nThanks brain for making me feel depressed and alone right now....\nRT @WSUConfessions4: \"Are you also depressed and listen to music in order to feel understood and less alone? Listen to any album by Movemen…\nI have not been this depressed is a while, and things just keep getting worse..... I dont know what to do, I feel s… https://t.co/vJVm4Iwvi2\nI’m not sure if I’m depressed I mean I’m not sad but I’m not exactly happy either. I can laugh, joke and smile duri… https://t.co/K2Ul4K0675\nRT @FantasyFinale: Just finding positive outlets on my free time so I don't have to feel depressed or alone.\nJust finding positive outlets on my free time so I don't have to feel depressed or alone. https://t.co/08z3JiHlVY\nRT @SonicBasedSizi: i feel incredibly depressed and alone rn \n\nsend me some wholesome, funny, or cute stuff https://t.co/KT6Rj6YMlb\ni feel incredibly depressed and alone rn \n\nsend me some wholesome, funny, or cute stuff https://t.co/KT6Rj6YMlb\n@Una12345678H What you are feeling is real.  You are able to say it well and that alone should help you and also ot… https://t.co/81Q2JMxvm9\n@honk_kylie i understand completely how you feel. know that you aren’t lazy, you’re depressed. and someone who hasn… https://t.co/lvhtpxWjHr\nJust a reminder:\n\nNo matter how alone, unloved, unwanted or depressed you feel, you ARE special and there IS someon… https://t.co/39Nv7Xb5vK\nI feel like I've unconsciously moulded my actions to fit a person meant to be alone but I just keep getting depressed when I'm by myself.\n“I’m not sure if I’m depressed. I mean, I’m not exactly sad. But I’m not exactly happy either. I can laugh and joke… https://t.co/RzB85lj6RX\nI feel so alone and depressed, I Can’t get out of bed .or leave the hous\n@GovMikeDeWine The holidays can already make people feel alone &amp; depressed, now you want to isolate them off from o… https://t.co/5icv98e4IN\nIon know why but I feel so depressed &amp;&amp; out of it today. My boys been clingy all day but I still feel alone if that… https://t.co/un8kCVMhrJ\n\"Are you also depressed and listen to music in order to feel understood and less alone? Listen to any album by Move… https://t.co/YNmWZL6OEA\nI’m not sure if I’m depressed I mean I am not sad.  But I am not exactly happy either,  I can laugh and joke and sm… https://t.co/hgbz6fEPup\n@DaBoyCurt_06 You can have a child and still feel alone n depressed, but that’s gonna go over a lot of people head tho\ni’ve cut off almost everyone close to me this year. i’ve ended my marriage... my closest friendships... i even cut… https://t.co/s5Re3ThCHK\n\"I'm not sure if I’m depressed. I mean, I’m not exactly sad. But I’m not exactly happy either. I can laugh and joke… https://t.co/0yctFiJP5q\n@mdnij34 No, that's just laziness. I feel the same way after a week of cooking. When I'm depressed it's more than n… https://t.co/5EaZyiatVB\nYour best friend got to be more than somebody you talk about people with. I called my best friend and told her I’m… https://t.co/fUoLtOLyQz\nI don’t know if I’m depressed. I mean I’m not happy but not sad either. I can laugh and smile around people but onc… https://t.co/gANga6Asr7\nRT @ratboyfarr: if you are feeling especially sad and isolated during social distancing, feel free to chat w/ me! I am a lifelong severely…\nAur mazay ki baat pta ha kia ha.?\nAm so fucking alone that no one is gonna believe me. No one will notice.\nI feel w… https://t.co/XWLm3ieX46\nOh my God and missionary will feel 100x better. The dick will go deeper. I’m just deprived and depressed. Everyone… https://t.co/iLPHnxSwsO\nRT @colormycoates: I get depressed out of nowhere and that shit is mad annoying. I instantly feel unloved, unappreciated &amp; alone all at onc…\nRT @Ade_authority: To everyone sad, depressed, heartbroken,you  feel like you won't survive it , you feel like you've lost it all, you feel…\nTo everyone sad, depressed, heartbroken,you  feel like you won't survive it , you feel like you've lost it all, you… https://t.co/TyQOs0pFcc\nI just feel extremely depressed and alone in my heart and I feel like I do have a curse on my love life it never wo… https://t.co/dhLswUvxnw\nIt's harder to define\n정의내리는 건 어렵지\nFeel alone, depressed, and hopeless\n느껴봐 외로움, 우울과 절망\nReality and dream get into de… https://t.co/HqYLr8jVvG\ni feel so alone, empty, depressed, weak, just my absolute worse. i’m too overwhelmed and consumed by all the mental… https://t.co/tVY16Mmw8G\nI’m not sure if I’m depressed. I’m not sad, but I’m not happy either?? Like I seriously just wake up and kind of ge… https://t.co/EczOn4OAMw\nThis is how a lot of disabled people live all of the time except they don't have everyone else doing it with them,… https://t.co/YLFcJz3x3X\n#FTN to all those feelings stressed, anxious, worried and depressed over this #Covid_19 outbreak. We feel it too. T… https://t.co/6vykrb9Peu\nfeel so fucking depressed and alone lol can’t motivate myself to go to the gym hahahhhah\nRT @dresslikejayda: I’m not sure if I’m depressed. I’m not sad, but I’m not happy either?? Like I seriously just wake up and kind of get th…\nIn the midst of our crises, the depressed will still feel depression. The grieving will still grieve. The sick will… https://t.co/U6b58uOrAB\n@LyanAAD nah it just feels that way after deep talks and people venting out their negative shit feeling all depress… https://t.co/LyQCShooZ0\nRT @silentlycryingg: im not sure if im depressed. i mean im not exactly sad. but im not exactly happy either. i can laugh and joke and smil…\n@AcademicChatter #Medtwitter #pharmacists #NurseTwitter #phdchat #phdlife \n\nYou are NOT alone, if you feel stressed… https://t.co/38vQ5VuX12\nim not sure if im depressed. i mean im not exactly sad. but im not exactly happy either. i can laugh and joke and s… https://t.co/PTMwt1NbYN\nI feel so alone, empty, depressed, weak; Just my absolute worse and of course I somehow made everyone want nothing… https://t.co/BIAbJmCr2V\nI'm not sure if I'm depressed. I'm not sad but I'm not happy either. Like I seriously just wake up and kind of get… https://t.co/LwEpe9YgVF\n@SOAismyReligion I get the same way at times Eric. You are not alone.  There are times I feel so depressed and don'… https://t.co/hJE9OjlEal\nWhat’s it feel like to be depressed and alone? Just ask. Cuz that’s my life. Every day.\nAt her hearing of the news, she grit her teeth as tears stung her eyes. When she was feeling depressed, Zoey was th… https://t.co/LaMm1cYWnX\nWatching Lord of the Rings and the Hobbit on repeat until I feel less depressed?\n\nWhatever man. I live alone and can do whatever I want.\nThe male noticed this, and moved closer to lean in and kiss her forehead.\n\n⠀⠀❝You have still a lot of work to do fo… https://t.co/Z8WPJzdp3p\n@starddust1 Share it with us i don’t wanna let u feel alone and depressed  , ALONE\nMy 70+ mom canceled her trip to come stay with me this month because of the travel going coast to coast. Now she's… https://t.co/mKfBKNEnsY\nIt’s time to watch a super romantic movie and feel depressed and alone\nWe went drinking with my best friend &amp; her boyfriend tonight &amp; I've been apart from them for like, less than 5 minu… https://t.co/v9glRhSjwa\nMoots, I'm going to be inactive for an undefined time so. I'm feeling alone and when I come here to interact with u… https://t.co/hH0mkY7050\nI feel sad, depressed and alone. I feel like my existence is pointless. I don’t want to feel this way. Not today.\nRT @OptiMYzMag: If you are stressed out, you are not alone. Studies show that more than 75% of people feel anxious, depressed, stressed or…\n@bonkrzz1018 @MaudCronkhite I can't meditate under regular circumstances, let alone, when I am depressed. Concentra… https://t.co/9nLO8WJHwN\nIf you are stressed out, you are not alone. Studies show that more than 75% of people feel anxious, depressed, stre… https://t.co/Y3utjNFSyC\nRT @sammmtellez: i’m fat, i don’t feel attractive or pretty anymore, i’m always alone. i’m just depressed foreal.\n@pulte I really need it, i am desperated, really need good news, i feel so alone and depressed. help\n¿Should I take a selfie everyday post to fb and let ppl know how much I love life but in reality i actually feel in… https://t.co/8rTmG2yrc1\n@CTRodGT I don't disagree at all. But I would like to counter with that it might vary for individuals. For me, writ… https://t.co/6bPcG3cQ3V\n@maggieofthetown You are not alone in this. I'm not depressed by nature, but current events are depressing enough t… https://t.co/VNWATri61n\n@ledie_xx Nothing,nowhere makes me feel: not alone, empty, sad, depressed, happy, understood. But all in beautiful… https://t.co/ZdQdU4mOu5\nI've been feeling so alone, depressed and stressed out lately, all my friends are too busy playing other stuff, I'm… https://t.co/QIpvaE546s\nRT @bebekyri: Sometimes when I'm alone, I imagine people's death and how I'm gonna mourn and feel lonely and depressed and think about how…\nSometimes when I'm alone, I imagine people's death and how I'm gonna mourn and feel lonely and depressed and think… https://t.co/zZjN0kF9wU\nRT @dricadee: I’m not sure if I’m depressed. I’m not sad but I’m not happy either?? Like I seriously wake up and kinda get through my day b…\nI am so fucking sad. Like literally depressed. I feel so alone\nGod Morning! Great Day! Amen!\n\nDo you need someone to pray with you? Perhaps you feel stuck, depressed, alone, anxi… https://t.co/OYGhlOhALM\n@amymanlapas @dancingofpens i find it really interesting as a an introvert that people feel this way, I love being… https://t.co/kijt1wwTUO\nWas supposed to be at the club tonight now my mind if making me feel alone and depressed... it’s night like these t… https://t.co/i1rXLVneJm\n@novatjerneld aww I’m so glad it helped you! books are so special and honestly every time I’m super depressed, I tu… https://t.co/OamuGFnVSO\nI get depressed out of nowhere and that shit is mad annoying. I instantly feel unloved, unappreciated &amp; alone all a… https://t.co/A6mYlMiHT2\ni’m fat, i don’t feel attractive or pretty anymore, i’m always alone. i’m just depressed foreal.\nRT @thatsyae: I’m not sure if I’m depressed. I’m not sad, but I’m not happy either?? Like I seriously just wake up and kind of get through…\nRT @ChevaughnWright: i'm not sure if i'm depressed. i'm not sad, but i'm not happy either?? Like i seriously just wake up &amp; kind of get thr…\nI'm not sure if I'm depressed. I'm not sad, but I'm not happy either?? Like I seriously just wake up and kind of ge… https://t.co/k5Eo3uxJTJ\n@Koreaboo Men are allowed to cry and express emotions. Stop promoting toxic masculinity.   Leave people alone. This… https://t.co/lfCl0KqHJo\nRT @LetiFabian: I'm not sure if I'm depressed. I'm not sad but I'm not happy either? Like I seriously just wake up &amp; kind of get through my…\ni'm not sure if i'm depressed. i'm not sad, but i'm not happy either?? Like i seriously just wake up &amp; kind of get… https://t.co/WEUPi9ARQR\nIf you live alone or often feel disconnected, think of ways to reconnect during the #coronavirus.  You may not be a… https://t.co/Pv4CaG2ir0\ni feel so alone and depressed i might start meds again and i dont want them i dont like who i am with them\nReal talk I feel for the people who like live alone or can’t handle being in a house by themselves like when I was… https://t.co/cJx7ZVuoW1\n@depressionnote just wanted to say anyone who is feeling depressed or isolated by this shutdown in the world you ar… https://t.co/BxoI9IiEkf\nI blame anxiety for making me feel so on edge and depressed when I'm alone😔\nNobody to talk to 😅 I feel alone and depressed\nShannen Doherty has stage 4 cancer, and she's sharing her journey publicly. Knowing that others go through struggle… https://t.co/5OzJEg3m7h\nRT @AriTheDon: I hate being alone. I start overthinking and start to feel depressed or something.\nI'm not sure if I'm depressed. I'm not sad, but I'm not happy either?? Like I seriously just wake up and kind of ge… https://t.co/qsyBMEa63M\nRT @rmarchives: “we all feel depressed... at some point in our lives...” everytime namjoon speaks out about mental health or even how he co…\nHow come, despite all the endless possibilities of connections around the world, people are more depressed and ment… https://t.co/XqpBhETz1T\nI was so happy this morning and afternoon because i was with my co trainees, then i became sad and depressed when i… https://t.co/bihdBI924y\n"
     ]
    }
   ],
   "source": [
    "for i in range (0,len(df),1):\n",
    "    print(df.iloc[i,2])"
   ]
  },
  {
   "cell_type": "markdown",
   "metadata": {},
   "source": [
    "# Zone de recherche"
   ]
  },
  {
   "cell_type": "code",
   "execution_count": 25,
   "metadata": {},
   "outputs": [],
   "source": [
    "tweet=df.iloc[300,2]"
   ]
  },
  {
   "cell_type": "code",
   "execution_count": 26,
   "metadata": {},
   "outputs": [
    {
     "output_type": "execute_result",
     "data": {
      "text/plain": [
       "'RT @ratboyfarr: if you are feeling especially sad and isolated during social distancing, feel free to chat w/ me! I am a lifelong severely…'"
      ]
     },
     "metadata": {},
     "execution_count": 26
    }
   ],
   "source": [
    "tweet"
   ]
  },
  {
   "cell_type": "code",
   "execution_count": 27,
   "metadata": {},
   "outputs": [],
   "source": [
    "import spacy\n",
    "spacy.prefer_gpu()\n",
    "nlp = spacy.load(\"en_core_web_sm\")\n",
    "tokens= nlp(tweet)"
   ]
  },
  {
   "cell_type": "code",
   "execution_count": 28,
   "metadata": {},
   "outputs": [
    {
     "output_type": "execute_result",
     "data": {
      "text/plain": [
       "RT @ratboyfarr: if you are feeling especially sad and isolated during social distancing, feel free to chat w/ me! I am a lifelong severely…"
      ]
     },
     "metadata": {},
     "execution_count": 28
    }
   ],
   "source": [
    "tokens"
   ]
  },
  {
   "cell_type": "code",
   "execution_count": 29,
   "metadata": {},
   "outputs": [],
   "source": [
    "table = []\n",
    "for token in tokens:\n",
    "    if token.text!='\\n\\n':\n",
    "      table.append([token.text, token.lemma_, token.pos_, token.tag_, token.dep_, token.shape_, token.is_alpha, token.is_stop])"
   ]
  },
  {
   "cell_type": "code",
   "execution_count": 30,
   "metadata": {},
   "outputs": [
    {
     "output_type": "execute_result",
     "data": {
      "text/plain": [
       "[['RT', 'RT', 'PROPN', 'NNP', 'compound', 'XX', True, False],\n",
       " ['@ratboyfarr', '@ratboyfarr', 'NOUN', 'NNS', 'dep', '@xxxx', False, False],\n",
       " [':', ':', 'PUNCT', ':', 'punct', ':', False, False],\n",
       " ['if', 'if', 'SCONJ', 'IN', 'mark', 'xx', True, True],\n",
       " ['you', 'you', 'PRON', 'PRP', 'nsubj', 'xxx', True, True],\n",
       " ['are', 'be', 'AUX', 'VBP', 'aux', 'xxx', True, True],\n",
       " ['feeling', 'feel', 'VERB', 'VBG', 'advcl', 'xxxx', True, False],\n",
       " ['especially', 'especially', 'ADV', 'RB', 'advmod', 'xxxx', True, False],\n",
       " ['sad', 'sad', 'ADJ', 'JJ', 'acomp', 'xxx', True, False],\n",
       " ['and', 'and', 'CCONJ', 'CC', 'cc', 'xxx', True, True],\n",
       " ['isolated', 'isolate', 'VERB', 'VBN', 'conj', 'xxxx', True, False],\n",
       " ['during', 'during', 'ADP', 'IN', 'prep', 'xxxx', True, True],\n",
       " ['social', 'social', 'ADJ', 'JJ', 'amod', 'xxxx', True, False],\n",
       " ['distancing', 'distancing', 'NOUN', 'NN', 'pobj', 'xxxx', True, False],\n",
       " [',', ',', 'PUNCT', ',', 'punct', ',', False, False],\n",
       " ['feel', 'feel', 'VERB', 'VBP', 'ROOT', 'xxxx', True, False],\n",
       " ['free', 'free', 'ADJ', 'JJ', 'acomp', 'xxxx', True, False],\n",
       " ['to', 'to', 'PART', 'TO', 'aux', 'xx', True, True],\n",
       " ['chat', 'chat', 'VERB', 'VB', 'xcomp', 'xxxx', True, False],\n",
       " ['w/', 'w/', 'NOUN', 'NN', 'compound', 'x/', False, False],\n",
       " ['me', 'I', 'PRON', 'PRP', 'dobj', 'xx', True, True],\n",
       " ['!', '!', 'PUNCT', '.', 'punct', '!', False, False],\n",
       " ['I', 'I', 'PRON', 'PRP', 'nsubj', 'X', True, True],\n",
       " ['am', 'be', 'AUX', 'VBP', 'ROOT', 'xx', True, True],\n",
       " ['a', 'a', 'DET', 'DT', 'det', 'x', True, True],\n",
       " ['lifelong', 'lifelong', 'ADJ', 'JJ', 'attr', 'xxxx', True, False],\n",
       " ['severely', 'severely', 'ADV', 'RB', 'advmod', 'xxxx', True, False],\n",
       " ['…', '…', 'PUNCT', '.', 'punct', '…', False, False]]"
      ]
     },
     "metadata": {},
     "execution_count": 30
    }
   ],
   "source": [
    "table"
   ]
  },
  {
   "cell_type": "code",
   "execution_count": 31,
   "metadata": {},
   "outputs": [
    {
     "output_type": "stream",
     "name": "stdout",
     "text": [
      "RT RT PROPN NNP compound XX True False\n@ratboyfarr @ratboyfarr NOUN NNS dep @xxxx False False\n: : PUNCT : punct : False False\nif if SCONJ IN mark xx True True\nyou you PRON PRP nsubj xxx True True\nare be AUX VBP aux xxx True True\nfeeling feel VERB VBG advcl xxxx True False\nespecially especially ADV RB advmod xxxx True False\nsad sad ADJ JJ acomp xxx True False\nand and CCONJ CC cc xxx True True\nisolated isolate VERB VBN conj xxxx True False\nduring during ADP IN prep xxxx True True\nsocial social ADJ JJ amod xxxx True False\ndistancing distancing NOUN NN pobj xxxx True False\n, , PUNCT , punct , False False\nfeel feel VERB VBP ROOT xxxx True False\nfree free ADJ JJ acomp xxxx True False\nto to PART TO aux xx True True\nchat chat VERB VB xcomp xxxx True False\nw/ w/ NOUN NN compound x/ False False\nme I PRON PRP dobj xx True True\n! ! PUNCT . punct ! False False\nI I PRON PRP nsubj X True True\nam be AUX VBP ROOT xx True True\na a DET DT det x True True\nlifelong lifelong ADJ JJ attr xxxx True False\nseverely severely ADV RB advmod xxxx True False\n… … PUNCT . punct … False False\n"
     ]
    }
   ],
   "source": [
    "for token in tokens:\n",
    "    print(token.text, token.lemma_, token.pos_, token.tag_, token.dep_,\n",
    "            token.shape_, token.is_alpha, token.is_stop)"
   ]
  },
  {
   "cell_type": "code",
   "execution_count": 32,
   "metadata": {},
   "outputs": [
    {
     "output_type": "stream",
     "name": "stdout",
     "text": [
      "RT compound @ratboyfarr NOUN []\n@ratboyfarr dep feel VERB [RT]\n: punct feel VERB []\nif mark feeling VERB []\nyou nsubj feeling VERB []\nare aux feeling VERB []\nfeeling advcl feel VERB [if, you, are, sad]\nespecially advmod sad ADJ []\nsad acomp feeling VERB [especially, and, isolated]\nand cc sad ADJ []\nisolated conj sad ADJ [during]\nduring prep isolated VERB [distancing]\nsocial amod distancing NOUN []\ndistancing pobj during ADP [social]\n, punct feel VERB []\nfeel ROOT feel VERB [@ratboyfarr, :, feeling, ,, free, !]\nfree acomp feel VERB [chat]\nto aux chat VERB []\nchat xcomp free ADJ [to, me]\nw/ compound me PRON []\nme dobj chat VERB [w/]\n! punct feel VERB []\nI nsubj am AUX []\nam ROOT am AUX [I, lifelong, severely, …]\na det lifelong ADJ []\nlifelong attr am AUX [a]\nseverely advmod am AUX []\n… punct am AUX []\n"
     ]
    }
   ],
   "source": [
    "for token in tokens:\n",
    "    if token.text!='\\n\\n':\n",
    "        print(token.text, token.dep_, token.head.text, token.head.pos_,[child for child in token.children])"
   ]
  },
  {
   "cell_type": "code",
   "execution_count": 33,
   "metadata": {},
   "outputs": [
    {
     "output_type": "stream",
     "name": "stdout",
     "text": [
      "Résultats\nfeel ROOT feel VERB [@ratboyfarr, :, feeling, ,, free, !]\nam ROOT am AUX [I, lifelong, severely, …]\n"
     ]
    }
   ],
   "source": [
    "print('Résultats')\n",
    "for token in tokens :\n",
    "    if token.dep_==\"ROOT\":\n",
    "        print(token.text, token.dep_, token.head.text, token.head.pos_,[child for child in token.children])"
   ]
  },
  {
   "cell_type": "code",
   "execution_count": 34,
   "metadata": {},
   "outputs": [],
   "source": [
    "from spacy import displacy"
   ]
  },
  {
   "cell_type": "code",
   "execution_count": 35,
   "metadata": {},
   "outputs": [
    {
     "output_type": "stream",
     "name": "stderr",
     "text": [
      "C:\\Users\\lulu5\\anaconda3\\lib\\site-packages\\spacy\\displacy\\__init__.py:97: UserWarning: [W011] It looks like you're calling displacy.serve from within a Jupyter notebook or a similar environment. This likely means you're already running a local web server, so there's no need to make displaCy start another one. Instead, you should be able to replace displacy.serve with displacy.render to show the visualization.\n  warnings.warn(Warnings.W011)\n"
     ]
    },
    {
     "output_type": "display_data",
     "data": {
      "text/plain": "<IPython.core.display.HTML object>",
      "text/html": "<span class=\"tex2jax_ignore\"><!DOCTYPE html>\n<html lang=\"en\">\n    <head>\n        <title>displaCy</title>\n    </head>\n\n    <body style=\"font-size: 16px; font-family: -apple-system, BlinkMacSystemFont, 'Segoe UI', Helvetica, Arial, sans-serif, 'Apple Color Emoji', 'Segoe UI Emoji', 'Segoe UI Symbol'; padding: 4rem 2rem; direction: ltr\">\n<figure style=\"margin-bottom: 6rem\">\n<svg xmlns=\"http://www.w3.org/2000/svg\" xmlns:xlink=\"http://www.w3.org/1999/xlink\" xml:lang=\"en\" id=\"cd23b0eed43b4dfd85d9ca6e5c25553d-0\" class=\"displacy\" width=\"4250\" height=\"574.5\" direction=\"ltr\" style=\"max-width: none; height: 574.5px; color: #000000; background: #ffffff; font-family: Arial; direction: ltr\">\n<text class=\"displacy-token\" fill=\"currentColor\" text-anchor=\"middle\" y=\"484.5\">\n    <tspan class=\"displacy-word\" fill=\"currentColor\" x=\"50\">RT</tspan>\n    <tspan class=\"displacy-tag\" dy=\"2em\" fill=\"currentColor\" x=\"50\">PROPN</tspan>\n</text>\n\n<text class=\"displacy-token\" fill=\"currentColor\" text-anchor=\"middle\" y=\"484.5\">\n    <tspan class=\"displacy-word\" fill=\"currentColor\" x=\"225\">@ratboyfarr:</tspan>\n    <tspan class=\"displacy-tag\" dy=\"2em\" fill=\"currentColor\" x=\"225\">NOUN</tspan>\n</text>\n\n<text class=\"displacy-token\" fill=\"currentColor\" text-anchor=\"middle\" y=\"484.5\">\n    <tspan class=\"displacy-word\" fill=\"currentColor\" x=\"400\">if</tspan>\n    <tspan class=\"displacy-tag\" dy=\"2em\" fill=\"currentColor\" x=\"400\">SCONJ</tspan>\n</text>\n\n<text class=\"displacy-token\" fill=\"currentColor\" text-anchor=\"middle\" y=\"484.5\">\n    <tspan class=\"displacy-word\" fill=\"currentColor\" x=\"575\">you</tspan>\n    <tspan class=\"displacy-tag\" dy=\"2em\" fill=\"currentColor\" x=\"575\">PRON</tspan>\n</text>\n\n<text class=\"displacy-token\" fill=\"currentColor\" text-anchor=\"middle\" y=\"484.5\">\n    <tspan class=\"displacy-word\" fill=\"currentColor\" x=\"750\">are</tspan>\n    <tspan class=\"displacy-tag\" dy=\"2em\" fill=\"currentColor\" x=\"750\">AUX</tspan>\n</text>\n\n<text class=\"displacy-token\" fill=\"currentColor\" text-anchor=\"middle\" y=\"484.5\">\n    <tspan class=\"displacy-word\" fill=\"currentColor\" x=\"925\">feeling</tspan>\n    <tspan class=\"displacy-tag\" dy=\"2em\" fill=\"currentColor\" x=\"925\">VERB</tspan>\n</text>\n\n<text class=\"displacy-token\" fill=\"currentColor\" text-anchor=\"middle\" y=\"484.5\">\n    <tspan class=\"displacy-word\" fill=\"currentColor\" x=\"1100\">especially</tspan>\n    <tspan class=\"displacy-tag\" dy=\"2em\" fill=\"currentColor\" x=\"1100\">ADV</tspan>\n</text>\n\n<text class=\"displacy-token\" fill=\"currentColor\" text-anchor=\"middle\" y=\"484.5\">\n    <tspan class=\"displacy-word\" fill=\"currentColor\" x=\"1275\">sad</tspan>\n    <tspan class=\"displacy-tag\" dy=\"2em\" fill=\"currentColor\" x=\"1275\">ADJ</tspan>\n</text>\n\n<text class=\"displacy-token\" fill=\"currentColor\" text-anchor=\"middle\" y=\"484.5\">\n    <tspan class=\"displacy-word\" fill=\"currentColor\" x=\"1450\">and</tspan>\n    <tspan class=\"displacy-tag\" dy=\"2em\" fill=\"currentColor\" x=\"1450\">CCONJ</tspan>\n</text>\n\n<text class=\"displacy-token\" fill=\"currentColor\" text-anchor=\"middle\" y=\"484.5\">\n    <tspan class=\"displacy-word\" fill=\"currentColor\" x=\"1625\">isolated</tspan>\n    <tspan class=\"displacy-tag\" dy=\"2em\" fill=\"currentColor\" x=\"1625\">VERB</tspan>\n</text>\n\n<text class=\"displacy-token\" fill=\"currentColor\" text-anchor=\"middle\" y=\"484.5\">\n    <tspan class=\"displacy-word\" fill=\"currentColor\" x=\"1800\">during</tspan>\n    <tspan class=\"displacy-tag\" dy=\"2em\" fill=\"currentColor\" x=\"1800\">ADP</tspan>\n</text>\n\n<text class=\"displacy-token\" fill=\"currentColor\" text-anchor=\"middle\" y=\"484.5\">\n    <tspan class=\"displacy-word\" fill=\"currentColor\" x=\"1975\">social</tspan>\n    <tspan class=\"displacy-tag\" dy=\"2em\" fill=\"currentColor\" x=\"1975\">ADJ</tspan>\n</text>\n\n<text class=\"displacy-token\" fill=\"currentColor\" text-anchor=\"middle\" y=\"484.5\">\n    <tspan class=\"displacy-word\" fill=\"currentColor\" x=\"2150\">distancing,</tspan>\n    <tspan class=\"displacy-tag\" dy=\"2em\" fill=\"currentColor\" x=\"2150\">NOUN</tspan>\n</text>\n\n<text class=\"displacy-token\" fill=\"currentColor\" text-anchor=\"middle\" y=\"484.5\">\n    <tspan class=\"displacy-word\" fill=\"currentColor\" x=\"2325\">feel</tspan>\n    <tspan class=\"displacy-tag\" dy=\"2em\" fill=\"currentColor\" x=\"2325\">VERB</tspan>\n</text>\n\n<text class=\"displacy-token\" fill=\"currentColor\" text-anchor=\"middle\" y=\"484.5\">\n    <tspan class=\"displacy-word\" fill=\"currentColor\" x=\"2500\">free</tspan>\n    <tspan class=\"displacy-tag\" dy=\"2em\" fill=\"currentColor\" x=\"2500\">ADJ</tspan>\n</text>\n\n<text class=\"displacy-token\" fill=\"currentColor\" text-anchor=\"middle\" y=\"484.5\">\n    <tspan class=\"displacy-word\" fill=\"currentColor\" x=\"2675\">to</tspan>\n    <tspan class=\"displacy-tag\" dy=\"2em\" fill=\"currentColor\" x=\"2675\">PART</tspan>\n</text>\n\n<text class=\"displacy-token\" fill=\"currentColor\" text-anchor=\"middle\" y=\"484.5\">\n    <tspan class=\"displacy-word\" fill=\"currentColor\" x=\"2850\">chat</tspan>\n    <tspan class=\"displacy-tag\" dy=\"2em\" fill=\"currentColor\" x=\"2850\">VERB</tspan>\n</text>\n\n<text class=\"displacy-token\" fill=\"currentColor\" text-anchor=\"middle\" y=\"484.5\">\n    <tspan class=\"displacy-word\" fill=\"currentColor\" x=\"3025\">w/</tspan>\n    <tspan class=\"displacy-tag\" dy=\"2em\" fill=\"currentColor\" x=\"3025\">NOUN</tspan>\n</text>\n\n<text class=\"displacy-token\" fill=\"currentColor\" text-anchor=\"middle\" y=\"484.5\">\n    <tspan class=\"displacy-word\" fill=\"currentColor\" x=\"3200\">me!</tspan>\n    <tspan class=\"displacy-tag\" dy=\"2em\" fill=\"currentColor\" x=\"3200\">PRON</tspan>\n</text>\n\n<text class=\"displacy-token\" fill=\"currentColor\" text-anchor=\"middle\" y=\"484.5\">\n    <tspan class=\"displacy-word\" fill=\"currentColor\" x=\"3375\">I</tspan>\n    <tspan class=\"displacy-tag\" dy=\"2em\" fill=\"currentColor\" x=\"3375\">PRON</tspan>\n</text>\n\n<text class=\"displacy-token\" fill=\"currentColor\" text-anchor=\"middle\" y=\"484.5\">\n    <tspan class=\"displacy-word\" fill=\"currentColor\" x=\"3550\">am</tspan>\n    <tspan class=\"displacy-tag\" dy=\"2em\" fill=\"currentColor\" x=\"3550\">AUX</tspan>\n</text>\n\n<text class=\"displacy-token\" fill=\"currentColor\" text-anchor=\"middle\" y=\"484.5\">\n    <tspan class=\"displacy-word\" fill=\"currentColor\" x=\"3725\">a</tspan>\n    <tspan class=\"displacy-tag\" dy=\"2em\" fill=\"currentColor\" x=\"3725\">DET</tspan>\n</text>\n\n<text class=\"displacy-token\" fill=\"currentColor\" text-anchor=\"middle\" y=\"484.5\">\n    <tspan class=\"displacy-word\" fill=\"currentColor\" x=\"3900\">lifelong</tspan>\n    <tspan class=\"displacy-tag\" dy=\"2em\" fill=\"currentColor\" x=\"3900\">ADJ</tspan>\n</text>\n\n<text class=\"displacy-token\" fill=\"currentColor\" text-anchor=\"middle\" y=\"484.5\">\n    <tspan class=\"displacy-word\" fill=\"currentColor\" x=\"4075\">severely…</tspan>\n    <tspan class=\"displacy-tag\" dy=\"2em\" fill=\"currentColor\" x=\"4075\">ADV</tspan>\n</text>\n\n<g class=\"displacy-arrow\">\n    <path class=\"displacy-arc\" id=\"arrow-cd23b0eed43b4dfd85d9ca6e5c25553d-0-0\" stroke-width=\"2px\" d=\"M70,439.5 C70,352.0 205.0,352.0 205.0,439.5\" fill=\"none\" stroke=\"currentColor\"/>\n    <text dy=\"1.25em\" style=\"font-size: 0.8em; letter-spacing: 1px\">\n        <textPath xlink:href=\"#arrow-cd23b0eed43b4dfd85d9ca6e5c25553d-0-0\" class=\"displacy-label\" startOffset=\"50%\" side=\"left\" fill=\"currentColor\" text-anchor=\"middle\">compound</textPath>\n    </text>\n    <path class=\"displacy-arrowhead\" d=\"M70,441.5 L62,429.5 78,429.5\" fill=\"currentColor\"/>\n</g>\n\n<g class=\"displacy-arrow\">\n    <path class=\"displacy-arc\" id=\"arrow-cd23b0eed43b4dfd85d9ca6e5c25553d-0-1\" stroke-width=\"2px\" d=\"M245,439.5 C245,2.0 2325.0,2.0 2325.0,439.5\" fill=\"none\" stroke=\"currentColor\"/>\n    <text dy=\"1.25em\" style=\"font-size: 0.8em; letter-spacing: 1px\">\n        <textPath xlink:href=\"#arrow-cd23b0eed43b4dfd85d9ca6e5c25553d-0-1\" class=\"displacy-label\" startOffset=\"50%\" side=\"left\" fill=\"currentColor\" text-anchor=\"middle\">dep</textPath>\n    </text>\n    <path class=\"displacy-arrowhead\" d=\"M245,441.5 L237,429.5 253,429.5\" fill=\"currentColor\"/>\n</g>\n\n<g class=\"displacy-arrow\">\n    <path class=\"displacy-arc\" id=\"arrow-cd23b0eed43b4dfd85d9ca6e5c25553d-0-2\" stroke-width=\"2px\" d=\"M420,439.5 C420,177.0 915.0,177.0 915.0,439.5\" fill=\"none\" stroke=\"currentColor\"/>\n    <text dy=\"1.25em\" style=\"font-size: 0.8em; letter-spacing: 1px\">\n        <textPath xlink:href=\"#arrow-cd23b0eed43b4dfd85d9ca6e5c25553d-0-2\" class=\"displacy-label\" startOffset=\"50%\" side=\"left\" fill=\"currentColor\" text-anchor=\"middle\">mark</textPath>\n    </text>\n    <path class=\"displacy-arrowhead\" d=\"M420,441.5 L412,429.5 428,429.5\" fill=\"currentColor\"/>\n</g>\n\n<g class=\"displacy-arrow\">\n    <path class=\"displacy-arc\" id=\"arrow-cd23b0eed43b4dfd85d9ca6e5c25553d-0-3\" stroke-width=\"2px\" d=\"M595,439.5 C595,264.5 910.0,264.5 910.0,439.5\" fill=\"none\" stroke=\"currentColor\"/>\n    <text dy=\"1.25em\" style=\"font-size: 0.8em; letter-spacing: 1px\">\n        <textPath xlink:href=\"#arrow-cd23b0eed43b4dfd85d9ca6e5c25553d-0-3\" class=\"displacy-label\" startOffset=\"50%\" side=\"left\" fill=\"currentColor\" text-anchor=\"middle\">nsubj</textPath>\n    </text>\n    <path class=\"displacy-arrowhead\" d=\"M595,441.5 L587,429.5 603,429.5\" fill=\"currentColor\"/>\n</g>\n\n<g class=\"displacy-arrow\">\n    <path class=\"displacy-arc\" id=\"arrow-cd23b0eed43b4dfd85d9ca6e5c25553d-0-4\" stroke-width=\"2px\" d=\"M770,439.5 C770,352.0 905.0,352.0 905.0,439.5\" fill=\"none\" stroke=\"currentColor\"/>\n    <text dy=\"1.25em\" style=\"font-size: 0.8em; letter-spacing: 1px\">\n        <textPath xlink:href=\"#arrow-cd23b0eed43b4dfd85d9ca6e5c25553d-0-4\" class=\"displacy-label\" startOffset=\"50%\" side=\"left\" fill=\"currentColor\" text-anchor=\"middle\">aux</textPath>\n    </text>\n    <path class=\"displacy-arrowhead\" d=\"M770,441.5 L762,429.5 778,429.5\" fill=\"currentColor\"/>\n</g>\n\n<g class=\"displacy-arrow\">\n    <path class=\"displacy-arc\" id=\"arrow-cd23b0eed43b4dfd85d9ca6e5c25553d-0-5\" stroke-width=\"2px\" d=\"M945,439.5 C945,89.5 2320.0,89.5 2320.0,439.5\" fill=\"none\" stroke=\"currentColor\"/>\n    <text dy=\"1.25em\" style=\"font-size: 0.8em; letter-spacing: 1px\">\n        <textPath xlink:href=\"#arrow-cd23b0eed43b4dfd85d9ca6e5c25553d-0-5\" class=\"displacy-label\" startOffset=\"50%\" side=\"left\" fill=\"currentColor\" text-anchor=\"middle\">advcl</textPath>\n    </text>\n    <path class=\"displacy-arrowhead\" d=\"M945,441.5 L937,429.5 953,429.5\" fill=\"currentColor\"/>\n</g>\n\n<g class=\"displacy-arrow\">\n    <path class=\"displacy-arc\" id=\"arrow-cd23b0eed43b4dfd85d9ca6e5c25553d-0-6\" stroke-width=\"2px\" d=\"M1120,439.5 C1120,352.0 1255.0,352.0 1255.0,439.5\" fill=\"none\" stroke=\"currentColor\"/>\n    <text dy=\"1.25em\" style=\"font-size: 0.8em; letter-spacing: 1px\">\n        <textPath xlink:href=\"#arrow-cd23b0eed43b4dfd85d9ca6e5c25553d-0-6\" class=\"displacy-label\" startOffset=\"50%\" side=\"left\" fill=\"currentColor\" text-anchor=\"middle\">advmod</textPath>\n    </text>\n    <path class=\"displacy-arrowhead\" d=\"M1120,441.5 L1112,429.5 1128,429.5\" fill=\"currentColor\"/>\n</g>\n\n<g class=\"displacy-arrow\">\n    <path class=\"displacy-arc\" id=\"arrow-cd23b0eed43b4dfd85d9ca6e5c25553d-0-7\" stroke-width=\"2px\" d=\"M945,439.5 C945,264.5 1260.0,264.5 1260.0,439.5\" fill=\"none\" stroke=\"currentColor\"/>\n    <text dy=\"1.25em\" style=\"font-size: 0.8em; letter-spacing: 1px\">\n        <textPath xlink:href=\"#arrow-cd23b0eed43b4dfd85d9ca6e5c25553d-0-7\" class=\"displacy-label\" startOffset=\"50%\" side=\"left\" fill=\"currentColor\" text-anchor=\"middle\">acomp</textPath>\n    </text>\n    <path class=\"displacy-arrowhead\" d=\"M1260.0,441.5 L1268.0,429.5 1252.0,429.5\" fill=\"currentColor\"/>\n</g>\n\n<g class=\"displacy-arrow\">\n    <path class=\"displacy-arc\" id=\"arrow-cd23b0eed43b4dfd85d9ca6e5c25553d-0-8\" stroke-width=\"2px\" d=\"M1295,439.5 C1295,352.0 1430.0,352.0 1430.0,439.5\" fill=\"none\" stroke=\"currentColor\"/>\n    <text dy=\"1.25em\" style=\"font-size: 0.8em; letter-spacing: 1px\">\n        <textPath xlink:href=\"#arrow-cd23b0eed43b4dfd85d9ca6e5c25553d-0-8\" class=\"displacy-label\" startOffset=\"50%\" side=\"left\" fill=\"currentColor\" text-anchor=\"middle\">cc</textPath>\n    </text>\n    <path class=\"displacy-arrowhead\" d=\"M1430.0,441.5 L1438.0,429.5 1422.0,429.5\" fill=\"currentColor\"/>\n</g>\n\n<g class=\"displacy-arrow\">\n    <path class=\"displacy-arc\" id=\"arrow-cd23b0eed43b4dfd85d9ca6e5c25553d-0-9\" stroke-width=\"2px\" d=\"M1295,439.5 C1295,264.5 1610.0,264.5 1610.0,439.5\" fill=\"none\" stroke=\"currentColor\"/>\n    <text dy=\"1.25em\" style=\"font-size: 0.8em; letter-spacing: 1px\">\n        <textPath xlink:href=\"#arrow-cd23b0eed43b4dfd85d9ca6e5c25553d-0-9\" class=\"displacy-label\" startOffset=\"50%\" side=\"left\" fill=\"currentColor\" text-anchor=\"middle\">conj</textPath>\n    </text>\n    <path class=\"displacy-arrowhead\" d=\"M1610.0,441.5 L1618.0,429.5 1602.0,429.5\" fill=\"currentColor\"/>\n</g>\n\n<g class=\"displacy-arrow\">\n    <path class=\"displacy-arc\" id=\"arrow-cd23b0eed43b4dfd85d9ca6e5c25553d-0-10\" stroke-width=\"2px\" d=\"M1645,439.5 C1645,352.0 1780.0,352.0 1780.0,439.5\" fill=\"none\" stroke=\"currentColor\"/>\n    <text dy=\"1.25em\" style=\"font-size: 0.8em; letter-spacing: 1px\">\n        <textPath xlink:href=\"#arrow-cd23b0eed43b4dfd85d9ca6e5c25553d-0-10\" class=\"displacy-label\" startOffset=\"50%\" side=\"left\" fill=\"currentColor\" text-anchor=\"middle\">prep</textPath>\n    </text>\n    <path class=\"displacy-arrowhead\" d=\"M1780.0,441.5 L1788.0,429.5 1772.0,429.5\" fill=\"currentColor\"/>\n</g>\n\n<g class=\"displacy-arrow\">\n    <path class=\"displacy-arc\" id=\"arrow-cd23b0eed43b4dfd85d9ca6e5c25553d-0-11\" stroke-width=\"2px\" d=\"M1995,439.5 C1995,352.0 2130.0,352.0 2130.0,439.5\" fill=\"none\" stroke=\"currentColor\"/>\n    <text dy=\"1.25em\" style=\"font-size: 0.8em; letter-spacing: 1px\">\n        <textPath xlink:href=\"#arrow-cd23b0eed43b4dfd85d9ca6e5c25553d-0-11\" class=\"displacy-label\" startOffset=\"50%\" side=\"left\" fill=\"currentColor\" text-anchor=\"middle\">amod</textPath>\n    </text>\n    <path class=\"displacy-arrowhead\" d=\"M1995,441.5 L1987,429.5 2003,429.5\" fill=\"currentColor\"/>\n</g>\n\n<g class=\"displacy-arrow\">\n    <path class=\"displacy-arc\" id=\"arrow-cd23b0eed43b4dfd85d9ca6e5c25553d-0-12\" stroke-width=\"2px\" d=\"M1820,439.5 C1820,264.5 2135.0,264.5 2135.0,439.5\" fill=\"none\" stroke=\"currentColor\"/>\n    <text dy=\"1.25em\" style=\"font-size: 0.8em; letter-spacing: 1px\">\n        <textPath xlink:href=\"#arrow-cd23b0eed43b4dfd85d9ca6e5c25553d-0-12\" class=\"displacy-label\" startOffset=\"50%\" side=\"left\" fill=\"currentColor\" text-anchor=\"middle\">pobj</textPath>\n    </text>\n    <path class=\"displacy-arrowhead\" d=\"M2135.0,441.5 L2143.0,429.5 2127.0,429.5\" fill=\"currentColor\"/>\n</g>\n\n<g class=\"displacy-arrow\">\n    <path class=\"displacy-arc\" id=\"arrow-cd23b0eed43b4dfd85d9ca6e5c25553d-0-13\" stroke-width=\"2px\" d=\"M2345,439.5 C2345,352.0 2480.0,352.0 2480.0,439.5\" fill=\"none\" stroke=\"currentColor\"/>\n    <text dy=\"1.25em\" style=\"font-size: 0.8em; letter-spacing: 1px\">\n        <textPath xlink:href=\"#arrow-cd23b0eed43b4dfd85d9ca6e5c25553d-0-13\" class=\"displacy-label\" startOffset=\"50%\" side=\"left\" fill=\"currentColor\" text-anchor=\"middle\">acomp</textPath>\n    </text>\n    <path class=\"displacy-arrowhead\" d=\"M2480.0,441.5 L2488.0,429.5 2472.0,429.5\" fill=\"currentColor\"/>\n</g>\n\n<g class=\"displacy-arrow\">\n    <path class=\"displacy-arc\" id=\"arrow-cd23b0eed43b4dfd85d9ca6e5c25553d-0-14\" stroke-width=\"2px\" d=\"M2695,439.5 C2695,352.0 2830.0,352.0 2830.0,439.5\" fill=\"none\" stroke=\"currentColor\"/>\n    <text dy=\"1.25em\" style=\"font-size: 0.8em; letter-spacing: 1px\">\n        <textPath xlink:href=\"#arrow-cd23b0eed43b4dfd85d9ca6e5c25553d-0-14\" class=\"displacy-label\" startOffset=\"50%\" side=\"left\" fill=\"currentColor\" text-anchor=\"middle\">aux</textPath>\n    </text>\n    <path class=\"displacy-arrowhead\" d=\"M2695,441.5 L2687,429.5 2703,429.5\" fill=\"currentColor\"/>\n</g>\n\n<g class=\"displacy-arrow\">\n    <path class=\"displacy-arc\" id=\"arrow-cd23b0eed43b4dfd85d9ca6e5c25553d-0-15\" stroke-width=\"2px\" d=\"M2520,439.5 C2520,264.5 2835.0,264.5 2835.0,439.5\" fill=\"none\" stroke=\"currentColor\"/>\n    <text dy=\"1.25em\" style=\"font-size: 0.8em; letter-spacing: 1px\">\n        <textPath xlink:href=\"#arrow-cd23b0eed43b4dfd85d9ca6e5c25553d-0-15\" class=\"displacy-label\" startOffset=\"50%\" side=\"left\" fill=\"currentColor\" text-anchor=\"middle\">xcomp</textPath>\n    </text>\n    <path class=\"displacy-arrowhead\" d=\"M2835.0,441.5 L2843.0,429.5 2827.0,429.5\" fill=\"currentColor\"/>\n</g>\n\n<g class=\"displacy-arrow\">\n    <path class=\"displacy-arc\" id=\"arrow-cd23b0eed43b4dfd85d9ca6e5c25553d-0-16\" stroke-width=\"2px\" d=\"M3045,439.5 C3045,352.0 3180.0,352.0 3180.0,439.5\" fill=\"none\" stroke=\"currentColor\"/>\n    <text dy=\"1.25em\" style=\"font-size: 0.8em; letter-spacing: 1px\">\n        <textPath xlink:href=\"#arrow-cd23b0eed43b4dfd85d9ca6e5c25553d-0-16\" class=\"displacy-label\" startOffset=\"50%\" side=\"left\" fill=\"currentColor\" text-anchor=\"middle\">compound</textPath>\n    </text>\n    <path class=\"displacy-arrowhead\" d=\"M3045,441.5 L3037,429.5 3053,429.5\" fill=\"currentColor\"/>\n</g>\n\n<g class=\"displacy-arrow\">\n    <path class=\"displacy-arc\" id=\"arrow-cd23b0eed43b4dfd85d9ca6e5c25553d-0-17\" stroke-width=\"2px\" d=\"M2870,439.5 C2870,264.5 3185.0,264.5 3185.0,439.5\" fill=\"none\" stroke=\"currentColor\"/>\n    <text dy=\"1.25em\" style=\"font-size: 0.8em; letter-spacing: 1px\">\n        <textPath xlink:href=\"#arrow-cd23b0eed43b4dfd85d9ca6e5c25553d-0-17\" class=\"displacy-label\" startOffset=\"50%\" side=\"left\" fill=\"currentColor\" text-anchor=\"middle\">dobj</textPath>\n    </text>\n    <path class=\"displacy-arrowhead\" d=\"M3185.0,441.5 L3193.0,429.5 3177.0,429.5\" fill=\"currentColor\"/>\n</g>\n\n<g class=\"displacy-arrow\">\n    <path class=\"displacy-arc\" id=\"arrow-cd23b0eed43b4dfd85d9ca6e5c25553d-0-18\" stroke-width=\"2px\" d=\"M3395,439.5 C3395,352.0 3530.0,352.0 3530.0,439.5\" fill=\"none\" stroke=\"currentColor\"/>\n    <text dy=\"1.25em\" style=\"font-size: 0.8em; letter-spacing: 1px\">\n        <textPath xlink:href=\"#arrow-cd23b0eed43b4dfd85d9ca6e5c25553d-0-18\" class=\"displacy-label\" startOffset=\"50%\" side=\"left\" fill=\"currentColor\" text-anchor=\"middle\">nsubj</textPath>\n    </text>\n    <path class=\"displacy-arrowhead\" d=\"M3395,441.5 L3387,429.5 3403,429.5\" fill=\"currentColor\"/>\n</g>\n\n<g class=\"displacy-arrow\">\n    <path class=\"displacy-arc\" id=\"arrow-cd23b0eed43b4dfd85d9ca6e5c25553d-0-19\" stroke-width=\"2px\" d=\"M3745,439.5 C3745,352.0 3880.0,352.0 3880.0,439.5\" fill=\"none\" stroke=\"currentColor\"/>\n    <text dy=\"1.25em\" style=\"font-size: 0.8em; letter-spacing: 1px\">\n        <textPath xlink:href=\"#arrow-cd23b0eed43b4dfd85d9ca6e5c25553d-0-19\" class=\"displacy-label\" startOffset=\"50%\" side=\"left\" fill=\"currentColor\" text-anchor=\"middle\">det</textPath>\n    </text>\n    <path class=\"displacy-arrowhead\" d=\"M3745,441.5 L3737,429.5 3753,429.5\" fill=\"currentColor\"/>\n</g>\n\n<g class=\"displacy-arrow\">\n    <path class=\"displacy-arc\" id=\"arrow-cd23b0eed43b4dfd85d9ca6e5c25553d-0-20\" stroke-width=\"2px\" d=\"M3570,439.5 C3570,264.5 3885.0,264.5 3885.0,439.5\" fill=\"none\" stroke=\"currentColor\"/>\n    <text dy=\"1.25em\" style=\"font-size: 0.8em; letter-spacing: 1px\">\n        <textPath xlink:href=\"#arrow-cd23b0eed43b4dfd85d9ca6e5c25553d-0-20\" class=\"displacy-label\" startOffset=\"50%\" side=\"left\" fill=\"currentColor\" text-anchor=\"middle\">attr</textPath>\n    </text>\n    <path class=\"displacy-arrowhead\" d=\"M3885.0,441.5 L3893.0,429.5 3877.0,429.5\" fill=\"currentColor\"/>\n</g>\n\n<g class=\"displacy-arrow\">\n    <path class=\"displacy-arc\" id=\"arrow-cd23b0eed43b4dfd85d9ca6e5c25553d-0-21\" stroke-width=\"2px\" d=\"M3570,439.5 C3570,177.0 4065.0,177.0 4065.0,439.5\" fill=\"none\" stroke=\"currentColor\"/>\n    <text dy=\"1.25em\" style=\"font-size: 0.8em; letter-spacing: 1px\">\n        <textPath xlink:href=\"#arrow-cd23b0eed43b4dfd85d9ca6e5c25553d-0-21\" class=\"displacy-label\" startOffset=\"50%\" side=\"left\" fill=\"currentColor\" text-anchor=\"middle\">advmod</textPath>\n    </text>\n    <path class=\"displacy-arrowhead\" d=\"M4065.0,441.5 L4073.0,429.5 4057.0,429.5\" fill=\"currentColor\"/>\n</g>\n</svg>\n</figure>\n</body>\n</html></span>"
     },
     "metadata": {}
    },
    {
     "output_type": "stream",
     "name": "stdout",
     "text": [
      "\n",
      "Using the 'dep' visualizer\n",
      "Serving on http://0.0.0.0:5000 ...\n",
      "\n",
      "Shutting down server on port 5000.\n"
     ]
    }
   ],
   "source": [
    "displacy.serve(tokens, style=\"dep\")"
   ]
  },
  {
   "cell_type": "markdown",
   "metadata": {},
   "source": [
    "# Fonctions"
   ]
  },
  {
   "cell_type": "code",
   "execution_count": 111,
   "metadata": {},
   "outputs": [],
   "source": [
    "mot = 'accused'"
   ]
  },
  {
   "cell_type": "code",
   "execution_count": 112,
   "metadata": {},
   "outputs": [],
   "source": [
    "mot = mot.replace(\"'\",\"\")"
   ]
  },
  {
   "cell_type": "code",
   "execution_count": 113,
   "metadata": {},
   "outputs": [
    {
     "output_type": "execute_result",
     "data": {
      "text/plain": [
       "7"
      ]
     },
     "metadata": {},
     "execution_count": 113
    }
   ],
   "source": [
    "len(mot)"
   ]
  },
  {
   "cell_type": "code",
   "execution_count": 166,
   "metadata": {},
   "outputs": [],
   "source": [
    "emotions_file=pd.read_csv(\"emotions.txt\",sep=\":\",names=['adjective','major_emotion'])"
   ]
  },
  {
   "cell_type": "code",
   "execution_count": 179,
   "metadata": {},
   "outputs": [],
   "source": [
    "emotions_file_ad=emotions_file[\"adjective\"]\n",
    "emotions_file_me=emotions_file[\"major_emotion\"]"
   ]
  },
  {
   "cell_type": "code",
   "execution_count": 181,
   "metadata": {},
   "outputs": [],
   "source": [
    "emotions_file_ad=emotions_file_ad.str.replace(\" \",\"\")\n",
    "emotions_file_ad=emotions_file_ad.str.replace(\"'\",\"\")\n",
    "emotions_file_me=emotions_file_me.str.replace(\" \",\"\")\n",
    "emotions_file_me=emotions_file_me.str.replace(\"'\",\"\")"
   ]
  },
  {
   "cell_type": "code",
   "execution_count": 182,
   "metadata": {},
   "outputs": [
    {
     "output_type": "execute_result",
     "data": {
      "text/plain": [
       "0          victimized\n",
       "1             accused\n",
       "2           acquitted\n",
       "3            adorable\n",
       "4              adored\n",
       "            ...      \n",
       "512     uncomfortable\n",
       "513    underestimated\n",
       "514           unhappy\n",
       "515        vindicated\n",
       "516          workedup\n",
       "Name: adjective, Length: 517, dtype: object"
      ]
     },
     "metadata": {},
     "execution_count": 182
    }
   ],
   "source": [
    "emotions_file_ad"
   ]
  },
  {
   "cell_type": "code",
   "execution_count": 178,
   "metadata": {},
   "outputs": [
    {
     "output_type": "execute_result",
     "data": {
      "text/plain": [
       "7"
      ]
     },
     "metadata": {},
     "execution_count": 178
    }
   ],
   "source": [
    "len(emotions_file_ad[1])"
   ]
  },
  {
   "cell_type": "code",
   "execution_count": 175,
   "metadata": {},
   "outputs": [
    {
     "output_type": "execute_result",
     "data": {
      "text/plain": [
       "0          'victimized'\n",
       "1              'ccused'\n",
       "2            'cquitted'\n",
       "3              'dorble'\n",
       "4               'dored'\n",
       "             ...       \n",
       "512      'uncomfortble'\n",
       "513     'underestimted'\n",
       "514            'unhppy'\n",
       "515         'vindicted'\n",
       "516         'worked up'\n",
       "Name: adjective, Length: 517, dtype: object"
      ]
     },
     "metadata": {},
     "execution_count": 175
    }
   ],
   "source": [
    "setI.str.replace(\"a\",\"\")"
   ]
  },
  {
   "cell_type": "code",
   "execution_count": 158,
   "metadata": {},
   "outputs": [
    {
     "output_type": "execute_result",
     "data": {
      "text/plain": [
       "             adjective    major_emotion\n",
       "0         'victimized'       'cheated',\n",
       "1            'accused'       'cheated',\n",
       "2          'acquitted'   'singled out',\n",
       "3           'adorable'         'loved',\n",
       "4             'adored'         'loved',\n",
       "..                 ...              ...\n",
       "512    'uncomfortable'       'anxious',\n",
       "513   'underestimated'     'belittled',\n",
       "514          'unhappy'           'sad',\n",
       "515       'vindicated'   'singled out',\n",
       "516        'worked up'          'angry'\n",
       "\n",
       "[517 rows x 2 columns]"
      ],
      "text/html": "<div>\n<style scoped>\n    .dataframe tbody tr th:only-of-type {\n        vertical-align: middle;\n    }\n\n    .dataframe tbody tr th {\n        vertical-align: top;\n    }\n\n    .dataframe thead th {\n        text-align: right;\n    }\n</style>\n<table border=\"1\" class=\"dataframe\">\n  <thead>\n    <tr style=\"text-align: right;\">\n      <th></th>\n      <th>adjective</th>\n      <th>major_emotion</th>\n    </tr>\n  </thead>\n  <tbody>\n    <tr>\n      <th>0</th>\n      <td>'victimized'</td>\n      <td>'cheated',</td>\n    </tr>\n    <tr>\n      <th>1</th>\n      <td>'accused'</td>\n      <td>'cheated',</td>\n    </tr>\n    <tr>\n      <th>2</th>\n      <td>'acquitted'</td>\n      <td>'singled out',</td>\n    </tr>\n    <tr>\n      <th>3</th>\n      <td>'adorable'</td>\n      <td>'loved',</td>\n    </tr>\n    <tr>\n      <th>4</th>\n      <td>'adored'</td>\n      <td>'loved',</td>\n    </tr>\n    <tr>\n      <th>...</th>\n      <td>...</td>\n      <td>...</td>\n    </tr>\n    <tr>\n      <th>512</th>\n      <td>'uncomfortable'</td>\n      <td>'anxious',</td>\n    </tr>\n    <tr>\n      <th>513</th>\n      <td>'underestimated'</td>\n      <td>'belittled',</td>\n    </tr>\n    <tr>\n      <th>514</th>\n      <td>'unhappy'</td>\n      <td>'sad',</td>\n    </tr>\n    <tr>\n      <th>515</th>\n      <td>'vindicated'</td>\n      <td>'singled out',</td>\n    </tr>\n    <tr>\n      <th>516</th>\n      <td>'worked up'</td>\n      <td>'angry'</td>\n    </tr>\n  </tbody>\n</table>\n<p>517 rows × 2 columns</p>\n</div>"
     },
     "metadata": {},
     "execution_count": 158
    }
   ],
   "source": [
    "emotions_file"
   ]
  },
  {
   "cell_type": "code",
   "execution_count": 37,
   "metadata": {},
   "outputs": [],
   "source": [
    "import csv\n",
    "emotions_list=[]\n",
    "with open('emotions.txt','rt')as f:\n",
    "  data = csv.reader(f)\n",
    "  for row in data:\n",
    "        emotions_list.append(row)"
   ]
  },
  {
   "cell_type": "code",
   "execution_count": 41,
   "metadata": {},
   "outputs": [
    {
     "output_type": "execute_result",
     "data": {
      "text/plain": [
       "[\" 'accused': 'cheated'\", '']"
      ]
     },
     "metadata": {},
     "execution_count": 41
    }
   ],
   "source": [
    "emotions_list[1]"
   ]
  },
  {
   "cell_type": "code",
   "execution_count": 87,
   "metadata": {},
   "outputs": [],
   "source": [
    "clean_list=[]\n",
    "for i in emotions_list:\n",
    "    row=[]\n",
    "    first=i[0].split(':')\n",
    "    row.append(first[0].replace(\"'\",''))\n",
    "    row.append(first[1].replace(\"'\",''))\n",
    "    clean_list.append(row)"
   ]
  },
  {
   "cell_type": "code",
   "execution_count": 88,
   "metadata": {},
   "outputs": [],
   "source": [
    "emotion_liste=pd.DataFrame(clean_list)"
   ]
  },
  {
   "cell_type": "code",
   "execution_count": 22,
   "metadata": {},
   "outputs": [],
   "source": [
    "emotion_liste.to_csv('emotion.csv',encoding='UTF-8',header=False,index=False)"
   ]
  },
  {
   "cell_type": "code",
   "execution_count": 23,
   "metadata": {},
   "outputs": [],
   "source": [
    "emotion_liste.to_pickle(\"emotion.pkl\")"
   ]
  },
  {
   "cell_type": "code",
   "execution_count": 89,
   "metadata": {},
   "outputs": [],
   "source": [
    "emotion=pd.read_pickle('emotion.pkl')"
   ]
  },
  {
   "cell_type": "code",
   "execution_count": 91,
   "metadata": {},
   "outputs": [
    {
     "data": {
      "text/plain": [
       "' cheated'"
      ]
     },
     "execution_count": 91,
     "metadata": {},
     "output_type": "execute_result"
    }
   ],
   "source": [
    "emotion.iloc[1,1]"
   ]
  },
  {
   "cell_type": "code",
   "execution_count": 25,
   "metadata": {},
   "outputs": [],
   "source": [
    "#Test d'affichage\n",
    "word_children=[]\n",
    "for token in tokens :\n",
    "    word_children.append([child for child in token.children])"
   ]
  },
  {
   "cell_type": "code",
   "execution_count": 82,
   "metadata": {},
   "outputs": [],
   "source": [
    "masque = emotion[0].isin(['sad'])"
   ]
  },
  {
   "cell_type": "code",
   "execution_count": 83,
   "metadata": {},
   "outputs": [
    {
     "data": {
      "text/html": [
       "<div>\n",
       "<style scoped>\n",
       "    .dataframe tbody tr th:only-of-type {\n",
       "        vertical-align: middle;\n",
       "    }\n",
       "\n",
       "    .dataframe tbody tr th {\n",
       "        vertical-align: top;\n",
       "    }\n",
       "\n",
       "    .dataframe thead th {\n",
       "        text-align: right;\n",
       "    }\n",
       "</style>\n",
       "<table border=\"1\" class=\"dataframe\">\n",
       "  <thead>\n",
       "    <tr style=\"text-align: right;\">\n",
       "      <th></th>\n",
       "      <th>0</th>\n",
       "      <th>1</th>\n",
       "    </tr>\n",
       "  </thead>\n",
       "  <tbody>\n",
       "  </tbody>\n",
       "</table>\n",
       "</div>"
      ],
      "text/plain": [
       "Empty DataFrame\n",
       "Columns: [0, 1]\n",
       "Index: []"
      ]
     },
     "execution_count": 83,
     "metadata": {},
     "output_type": "execute_result"
    }
   ],
   "source": [
    "emotion[masque]"
   ]
  },
  {
   "cell_type": "code",
   "execution_count": 79,
   "metadata": {},
   "outputs": [
    {
     "name": "stdout",
     "output_type": "stream",
     "text": [
      "RT\n",
      "if\n",
      "you\n",
      "are\n",
      "sad\n",
      "especially\n",
      "and\n",
      "isolated\n",
      "during\n",
      "distancing\n",
      "social\n",
      "@ratboyfarr\n",
      ":\n",
      "feeling\n",
      ",\n",
      "free\n",
      "!\n",
      "chat\n",
      "to\n",
      "me\n",
      "w/\n",
      "I\n",
      "lifelong\n",
      "severely\n",
      "…\n",
      "a\n"
     ]
    }
   ],
   "source": [
    "for token in tokens :\n",
    "    for i in token.children:\n",
    "        "
   ]
  },
  {
   "cell_type": "code",
   "execution_count": 72,
   "metadata": {},
   "outputs": [
    {
     "data": {
      "text/plain": [
       "[[],\n",
       " [RT],\n",
       " [],\n",
       " [],\n",
       " [],\n",
       " [],\n",
       " [if, you, are, sad],\n",
       " [],\n",
       " [especially, and, isolated],\n",
       " [],\n",
       " [during],\n",
       " [distancing],\n",
       " [],\n",
       " [social],\n",
       " [],\n",
       " [@ratboyfarr, :, feeling, ,, free, !],\n",
       " [chat],\n",
       " [],\n",
       " [to, me],\n",
       " [],\n",
       " [w/],\n",
       " [],\n",
       " [],\n",
       " [I, lifelong, severely, …],\n",
       " [],\n",
       " [a],\n",
       " [],\n",
       " []]"
      ]
     },
     "execution_count": 72,
     "metadata": {},
     "output_type": "execute_result"
    }
   ],
   "source": [
    "word_children"
   ]
  },
  {
   "cell_type": "markdown",
   "metadata": {},
   "source": [
    "# Essaie diagramme Sankey"
   ]
  },
  {
   "cell_type": "code",
   "execution_count": null,
   "metadata": {},
   "outputs": [],
   "source": [
    "#Datas\n",
    "source = [0, 0, 1, 1, 0]\n",
    "target = [2, 3, 4, 5, 4]\n",
    "value = [8, 2, 2, 8, 4]"
   ]
  },
  {
   "cell_type": "code",
   "execution_count": null,
   "metadata": {},
   "outputs": [],
   "source": [
    "source = [\"Tristesse\", \"Joie\",\"Stop\",\"Attention\",\"Airbus\"]\n",
    "target = [\"Joie\", \"Colère\", \"Joie\", \"Trsitesse\", \"Colère\"]\n",
    "value = [8, 2, 2, 8, 4]"
   ]
  },
  {
   "cell_type": "code",
   "execution_count": null,
   "metadata": {},
   "outputs": [],
   "source": [
    "import plotly.graph_objects as go"
   ]
  },
  {
   "cell_type": "code",
   "execution_count": null,
   "metadata": {},
   "outputs": [],
   "source": [
    "link = dict(source = source, target = target, value = value)"
   ]
  },
  {
   "cell_type": "code",
   "execution_count": null,
   "metadata": {},
   "outputs": [],
   "source": [
    "link"
   ]
  },
  {
   "cell_type": "code",
   "execution_count": null,
   "metadata": {},
   "outputs": [],
   "source": [
    "link = dict(source = source, target = target, value = value)\n",
    "data = go.Sankey(link = link)\n",
    "\n",
    "fig = go.Figure(data)\n",
    "\n",
    "fig.show()"
   ]
  },
  {
   "cell_type": "code",
   "execution_count": null,
   "metadata": {},
   "outputs": [],
   "source": [
    "import plotly.graph_objects as go\n",
    "\n",
    "fig = go.Figure(data=[go.Sankey(\n",
    "    node = dict(\n",
    "      pad = 15,\n",
    "      thickness = 20,\n",
    "      line = dict(color = \"black\", width = 0.5),\n",
    "      label = [\"A1\", \"A2\", \"B1\", \"B2\", \"C1\", \"C2\"],\n",
    "      color = \"blue\"\n",
    "    ),\n",
    "    link = dict(\n",
    "      source = [0, 1, 0, 2, 3, 3], # indices correspond to labels, eg A1, A2, A1, B1, ...\n",
    "      target = [2, 3, 3, 4, 4, 5],\n",
    "      value = [8, 4, 2, 8, 4, 2]\n",
    "  ))])\n",
    "\n",
    "fig.update_layout(title_text=\"Basic Sankey Diagram\", font_size=10)\n",
    "fig.show()"
   ]
  },
  {
   "cell_type": "code",
   "execution_count": null,
   "metadata": {
    "scrolled": true
   },
   "outputs": [],
   "source": [
    "import plotly.graph_objects as go\n",
    "import urllib, json\n",
    "\n",
    "url = 'https://raw.githubusercontent.com/plotly/plotly.js/master/test/image/mocks/sankey_energy.json'\n",
    "response = urllib.request.urlopen(url)\n",
    "data = json.loads(response.read())\n",
    "\n",
    "# override gray link colors with 'source' colors\n",
    "opacity = 0.4\n",
    "# change 'magenta' to its 'rgba' value to add opacity\n",
    "data['data'][0]['node']['color'] = ['rgba(255,0,255, 0.8)' if color == \"magenta\" else color for color in data['data'][0]['node']['color']]\n",
    "data['data'][0]['link']['color'] = [data['data'][0]['node']['color'][src].replace(\"0.8\", str(opacity))\n",
    "                                    for src in data['data'][0]['link']['source']]\n",
    "\n",
    "fig = go.Figure(data=[go.Sankey(\n",
    "    valueformat = \".0f\",\n",
    "    valuesuffix = \"TWh\",\n",
    "    # Define nodes\n",
    "    node = dict(\n",
    "      pad = 15,\n",
    "      thickness = 15,\n",
    "      line = dict(color = \"black\", width = 0.5),\n",
    "      label =  data['data'][0]['node']['label'],\n",
    "      color =  data['data'][0]['node']['color']\n",
    "    ),\n",
    "    # Add links\n",
    "    link = dict(\n",
    "      source =  data['data'][0]['link']['source'],\n",
    "      target =  data['data'][0]['link']['target'],\n",
    "      value =  data['data'][0]['link']['value'],\n",
    "      label =  data['data'][0]['link']['label'],\n",
    "      color =  data['data'][0]['link']['color']\n",
    "))])\n",
    "\n",
    "fig.update_layout(title_text=\"Energy forecast for 2050<br>Source: Department of Energy & Climate Change, Tom Counsell via <a href='https://bost.ocks.org/mike/sankey/'>Mike Bostock</a>\",\n",
    "                  font_size=10)\n",
    "fig.show()"
   ]
  },
  {
   "cell_type": "code",
   "execution_count": null,
   "metadata": {},
   "outputs": [],
   "source": [
    "data"
   ]
  }
 ],
 "metadata": {
  "kernelspec": {
   "name": "python385jvsc74a57bd064a96bb099924a20028131b204b5e366cb20d8907c9fcc1768e22fadcfbdb2ca",
   "display_name": "Python 3.8.5 64-bit ('base': conda)"
  },
  "language_info": {
   "codemirror_mode": {
    "name": "ipython",
    "version": 3
   },
   "file_extension": ".py",
   "mimetype": "text/x-python",
   "name": "python",
   "nbconvert_exporter": "python",
   "pygments_lexer": "ipython3",
   "version": "3.8.5"
  }
 },
 "nbformat": 4,
 "nbformat_minor": 4
}